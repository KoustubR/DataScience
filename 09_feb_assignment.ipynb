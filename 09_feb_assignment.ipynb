{
 "cells": [
  {
   "cell_type": "markdown",
   "id": "850e847b-1075-4ec4-9039-60b9df3dde53",
   "metadata": {},
   "source": [
    "1. Create a vehicle class with an init method having instance variables as name_of_vehicle, max_speednand average_of_vehicle."
   ]
  },
  {
   "cell_type": "code",
   "execution_count": 2,
   "id": "bf3317c9-121d-4e92-9f25-a22a7f81dfdc",
   "metadata": {},
   "outputs": [],
   "source": [
    "class vehicle:\n",
    "    \n",
    "    def __init__(self, name_of_vehicle, max_speed, average_of_vehilce):\n",
    "        self.name_of_vehicle = name_of_vehicle\n",
    "        self.max_speed = max_speed\n",
    "        self.average_of_vehilce = average_of_vehilce"
   ]
  },
  {
   "cell_type": "markdown",
   "id": "b289a7d0-3a69-4ba6-8021-bade9e6414e1",
   "metadata": {},
   "source": [
    "2. Create a child class car from the vehicle class created in Que 1, which will inherit the vehicle class. Create a method named seating_capacity which takes capacity as an argument and returns the name of the vehicle and its seating capacity."
   ]
  },
  {
   "cell_type": "code",
   "execution_count": 3,
   "id": "b7a0c006-87fb-458d-bfea-74a191121aad",
   "metadata": {},
   "outputs": [],
   "source": [
    "class car(vehicle):\n",
    "    \n",
    "    def seating_capacity(self, capacity):\n",
    "        return self.name_of_vehicle, capacity"
   ]
  },
  {
   "cell_type": "code",
   "execution_count": 5,
   "id": "f619d856-d2fe-4c8b-a29f-8a273efab8f1",
   "metadata": {},
   "outputs": [],
   "source": [
    "car_obj = car('Mustang', 200, 18)"
   ]
  },
  {
   "cell_type": "code",
   "execution_count": 7,
   "id": "b8eed021-41b8-4fb6-8bef-830a0eac5050",
   "metadata": {},
   "outputs": [
    {
     "data": {
      "text/plain": [
       "('Mustang', 2)"
      ]
     },
     "execution_count": 7,
     "metadata": {},
     "output_type": "execute_result"
    }
   ],
   "source": [
    "car_obj.seating_capacity(2)"
   ]
  },
  {
   "cell_type": "markdown",
   "id": "1a52a0c6-4f2e-4da0-b901-d3111640aae9",
   "metadata": {},
   "source": [
    "3. What is multiple inheritance? Write a python code to demonstrate multiple inheritance."
   ]
  },
  {
   "cell_type": "markdown",
   "id": "71687a9e-63ad-48e1-8de7-3539449830f6",
   "metadata": {},
   "source": [
    "Multiple Inheritance: When a class can be derived from more than one base class this type of inheritance is called multiple inheritances. In multiple inheritances, all the features of the base classes are inherited into the derived class."
   ]
  },
  {
   "cell_type": "code",
   "execution_count": 8,
   "id": "e3e5629b-7591-4aa2-8ff4-1414b3fe05e8",
   "metadata": {},
   "outputs": [
    {
     "name": "stdout",
     "output_type": "stream",
     "text": [
      "parent1 : Father\n",
      "parent2 : Mother\n"
     ]
    }
   ],
   "source": [
    "class parent1:\n",
    "    parent1name = \"\"\n",
    " \n",
    "    def parent1(self):\n",
    "        print(self.parent1name)\n",
    "\n",
    "        \n",
    "class parent2:\n",
    "    parent2name = \"\"\n",
    " \n",
    "    def parent2(self):\n",
    "        print(self.parent2name)\n",
    "\n",
    "\n",
    "class Child(parent1, parent2):\n",
    "    def parents(self):\n",
    "        print(\"parent1 :\", self.parent1name)\n",
    "        print(\"parent2 :\", self.parent2name)\n",
    " \n",
    " \n",
    "s1 = Child()\n",
    "s1.parent1name = \"Father\"\n",
    "s1.parent2name = \"Mother\"\n",
    "s1.parents()"
   ]
  },
  {
   "cell_type": "markdown",
   "id": "cb2ca09f-0f7a-4485-8d37-8bb4f9f72e81",
   "metadata": {},
   "source": [
    "4. What are getter and setter in python? Create a class and create a getter and a setter method in this class."
   ]
  },
  {
   "cell_type": "markdown",
   "id": "c3e5f79f-04ef-4bd0-8b0a-6da7613de602",
   "metadata": {},
   "source": [
    "Getters: These are the methods used in Object-Oriented Programming (OOPS) which helps to access the private attributes from a class.\n",
    "\n",
    "Setters: These are the methods used in OOPS feature which helps to set the value to private attributes in a class."
   ]
  },
  {
   "cell_type": "code",
   "execution_count": 10,
   "id": "a8ecee64-4856-4a41-bfa3-36ab0ba816d4",
   "metadata": {},
   "outputs": [],
   "source": [
    "class get_set:\n",
    "    def __init__(self, param):\n",
    "        self._param = param\n",
    "        \n",
    "    def getter(self):\n",
    "        return self._param\n",
    "    \n",
    "    def setter(self, value):\n",
    "        self._param = value\n",
    "        \n",
    "\n",
    "getset_obj = get_set('param1')"
   ]
  },
  {
   "cell_type": "code",
   "execution_count": 11,
   "id": "6ff45dff-3e1d-463b-b938-5384a0304537",
   "metadata": {},
   "outputs": [
    {
     "data": {
      "text/plain": [
       "'param1'"
      ]
     },
     "execution_count": 11,
     "metadata": {},
     "output_type": "execute_result"
    }
   ],
   "source": [
    "getset_obj.getter()"
   ]
  },
  {
   "cell_type": "code",
   "execution_count": 12,
   "id": "c6ba5950-c0cb-4223-91fe-161881ab77db",
   "metadata": {},
   "outputs": [],
   "source": [
    "getset_obj.setter('new param')"
   ]
  },
  {
   "cell_type": "code",
   "execution_count": 13,
   "id": "cb8d456a-8a55-4394-9e4f-f3668f80ac8d",
   "metadata": {},
   "outputs": [
    {
     "data": {
      "text/plain": [
       "'new param'"
      ]
     },
     "execution_count": 13,
     "metadata": {},
     "output_type": "execute_result"
    }
   ],
   "source": [
    "getset_obj.getter()"
   ]
  },
  {
   "cell_type": "markdown",
   "id": "c4594fca-05a8-4d9a-8882-d493c34274a0",
   "metadata": {},
   "source": [
    "5.What is method overriding in python? Write a python code to demonstrate method overriding."
   ]
  },
  {
   "cell_type": "markdown",
   "id": "64f764e4-1f87-4a75-a9d3-8b887ee044da",
   "metadata": {},
   "source": [
    "Method overriding is a feature of object-oriented programming languages where the subclass or child class can provide the program with specific characteristics or a specific implementation process of data provided that are already defined in the parent class or superclass."
   ]
  },
  {
   "cell_type": "code",
   "execution_count": 14,
   "id": "494896bb-e041-4f17-97a4-df7c39c36cde",
   "metadata": {},
   "outputs": [
    {
     "name": "stdout",
     "output_type": "stream",
     "text": [
      "Inside Parent\n",
      "Inside Child\n"
     ]
    }
   ],
   "source": [
    "class Parent():\n",
    "      \n",
    "    def __init__(self):\n",
    "        self.value = \"Inside Parent\"\n",
    "          \n",
    "    def show(self):\n",
    "        print(self.value)\n",
    "          \n",
    "\n",
    "class Child(Parent):\n",
    "      \n",
    "    def __init__(self):\n",
    "        self.value = \"Inside Child\"\n",
    "          \n",
    "    def show(self):\n",
    "        print(self.value)\n",
    "          \n",
    "          \n",
    "        \n",
    "par_obj = Parent()\n",
    "chi_obj = Child()  \n",
    "par_obj.show()\n",
    "chi_obj.show()"
   ]
  }
 ],
 "metadata": {
  "kernelspec": {
   "display_name": "Python 3 (ipykernel)",
   "language": "python",
   "name": "python3"
  },
  "language_info": {
   "codemirror_mode": {
    "name": "ipython",
    "version": 3
   },
   "file_extension": ".py",
   "mimetype": "text/x-python",
   "name": "python",
   "nbconvert_exporter": "python",
   "pygments_lexer": "ipython3",
   "version": "3.10.8"
  }
 },
 "nbformat": 4,
 "nbformat_minor": 5
}
