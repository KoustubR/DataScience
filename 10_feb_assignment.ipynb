{
 "cells": [
  {
   "cell_type": "markdown",
   "id": "07a4ef02",
   "metadata": {},
   "source": [
    "#### 1. Which function is used to open a file? What are the different modes of opening a file? Explain each mode of file opening."
   ]
  },
  {
   "cell_type": "markdown",
   "id": "6a1ffe92",
   "metadata": {},
   "source": [
    "The Python programming language has various functions and statements for working with a file. The open() function is used to open a file in python.\n",
    "\n",
    "Syntax:\n",
    "\n",
    "file = open('filename.txt', .......)"
   ]
  },
  {
   "cell_type": "markdown",
   "id": "1ebb45e5",
   "metadata": {},
   "source": [
    "The different modes for opening a file in python are:\n",
    "\n",
    "'r'\tOpen a file for reading. (default)\n",
    "\n",
    "'w'\tOpen a file for writing. Creates a new file if it does not exist or truncates the file if it exists.\n",
    "\n",
    "'x'\tOpen a file for exclusive creation. If the file already exists, the operation fails.\n",
    "\n",
    "'a'\tOpen for appending at the end of the file without truncating it. Creates a new file if it does not exist.\n",
    "\n",
    "'t'\tOpen in text mode. (default)\n",
    "\n",
    "'b'\tOpen in binary mode.\n",
    "\n",
    "'+'\tOpen a file for updating (reading and writing)"
   ]
  },
  {
   "cell_type": "markdown",
   "id": "18c2db63",
   "metadata": {},
   "source": [
    "#### 2. Why close() function is used? Why is it important to close a file?"
   ]
  },
  {
   "cell_type": "markdown",
   "id": "10b67518",
   "metadata": {},
   "source": [
    "The close() method is used to close an open file.\n",
    "\n",
    "It is important to close the file because the changes made to a file may not show until you close the file."
   ]
  },
  {
   "cell_type": "markdown",
   "id": "832d13ae",
   "metadata": {},
   "source": [
    "#### 3. Write a python program to create a text file. Write ‘I want to become a Data Scientist’ in that file. Then close the file. Open this file and read the content of the file."
   ]
  },
  {
   "cell_type": "code",
   "execution_count": 1,
   "id": "5ba6e9eb",
   "metadata": {},
   "outputs": [],
   "source": [
    "file = open('assignment.txt', mode = 'w')\n",
    "file.write('I want to become a Data Scientist')\n",
    "file.close()"
   ]
  },
  {
   "cell_type": "code",
   "execution_count": 2,
   "id": "15449cc3",
   "metadata": {},
   "outputs": [
    {
     "data": {
      "text/plain": [
       "'I want to become a Data Scientist'"
      ]
     },
     "execution_count": 2,
     "metadata": {},
     "output_type": "execute_result"
    }
   ],
   "source": [
    "data = open('assignment.txt', mode = 'r')\n",
    "data.read()"
   ]
  },
  {
   "cell_type": "markdown",
   "id": "ac1e6e13",
   "metadata": {},
   "source": [
    "#### 4. Explain the following with python code: read(), readline() and readlines()."
   ]
  },
  {
   "cell_type": "markdown",
   "id": "b05a118e",
   "metadata": {},
   "source": [
    "file.read(n)\n",
    "\n",
    "Reads and returns a string of n characters, or the entire file as a single string if n is not provided."
   ]
  },
  {
   "cell_type": "markdown",
   "id": "18cbccc4",
   "metadata": {},
   "source": [
    "file.readline(n)\n",
    "\n",
    "Returns the next line of the file with all text up to and including the newline character. If n is provided as a parameter than only n characters will be returned if the line is longer than n."
   ]
  },
  {
   "cell_type": "markdown",
   "id": "ab1665b2",
   "metadata": {},
   "source": [
    "file.readlines(n)\n",
    "\n",
    "Returns a list of strings, each representing a single line of the file. If n is not provided then all lines of the file are returned. If n is provided then n characters are read but n is rounded up so that an entire line is returned."
   ]
  },
  {
   "cell_type": "markdown",
   "id": "fa4a3451",
   "metadata": {},
   "source": [
    "#### 5. Explain why with statement is used with open(). What is the advantage of using with statement and open() together?"
   ]
  },
  {
   "cell_type": "markdown",
   "id": "ca935826",
   "metadata": {},
   "source": [
    "In Python, with statement is used in exception handling to make the code cleaner and much more readable. It simplifies the management of common resources like file streams. \n",
    "\n",
    "There is no need to call file.close() when using with statement. The with statement itself ensures proper acquisition and release of resources."
   ]
  },
  {
   "cell_type": "markdown",
   "id": "64d18a5a",
   "metadata": {},
   "source": [
    "#### 6. Explain the write() and writelines() functions. Give a suitable example."
   ]
  },
  {
   "cell_type": "markdown",
   "id": "d213abd4",
   "metadata": {},
   "source": [
    "The write() function will write the content in the file without adding any extra characters."
   ]
  },
  {
   "cell_type": "code",
   "execution_count": 4,
   "id": "17836f73",
   "metadata": {},
   "outputs": [
    {
     "name": "stdout",
     "output_type": "stream",
     "text": [
      "Enter the name of the employee: Koustub\n",
      "Enter the name of the employee: Prashanth\n",
      "Enter the name of the employee: Harish\n"
     ]
    }
   ],
   "source": [
    "file = open(\"Employees.txt\", \"w\")\n",
    "  \n",
    "for i in range(3):\n",
    "   name = input(\"Enter the name of the employee: \")\n",
    "   file.write(name)\n",
    "   file.write(\"\\n\")\n",
    "     \n",
    "file.close()"
   ]
  },
  {
   "cell_type": "code",
   "execution_count": 5,
   "id": "7190eefb",
   "metadata": {},
   "outputs": [
    {
     "name": "stdout",
     "output_type": "stream",
     "text": [
      "Koustub\n",
      "Prashanth\n",
      "Harish\n",
      "\n"
     ]
    }
   ],
   "source": [
    "with open('Employees.txt', 'r') as f:\n",
    "    print(f.read())"
   ]
  },
  {
   "cell_type": "markdown",
   "id": "def722ac",
   "metadata": {},
   "source": [
    "The writelines() function writes the content of a list to a file."
   ]
  },
  {
   "cell_type": "code",
   "execution_count": 6,
   "id": "2b8275a1",
   "metadata": {},
   "outputs": [
    {
     "name": "stdout",
     "output_type": "stream",
     "text": [
      "Enter the name of the employee: Koustub\n",
      "Enter the name of the employee: Prashanth\n",
      "Enter the name of the employee: Harish\n"
     ]
    }
   ],
   "source": [
    "file1 = open(\"Employees.txt\", \"w\")\n",
    "lst = []\n",
    "for i in range(3):\n",
    "    name = input(\"Enter the name of the employee: \")\n",
    "    lst.append(name + '\\n')\n",
    "      \n",
    "file1.writelines(lst)\n",
    "file1.close()"
   ]
  },
  {
   "cell_type": "code",
   "execution_count": 7,
   "id": "713a02b1",
   "metadata": {},
   "outputs": [
    {
     "name": "stdout",
     "output_type": "stream",
     "text": [
      "Koustub\n",
      "Prashanth\n",
      "Harish\n",
      "\n"
     ]
    }
   ],
   "source": [
    "with open('Employees.txt', 'r') as f:\n",
    "    print(f.read())"
   ]
  }
 ],
 "metadata": {
  "kernelspec": {
   "display_name": "Python 3 (ipykernel)",
   "language": "python",
   "name": "python3"
  },
  "language_info": {
   "codemirror_mode": {
    "name": "ipython",
    "version": 3
   },
   "file_extension": ".py",
   "mimetype": "text/x-python",
   "name": "python",
   "nbconvert_exporter": "python",
   "pygments_lexer": "ipython3",
   "version": "3.9.12"
  }
 },
 "nbformat": 4,
 "nbformat_minor": 5
}
