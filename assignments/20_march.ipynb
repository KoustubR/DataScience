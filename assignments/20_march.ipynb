{
 "cells": [
  {
   "cell_type": "markdown",
   "metadata": {},
   "source": [
    "### Koustub R"
   ]
  },
  {
   "cell_type": "markdown",
   "metadata": {},
   "source": [
    "## Question 1 : What is data encoding? How is it useful in data science?\n",
    "---"
   ]
  },
  {
   "cell_type": "markdown",
   "metadata": {},
   "source": [
    "## Answer :"
   ]
  },
  {
   "cell_type": "markdown",
   "metadata": {},
   "source": [
    "### 1. Data encoding is the process of converting data from one form to another. In machine learning, data encoding is used to convert categorical data into numerical data so that it can be used in machine learning models. There are two popular techniques for encoding categorical data: Ordinal Encoding and One-Hot Encoding.\n",
    "\n",
    "### 2. Categorical data is data that is divided into categories or groups, such as colors, shapes, or sizes. Machine learning models cannot work with categorical data directly, so it needs to be converted into numerical data.\n",
    "\n",
    "### 3. Ordinal encoding is a process of converting categorical data into integer format so that the data with converted categorical values can be provided to the models to give and improve the predictions. \n",
    "\n",
    "### 4. One-hot encoding is a process of converting categorical data into binary format so that the data with converted categorical values can be provided to the models to give and improve the predictions.\n",
    "\n",
    "### 5. Data encoding is useful in data science because it helps to convert categorical data into numerical data, which can be used in machine learning models. This helps to improve the accuracy of the models and make them more efficient."
   ]
  },
  {
   "cell_type": "markdown",
   "metadata": {},
   "source": [
    "## Question 2: What is nominal encoding? Provide an example of how you would use it in a real-world scenario.\n",
    "---"
   ]
  },
  {
   "cell_type": "markdown",
   "metadata": {},
   "source": [
    "## Answer :"
   ]
  },
  {
   "cell_type": "markdown",
   "metadata": {},
   "source": [
    "### 1. Nominal encoding is a type of data encoding that is used to convert categorical data into numerical data. Nominal data is data that does not have an inherent order, such as colors, names, or categories\n",
    "\n",
    "### 2. An example of how nominal encoding can be used in a real-world scenario is in the analysis of customer data. Suppose a company has a customer database that includes information such as the customer’s name, age, gender, and location. The location data is nominal data because it does not have an inherent order. To use this data in a machine learning model, the location data needs to be converted into numerical data using nominal encoding.\n",
    "\n",
    "### 3. One way to do this is to use one-hot encoding, which creates a new binary feature for each category in the nominal data. For example, if the location data includes categories such as “New York,” “Los Angeles,” and “Chicago,” then one-hot encoding would create three new binary features, one for each category.\n",
    "\n",
    "### 4. Nominal encoding is useful in data science because it helps to convert categorical data into numerical data, which can be used in machine learning models."
   ]
  },
  {
   "cell_type": "markdown",
   "metadata": {},
   "source": [
    "### Example of One Hot Encoding below"
   ]
  },
  {
   "cell_type": "markdown",
   "metadata": {},
   "source": [
    "![One Hot Encoding](https://cdn-images-1.medium.com/v2/resize:fill:1600:480/gravity:fp:0.5:0.4/1*ggtP4a5YaRx6l09KQaYOnw.png)"
   ]
  },
  {
   "cell_type": "markdown",
   "metadata": {},
   "source": [
    "## Question 3 : In what situations is nominal encoding preferred over one-hot encoding? Provide a practical example\n",
    "---"
   ]
  },
  {
   "cell_type": "markdown",
   "metadata": {},
   "source": [
    "## Answer :"
   ]
  },
  {
   "cell_type": "markdown",
   "metadata": {},
   "source": [
    "### Incorrect question asked here one-hot encoding is a process to encode nominal categorical variables which do not have ranks."
   ]
  },
  {
   "cell_type": "markdown",
   "metadata": {},
   "source": [
    "### Correct Question is When is ORDINAL Encoding preffered over One-Hot-Encoding"
   ]
  },
  {
   "cell_type": "markdown",
   "metadata": {},
   "source": [
    "### 1. Ordinal encoding is preferred over one-hot encoding when the categorical variable has a natural order or ranking. For example, in the context of machine learning, ordinal encoding can be used to encode the education level of a person, where the education level has a natural order such as “high school”, “bachelor’s degree”, “master’s degree”, and \"doctorate degree\".\n",
    "\n",
    "### 2. One-hot encoding is preferred when the categorical variable has no natural order or ranking. For example, in the context of machine learning, one-hot encoding can be used to encode the color of a car, where the colors have no natural order or ranking\n",
    "\n",
    "### 3. It is important to note that forcing an ordinal relationship via an ordinal encoding and allowing the model to assume a natural ordering between categories may result in poor performance or unexpected results (predictions halfway between categories)."
   ]
  },
  {
   "cell_type": "markdown",
   "metadata": {},
   "source": [
    "|Type of Encoding |\tExample\t       | Description |\n",
    "|:---------------:|:---------------|:----------|\n",
    "|Ordinal Encoding |\tEducation level|Used when the categorical variable has a natural order or ranking |\n",
    "|One-Hot Encoding |\tCar color      |Used when the categorical variable has no natural|"
   ]
  },
  {
   "attachments": {
    "Categorical_encoding.png": {
     "image/png": "[encoded data removed]"
    }
   },
   "cell_type": "markdown",
   "metadata": {},
   "source": [
    "![Categorical_encoding.png](attachment:Categorical_encoding.png)"
   ]
  },
  {
   "cell_type": "markdown",
   "metadata": {},
   "source": [
    "## Question 4 : Suppose you have a dataset containing categorical data with 5 unique values. Which encoding technique would you use to transform this data into a format suitable for machine learning algorithms? Explain why you made this choice.\n",
    "---"
   ]
  },
  {
   "cell_type": "markdown",
   "metadata": {},
   "source": [
    "## Answer :"
   ]
  },
  {
   "cell_type": "markdown",
   "metadata": {},
   "source": [
    "### 1. If I have a dataset containing categorical data with 5 unique values, I can use either ordinal encoding or one-hot encoding to transform this data into a format suitable for machine learning algorithms.\n",
    "\n",
    "### 2. If the categorical variable has a natural order or ranking, then ordinal encoding can be used. If the categorical variable has no natural order or ranking, then one-hot encoding can be used.\n",
    "\n",
    "### 3. In general, one-hot encoding is preferred over ordinal encoding because it does not assume any ordinal relationship between the categories and can be used for categorical variables with any number of unique values. However, one-hot encoding can lead to the curse of dimensionality if the number of unique values is very large.\n",
    "\n",
    "### 4. Ordinal encoding is preferred when the number of unique values is large and one-hot encoding would lead to the curse of dimensionality."
   ]
  },
  {
   "cell_type": "markdown",
   "metadata": {},
   "source": [
    "## Question 5 : In a machine learning project, you have a dataset with 1000 rows and 5 columns. Two of the columns are categorical, and the remaining three columns are numerical. If you were to use nominal encoding to transform the categorical data, how many new columns would be created? Show your calculations.\n",
    "---"
   ]
  },
  {
   "cell_type": "markdown",
   "metadata": {},
   "source": [
    "## Answer :"
   ]
  },
  {
   "cell_type": "markdown",
   "metadata": {},
   "source": [
    "### 1. If I want to use nominal encoding to transform the categorical data, I would create a new column for each unique value in the categorical columns.\n",
    "\n",
    "### 2. Let’s assume that the first categorical column has 12 unique values and the second categorical column has 5 unique values. Then, nominal encoding/one-hot encoding would create 12 + 5 = 17 new columns.\n",
    "\n",
    "### 3. In general, if the first categorical column has n unique values and the second categorical column has m unique values, then nominal encoding would create n + m new columns."
   ]
  },
  {
   "cell_type": "markdown",
   "metadata": {},
   "source": [
    "## Question 6 : You are working with a dataset containing information about different types of animals, including their species, habitat, and diet. Which encoding technique would you use to transform the categorical data into a format suitable for machine learning algorithms? Justify your answer\n",
    "---"
   ]
  },
  {
   "cell_type": "markdown",
   "metadata": {},
   "source": [
    "## Answer :"
   ]
  },
  {
   "cell_type": "markdown",
   "metadata": {},
   "source": [
    "### 1. It is observed that variables `species` , `habitat` and `diet` are **NOMINAL** features with no natural order or ranking.\n",
    "\n",
    "### 2. If the categorical variable has no natural order or ranking, then one-hot encoding can be used.\n",
    "\n",
    "### 3. Hence One-Hot Encoding would be preffered in above case."
   ]
  },
  {
   "cell_type": "markdown",
   "metadata": {},
   "source": [
    "## Question 7 : You are working on a project that involves predicting customer churn for a telecommunications company. You have a dataset with 5 features, including the customer's gender, age, contract type, monthly charges, and tenure. Which encoding technique(s) would you use to transform the categorical data into numerical data? Provide a step-by-step explanation of how you would implement the encoding.\n",
    "---"
   ]
  },
  {
   "cell_type": "markdown",
   "metadata": {},
   "source": [
    "## Answer :"
   ]
  },
  {
   "cell_type": "markdown",
   "metadata": {},
   "source": [
    "### To transform the categorical data in the customer churn dataset into numerical data, you can use either ordinal encoding or one-hot encoding.\n",
    "\n",
    "### If the categorical variable has a natural order or ranking, then ordinal encoding can be used. For example, if the dataset contains information about the contract type of the customers, such as “month-to-month”, “one year”, and “two year”, then ordinal encoding can be used to encode this information.\n",
    "\n",
    "### If the categorical variable has no natural order or ranking, then one-hot encoding can be used. For example, if the dataset contains information about the gender of the customers, such as “male” and “female”, then one-hot encoding can be used to encode this information.\n",
    "\n",
    "### Here are the steps to implement this encoding:\n",
    "\n",
    "1. Identify the categorical variables in the dataset. In this case, the categorical variables are the customer’s gender and contract type.\n",
    "\n",
    "2. Seperate Nominal and Ordinal Variables. In this case Gender is an Nominal variable, while contract type is ordinal variable.\n",
    "\n",
    "3. Apply One Hot Encoding to Nominal Variable in this case Gender Variable.\n",
    "\n",
    "4. Apply Ordinal Encoding to Ordinal Variable in this case contract type variable.\n",
    "\n",
    "5. Scale Numerical data using StandardScaler \n",
    "\n",
    "6. Combine all 3 encoding into single dataframe\n",
    "\n",
    "7. Data is now ready for machine learning model"
   ]
  },
  {
   "cell_type": "markdown",
   "metadata": {},
   "source": [
    "### Creating an example dataset for above and providing how to perform above in python."
   ]
  },
  {
   "cell_type": "code",
   "execution_count": 1,
   "metadata": {},
   "outputs": [
    {
     "data": {
      "text/html": [
       "<div>\n",
       "<style scoped>\n",
       "    .dataframe tbody tr th:only-of-type {\n",
       "        vertical-align: middle;\n",
       "    }\n",
       "\n",
       "    .dataframe tbody tr th {\n",
       "        vertical-align: top;\n",
       "    }\n",
       "\n",
       "    .dataframe thead th {\n",
       "        text-align: right;\n",
       "    }\n",
       "</style>\n",
       "<table border=\"1\" class=\"dataframe\">\n",
       "  <thead>\n",
       "    <tr style=\"text-align: right;\">\n",
       "      <th></th>\n",
       "      <th>gender</th>\n",
       "      <th>age</th>\n",
       "      <th>contract</th>\n",
       "      <th>monthly_charges</th>\n",
       "      <th>tenure</th>\n",
       "      <th>churn</th>\n",
       "    </tr>\n",
       "  </thead>\n",
       "  <tbody>\n",
       "    <tr>\n",
       "      <th>0</th>\n",
       "      <td>Female</td>\n",
       "      <td>34</td>\n",
       "      <td>yearly</td>\n",
       "      <td>1042.202157</td>\n",
       "      <td>25</td>\n",
       "      <td>1</td>\n",
       "    </tr>\n",
       "    <tr>\n",
       "      <th>1</th>\n",
       "      <td>Female</td>\n",
       "      <td>36</td>\n",
       "      <td>half yearly</td>\n",
       "      <td>966.337735</td>\n",
       "      <td>12</td>\n",
       "      <td>1</td>\n",
       "    </tr>\n",
       "    <tr>\n",
       "      <th>2</th>\n",
       "      <td>Female</td>\n",
       "      <td>30</td>\n",
       "      <td>yearly</td>\n",
       "      <td>1165.040177</td>\n",
       "      <td>16</td>\n",
       "      <td>0</td>\n",
       "    </tr>\n",
       "    <tr>\n",
       "      <th>3</th>\n",
       "      <td>Female</td>\n",
       "      <td>44</td>\n",
       "      <td>quarterly</td>\n",
       "      <td>1002.266319</td>\n",
       "      <td>35</td>\n",
       "      <td>0</td>\n",
       "    </tr>\n",
       "    <tr>\n",
       "      <th>4</th>\n",
       "      <td>Male</td>\n",
       "      <td>53</td>\n",
       "      <td>half yearly</td>\n",
       "      <td>1043.851952</td>\n",
       "      <td>16</td>\n",
       "      <td>1</td>\n",
       "    </tr>\n",
       "  </tbody>\n",
       "</table>\n",
       "</div>"
      ],
      "text/plain": [
       "   gender  age     contract  monthly_charges  tenure  churn\n",
       "0  Female   34       yearly      1042.202157      25      1\n",
       "1  Female   36  half yearly       966.337735      12      1\n",
       "2  Female   30       yearly      1165.040177      16      0\n",
       "3  Female   44    quarterly      1002.266319      35      0\n",
       "4    Male   53  half yearly      1043.851952      16      1"
      ]
     },
     "execution_count": 1,
     "metadata": {},
     "output_type": "execute_result"
    }
   ],
   "source": [
    "# Generating Synthetic Dataset for above variables\n",
    "import numpy as np\n",
    "import pandas as pd\n",
    "\n",
    "# Setting random seed \n",
    "np.random.seed(543)\n",
    "n = 1000 # dataset size\n",
    "gender = np.random.choice(['Male','Female'],size=n)\n",
    "age = np.random.randint(low=25, high=65, size=n)\n",
    "contract = np.random.choice(['monthly','quarterly','half yearly','yearly'], size=n)\n",
    "monthly_charges = np.random.normal(loc=1000, scale=100,size=n)\n",
    "tenure = np.random.randint(low=12, high=36, size=n)\n",
    "churn = np.random.choice([1,0], p=[0.2,0.8], size=n)\n",
    "\n",
    "# Creating dictionary\n",
    "dct = {\n",
    "    'gender':gender,\n",
    "    'age':age,\n",
    "    'contract':contract,\n",
    "    'monthly_charges':monthly_charges,\n",
    "    'tenure':tenure,\n",
    "    'churn':churn\n",
    "}\n",
    "\n",
    "# Creating Dataframe\n",
    "df = pd.DataFrame(dct)\n",
    "df.head()"
   ]
  },
  {
   "cell_type": "code",
   "execution_count": 2,
   "metadata": {},
   "outputs": [],
   "source": [
    "# Seperating X and Y\n",
    "X = df.drop(labels=['churn'],axis=1)\n",
    "Y = df[['churn']]"
   ]
  },
  {
   "cell_type": "code",
   "execution_count": 3,
   "metadata": {},
   "outputs": [
    {
     "data": {
      "text/html": [
       "<div>\n",
       "<style scoped>\n",
       "    .dataframe tbody tr th:only-of-type {\n",
       "        vertical-align: middle;\n",
       "    }\n",
       "\n",
       "    .dataframe tbody tr th {\n",
       "        vertical-align: top;\n",
       "    }\n",
       "\n",
       "    .dataframe thead th {\n",
       "        text-align: right;\n",
       "    }\n",
       "</style>\n",
       "<table border=\"1\" class=\"dataframe\">\n",
       "  <thead>\n",
       "    <tr style=\"text-align: right;\">\n",
       "      <th></th>\n",
       "      <th>gender_Female</th>\n",
       "      <th>gender_Male</th>\n",
       "    </tr>\n",
       "  </thead>\n",
       "  <tbody>\n",
       "    <tr>\n",
       "      <th>0</th>\n",
       "      <td>1.0</td>\n",
       "      <td>0.0</td>\n",
       "    </tr>\n",
       "    <tr>\n",
       "      <th>1</th>\n",
       "      <td>1.0</td>\n",
       "      <td>0.0</td>\n",
       "    </tr>\n",
       "    <tr>\n",
       "      <th>2</th>\n",
       "      <td>1.0</td>\n",
       "      <td>0.0</td>\n",
       "    </tr>\n",
       "    <tr>\n",
       "      <th>3</th>\n",
       "      <td>1.0</td>\n",
       "      <td>0.0</td>\n",
       "    </tr>\n",
       "    <tr>\n",
       "      <th>4</th>\n",
       "      <td>0.0</td>\n",
       "      <td>1.0</td>\n",
       "    </tr>\n",
       "  </tbody>\n",
       "</table>\n",
       "</div>"
      ],
      "text/plain": [
       "   gender_Female  gender_Male\n",
       "0            1.0          0.0\n",
       "1            1.0          0.0\n",
       "2            1.0          0.0\n",
       "3            1.0          0.0\n",
       "4            0.0          1.0"
      ]
     },
     "execution_count": 3,
     "metadata": {},
     "output_type": "execute_result"
    }
   ],
   "source": [
    "# Performing one hot encoding on gender column\n",
    "from sklearn.preprocessing import OneHotEncoder\n",
    "ohe = OneHotEncoder()\n",
    "gender_ohe = ohe.fit_transform(X[['gender']]).toarray()\n",
    "# Get the DataFrame\n",
    "X_gender = pd.DataFrame(gender_ohe,columns=ohe.get_feature_names_out())\n",
    "X_gender.head()"
   ]
  },
  {
   "cell_type": "code",
   "execution_count": 4,
   "metadata": {},
   "outputs": [
    {
     "data": {
      "text/html": [
       "<div>\n",
       "<style scoped>\n",
       "    .dataframe tbody tr th:only-of-type {\n",
       "        vertical-align: middle;\n",
       "    }\n",
       "\n",
       "    .dataframe tbody tr th {\n",
       "        vertical-align: top;\n",
       "    }\n",
       "\n",
       "    .dataframe thead th {\n",
       "        text-align: right;\n",
       "    }\n",
       "</style>\n",
       "<table border=\"1\" class=\"dataframe\">\n",
       "  <thead>\n",
       "    <tr style=\"text-align: right;\">\n",
       "      <th></th>\n",
       "      <th>contract</th>\n",
       "    </tr>\n",
       "  </thead>\n",
       "  <tbody>\n",
       "    <tr>\n",
       "      <th>0</th>\n",
       "      <td>3.0</td>\n",
       "    </tr>\n",
       "    <tr>\n",
       "      <th>1</th>\n",
       "      <td>2.0</td>\n",
       "    </tr>\n",
       "    <tr>\n",
       "      <th>2</th>\n",
       "      <td>3.0</td>\n",
       "    </tr>\n",
       "    <tr>\n",
       "      <th>3</th>\n",
       "      <td>1.0</td>\n",
       "    </tr>\n",
       "    <tr>\n",
       "      <th>4</th>\n",
       "      <td>2.0</td>\n",
       "    </tr>\n",
       "  </tbody>\n",
       "</table>\n",
       "</div>"
      ],
      "text/plain": [
       "   contract\n",
       "0       3.0\n",
       "1       2.0\n",
       "2       3.0\n",
       "3       1.0\n",
       "4       2.0"
      ]
     },
     "execution_count": 4,
     "metadata": {},
     "output_type": "execute_result"
    }
   ],
   "source": [
    "# Performing ordinal encoding on Contract type\n",
    "from sklearn.preprocessing import OrdinalEncoder\n",
    "ord_enc = OrdinalEncoder(categories=[['monthly','quarterly','half yearly','yearly']])\n",
    "# Getting ordinal dataframe\n",
    "contract_encoded = ord_enc.fit_transform(X[['contract']]).flatten()\n",
    "X_contract = pd.DataFrame(contract_encoded,columns=['contract'])\n",
    "X_contract.head()"
   ]
  },
  {
   "cell_type": "code",
   "execution_count": 5,
   "metadata": {},
   "outputs": [
    {
     "data": {
      "text/html": [
       "<div>\n",
       "<style scoped>\n",
       "    .dataframe tbody tr th:only-of-type {\n",
       "        vertical-align: middle;\n",
       "    }\n",
       "\n",
       "    .dataframe tbody tr th {\n",
       "        vertical-align: top;\n",
       "    }\n",
       "\n",
       "    .dataframe thead th {\n",
       "        text-align: right;\n",
       "    }\n",
       "</style>\n",
       "<table border=\"1\" class=\"dataframe\">\n",
       "  <thead>\n",
       "    <tr style=\"text-align: right;\">\n",
       "      <th></th>\n",
       "      <th>age</th>\n",
       "      <th>monthly_charges</th>\n",
       "      <th>tenure</th>\n",
       "    </tr>\n",
       "  </thead>\n",
       "  <tbody>\n",
       "    <tr>\n",
       "      <th>0</th>\n",
       "      <td>34</td>\n",
       "      <td>1042.202157</td>\n",
       "      <td>25</td>\n",
       "    </tr>\n",
       "    <tr>\n",
       "      <th>1</th>\n",
       "      <td>36</td>\n",
       "      <td>966.337735</td>\n",
       "      <td>12</td>\n",
       "    </tr>\n",
       "    <tr>\n",
       "      <th>2</th>\n",
       "      <td>30</td>\n",
       "      <td>1165.040177</td>\n",
       "      <td>16</td>\n",
       "    </tr>\n",
       "    <tr>\n",
       "      <th>3</th>\n",
       "      <td>44</td>\n",
       "      <td>1002.266319</td>\n",
       "      <td>35</td>\n",
       "    </tr>\n",
       "    <tr>\n",
       "      <th>4</th>\n",
       "      <td>53</td>\n",
       "      <td>1043.851952</td>\n",
       "      <td>16</td>\n",
       "    </tr>\n",
       "  </tbody>\n",
       "</table>\n",
       "</div>"
      ],
      "text/plain": [
       "   age  monthly_charges  tenure\n",
       "0   34      1042.202157      25\n",
       "1   36       966.337735      12\n",
       "2   30      1165.040177      16\n",
       "3   44      1002.266319      35\n",
       "4   53      1043.851952      16"
      ]
     },
     "execution_count": 5,
     "metadata": {},
     "output_type": "execute_result"
    }
   ],
   "source": [
    "# Getting numeric variables\n",
    "X_numeric = X.select_dtypes(exclude='object')\n",
    "X_numeric.head()"
   ]
  },
  {
   "cell_type": "code",
   "execution_count": 6,
   "metadata": {},
   "outputs": [
    {
     "data": {
      "text/html": [
       "<div>\n",
       "<style scoped>\n",
       "    .dataframe tbody tr th:only-of-type {\n",
       "        vertical-align: middle;\n",
       "    }\n",
       "\n",
       "    .dataframe tbody tr th {\n",
       "        vertical-align: top;\n",
       "    }\n",
       "\n",
       "    .dataframe thead th {\n",
       "        text-align: right;\n",
       "    }\n",
       "</style>\n",
       "<table border=\"1\" class=\"dataframe\">\n",
       "  <thead>\n",
       "    <tr style=\"text-align: right;\">\n",
       "      <th></th>\n",
       "      <th>age</th>\n",
       "      <th>monthly_charges</th>\n",
       "      <th>tenure</th>\n",
       "      <th>contract</th>\n",
       "      <th>gender_Female</th>\n",
       "      <th>gender_Male</th>\n",
       "    </tr>\n",
       "  </thead>\n",
       "  <tbody>\n",
       "    <tr>\n",
       "      <th>0</th>\n",
       "      <td>34</td>\n",
       "      <td>1042.202157</td>\n",
       "      <td>25</td>\n",
       "      <td>3.0</td>\n",
       "      <td>1.0</td>\n",
       "      <td>0.0</td>\n",
       "    </tr>\n",
       "    <tr>\n",
       "      <th>1</th>\n",
       "      <td>36</td>\n",
       "      <td>966.337735</td>\n",
       "      <td>12</td>\n",
       "      <td>2.0</td>\n",
       "      <td>1.0</td>\n",
       "      <td>0.0</td>\n",
       "    </tr>\n",
       "    <tr>\n",
       "      <th>2</th>\n",
       "      <td>30</td>\n",
       "      <td>1165.040177</td>\n",
       "      <td>16</td>\n",
       "      <td>3.0</td>\n",
       "      <td>1.0</td>\n",
       "      <td>0.0</td>\n",
       "    </tr>\n",
       "    <tr>\n",
       "      <th>3</th>\n",
       "      <td>44</td>\n",
       "      <td>1002.266319</td>\n",
       "      <td>35</td>\n",
       "      <td>1.0</td>\n",
       "      <td>1.0</td>\n",
       "      <td>0.0</td>\n",
       "    </tr>\n",
       "    <tr>\n",
       "      <th>4</th>\n",
       "      <td>53</td>\n",
       "      <td>1043.851952</td>\n",
       "      <td>16</td>\n",
       "      <td>2.0</td>\n",
       "      <td>0.0</td>\n",
       "      <td>1.0</td>\n",
       "    </tr>\n",
       "  </tbody>\n",
       "</table>\n",
       "</div>"
      ],
      "text/plain": [
       "   age  monthly_charges  tenure  contract  gender_Female  gender_Male\n",
       "0   34      1042.202157      25       3.0            1.0          0.0\n",
       "1   36       966.337735      12       2.0            1.0          0.0\n",
       "2   30      1165.040177      16       3.0            1.0          0.0\n",
       "3   44      1002.266319      35       1.0            1.0          0.0\n",
       "4   53      1043.851952      16       2.0            0.0          1.0"
      ]
     },
     "execution_count": 6,
     "metadata": {},
     "output_type": "execute_result"
    }
   ],
   "source": [
    "# Concatenating all 3 variables Nominal, Ordinal and Numerical\n",
    "X_encoded = pd.concat([X_numeric,X_contract,X_gender],axis=1)\n",
    "X_encoded.head()"
   ]
  },
  {
   "cell_type": "code",
   "execution_count": 8,
   "metadata": {},
   "outputs": [
    {
     "data": {
      "text/html": [
       "<div>\n",
       "<style scoped>\n",
       "    .dataframe tbody tr th:only-of-type {\n",
       "        vertical-align: middle;\n",
       "    }\n",
       "\n",
       "    .dataframe tbody tr th {\n",
       "        vertical-align: top;\n",
       "    }\n",
       "\n",
       "    .dataframe thead th {\n",
       "        text-align: right;\n",
       "    }\n",
       "</style>\n",
       "<table border=\"1\" class=\"dataframe\">\n",
       "  <thead>\n",
       "    <tr style=\"text-align: right;\">\n",
       "      <th></th>\n",
       "      <th>age</th>\n",
       "      <th>monthly_charges</th>\n",
       "      <th>tenure</th>\n",
       "      <th>contract</th>\n",
       "      <th>gender_Female</th>\n",
       "      <th>gender_Male</th>\n",
       "    </tr>\n",
       "  </thead>\n",
       "  <tbody>\n",
       "    <tr>\n",
       "      <th>0</th>\n",
       "      <td>-0.897852</td>\n",
       "      <td>0.446463</td>\n",
       "      <td>0.244225</td>\n",
       "      <td>1.354668</td>\n",
       "      <td>0.992032</td>\n",
       "      <td>-0.992032</td>\n",
       "    </tr>\n",
       "    <tr>\n",
       "      <th>1</th>\n",
       "      <td>-0.722935</td>\n",
       "      <td>-0.322028</td>\n",
       "      <td>-1.622281</td>\n",
       "      <td>0.462265</td>\n",
       "      <td>0.992032</td>\n",
       "      <td>-0.992032</td>\n",
       "    </tr>\n",
       "    <tr>\n",
       "      <th>2</th>\n",
       "      <td>-1.247688</td>\n",
       "      <td>1.690786</td>\n",
       "      <td>-1.047972</td>\n",
       "      <td>1.354668</td>\n",
       "      <td>0.992032</td>\n",
       "      <td>-0.992032</td>\n",
       "    </tr>\n",
       "    <tr>\n",
       "      <th>3</th>\n",
       "      <td>-0.023264</td>\n",
       "      <td>0.041921</td>\n",
       "      <td>1.679999</td>\n",
       "      <td>-0.430138</td>\n",
       "      <td>0.992032</td>\n",
       "      <td>-0.992032</td>\n",
       "    </tr>\n",
       "    <tr>\n",
       "      <th>4</th>\n",
       "      <td>0.763865</td>\n",
       "      <td>0.463175</td>\n",
       "      <td>-1.047972</td>\n",
       "      <td>0.462265</td>\n",
       "      <td>-1.008032</td>\n",
       "      <td>1.008032</td>\n",
       "    </tr>\n",
       "  </tbody>\n",
       "</table>\n",
       "</div>"
      ],
      "text/plain": [
       "        age  monthly_charges    tenure  contract  gender_Female  gender_Male\n",
       "0 -0.897852         0.446463  0.244225  1.354668       0.992032    -0.992032\n",
       "1 -0.722935        -0.322028 -1.622281  0.462265       0.992032    -0.992032\n",
       "2 -1.247688         1.690786 -1.047972  1.354668       0.992032    -0.992032\n",
       "3 -0.023264         0.041921  1.679999 -0.430138       0.992032    -0.992032\n",
       "4  0.763865         0.463175 -1.047972  0.462265      -1.008032     1.008032"
      ]
     },
     "execution_count": 8,
     "metadata": {},
     "output_type": "execute_result"
    }
   ],
   "source": [
    "# Applying StandardScaler to entire encoded dataset\n",
    "from sklearn.preprocessing import StandardScaler\n",
    "scaler = StandardScaler()\n",
    "X_final = pd.DataFrame(scaler.fit_transform(X_encoded),columns=X_encoded.columns)\n",
    "X_final.head()"
   ]
  },
  {
   "cell_type": "code",
   "execution_count": 9,
   "metadata": {},
   "outputs": [],
   "source": [
    "# Train test split\n",
    "from sklearn.model_selection import train_test_split\n",
    "xtrain, xtest, ytrain, ytest = train_test_split(X_final,Y,test_size=0.2, random_state=42, stratify=Y)"
   ]
  },
  {
   "cell_type": "code",
   "execution_count": 10,
   "metadata": {},
   "outputs": [
    {
     "data": {
      "text/html": [
       "<div>\n",
       "<style scoped>\n",
       "    .dataframe tbody tr th:only-of-type {\n",
       "        vertical-align: middle;\n",
       "    }\n",
       "\n",
       "    .dataframe tbody tr th {\n",
       "        vertical-align: top;\n",
       "    }\n",
       "\n",
       "    .dataframe thead th {\n",
       "        text-align: right;\n",
       "    }\n",
       "</style>\n",
       "<table border=\"1\" class=\"dataframe\">\n",
       "  <thead>\n",
       "    <tr style=\"text-align: right;\">\n",
       "      <th></th>\n",
       "      <th>age</th>\n",
       "      <th>monthly_charges</th>\n",
       "      <th>tenure</th>\n",
       "      <th>contract</th>\n",
       "      <th>gender_Female</th>\n",
       "      <th>gender_Male</th>\n",
       "    </tr>\n",
       "  </thead>\n",
       "  <tbody>\n",
       "    <tr>\n",
       "      <th>514</th>\n",
       "      <td>-0.635476</td>\n",
       "      <td>-0.898498</td>\n",
       "      <td>-1.478704</td>\n",
       "      <td>1.354668</td>\n",
       "      <td>-1.008032</td>\n",
       "      <td>1.008032</td>\n",
       "    </tr>\n",
       "    <tr>\n",
       "      <th>224</th>\n",
       "      <td>-1.072770</td>\n",
       "      <td>-0.721926</td>\n",
       "      <td>-1.191549</td>\n",
       "      <td>-1.322542</td>\n",
       "      <td>-1.008032</td>\n",
       "      <td>1.008032</td>\n",
       "    </tr>\n",
       "    <tr>\n",
       "      <th>845</th>\n",
       "      <td>1.463536</td>\n",
       "      <td>-0.933469</td>\n",
       "      <td>-0.617239</td>\n",
       "      <td>0.462265</td>\n",
       "      <td>0.992032</td>\n",
       "      <td>-0.992032</td>\n",
       "    </tr>\n",
       "    <tr>\n",
       "      <th>736</th>\n",
       "      <td>1.026242</td>\n",
       "      <td>-1.537408</td>\n",
       "      <td>0.962112</td>\n",
       "      <td>-1.322542</td>\n",
       "      <td>0.992032</td>\n",
       "      <td>-0.992032</td>\n",
       "    </tr>\n",
       "    <tr>\n",
       "      <th>792</th>\n",
       "      <td>-0.722935</td>\n",
       "      <td>-0.673444</td>\n",
       "      <td>0.818535</td>\n",
       "      <td>-0.430138</td>\n",
       "      <td>0.992032</td>\n",
       "      <td>-0.992032</td>\n",
       "    </tr>\n",
       "  </tbody>\n",
       "</table>\n",
       "</div>"
      ],
      "text/plain": [
       "          age  monthly_charges    tenure  contract  gender_Female  gender_Male\n",
       "514 -0.635476        -0.898498 -1.478704  1.354668      -1.008032     1.008032\n",
       "224 -1.072770        -0.721926 -1.191549 -1.322542      -1.008032     1.008032\n",
       "845  1.463536        -0.933469 -0.617239  0.462265       0.992032    -0.992032\n",
       "736  1.026242        -1.537408  0.962112 -1.322542       0.992032    -0.992032\n",
       "792 -0.722935        -0.673444  0.818535 -0.430138       0.992032    -0.992032"
      ]
     },
     "execution_count": 10,
     "metadata": {},
     "output_type": "execute_result"
    }
   ],
   "source": [
    "xtrain.head()"
   ]
  },
  {
   "cell_type": "code",
   "execution_count": 11,
   "metadata": {},
   "outputs": [
    {
     "data": {
      "text/html": [
       "<div>\n",
       "<style scoped>\n",
       "    .dataframe tbody tr th:only-of-type {\n",
       "        vertical-align: middle;\n",
       "    }\n",
       "\n",
       "    .dataframe tbody tr th {\n",
       "        vertical-align: top;\n",
       "    }\n",
       "\n",
       "    .dataframe thead th {\n",
       "        text-align: right;\n",
       "    }\n",
       "</style>\n",
       "<table border=\"1\" class=\"dataframe\">\n",
       "  <thead>\n",
       "    <tr style=\"text-align: right;\">\n",
       "      <th></th>\n",
       "      <th>churn</th>\n",
       "    </tr>\n",
       "  </thead>\n",
       "  <tbody>\n",
       "    <tr>\n",
       "      <th>514</th>\n",
       "      <td>0</td>\n",
       "    </tr>\n",
       "    <tr>\n",
       "      <th>224</th>\n",
       "      <td>0</td>\n",
       "    </tr>\n",
       "    <tr>\n",
       "      <th>845</th>\n",
       "      <td>0</td>\n",
       "    </tr>\n",
       "    <tr>\n",
       "      <th>736</th>\n",
       "      <td>0</td>\n",
       "    </tr>\n",
       "    <tr>\n",
       "      <th>792</th>\n",
       "      <td>0</td>\n",
       "    </tr>\n",
       "  </tbody>\n",
       "</table>\n",
       "</div>"
      ],
      "text/plain": [
       "     churn\n",
       "514      0\n",
       "224      0\n",
       "845      0\n",
       "736      0\n",
       "792      0"
      ]
     },
     "execution_count": 11,
     "metadata": {},
     "output_type": "execute_result"
    }
   ],
   "source": [
    "ytrain.head()"
   ]
  },
  {
   "cell_type": "code",
   "execution_count": 12,
   "metadata": {},
   "outputs": [
    {
     "data": {
      "text/html": [
       "<div>\n",
       "<style scoped>\n",
       "    .dataframe tbody tr th:only-of-type {\n",
       "        vertical-align: middle;\n",
       "    }\n",
       "\n",
       "    .dataframe tbody tr th {\n",
       "        vertical-align: top;\n",
       "    }\n",
       "\n",
       "    .dataframe thead th {\n",
       "        text-align: right;\n",
       "    }\n",
       "</style>\n",
       "<table border=\"1\" class=\"dataframe\">\n",
       "  <thead>\n",
       "    <tr style=\"text-align: right;\">\n",
       "      <th></th>\n",
       "      <th>age</th>\n",
       "      <th>monthly_charges</th>\n",
       "      <th>tenure</th>\n",
       "      <th>contract</th>\n",
       "      <th>gender_Female</th>\n",
       "      <th>gender_Male</th>\n",
       "    </tr>\n",
       "  </thead>\n",
       "  <tbody>\n",
       "    <tr>\n",
       "      <th>855</th>\n",
       "      <td>0.676407</td>\n",
       "      <td>1.817057</td>\n",
       "      <td>0.244225</td>\n",
       "      <td>-0.430138</td>\n",
       "      <td>0.992032</td>\n",
       "      <td>-0.992032</td>\n",
       "    </tr>\n",
       "    <tr>\n",
       "      <th>942</th>\n",
       "      <td>0.064195</td>\n",
       "      <td>-0.282519</td>\n",
       "      <td>-1.335126</td>\n",
       "      <td>1.354668</td>\n",
       "      <td>0.992032</td>\n",
       "      <td>-0.992032</td>\n",
       "    </tr>\n",
       "    <tr>\n",
       "      <th>234</th>\n",
       "      <td>-0.897852</td>\n",
       "      <td>1.087411</td>\n",
       "      <td>-1.335126</td>\n",
       "      <td>0.462265</td>\n",
       "      <td>0.992032</td>\n",
       "      <td>-0.992032</td>\n",
       "    </tr>\n",
       "    <tr>\n",
       "      <th>108</th>\n",
       "      <td>-0.985311</td>\n",
       "      <td>1.015790</td>\n",
       "      <td>-1.622281</td>\n",
       "      <td>0.462265</td>\n",
       "      <td>0.992032</td>\n",
       "      <td>-0.992032</td>\n",
       "    </tr>\n",
       "    <tr>\n",
       "      <th>697</th>\n",
       "      <td>0.151654</td>\n",
       "      <td>-1.651405</td>\n",
       "      <td>-1.622281</td>\n",
       "      <td>1.354668</td>\n",
       "      <td>0.992032</td>\n",
       "      <td>-0.992032</td>\n",
       "    </tr>\n",
       "  </tbody>\n",
       "</table>\n",
       "</div>"
      ],
      "text/plain": [
       "          age  monthly_charges    tenure  contract  gender_Female  gender_Male\n",
       "855  0.676407         1.817057  0.244225 -0.430138       0.992032    -0.992032\n",
       "942  0.064195        -0.282519 -1.335126  1.354668       0.992032    -0.992032\n",
       "234 -0.897852         1.087411 -1.335126  0.462265       0.992032    -0.992032\n",
       "108 -0.985311         1.015790 -1.622281  0.462265       0.992032    -0.992032\n",
       "697  0.151654        -1.651405 -1.622281  1.354668       0.992032    -0.992032"
      ]
     },
     "execution_count": 12,
     "metadata": {},
     "output_type": "execute_result"
    }
   ],
   "source": [
    "xtest.head()"
   ]
  },
  {
   "cell_type": "code",
   "execution_count": 13,
   "metadata": {},
   "outputs": [
    {
     "data": {
      "text/html": [
       "<div>\n",
       "<style scoped>\n",
       "    .dataframe tbody tr th:only-of-type {\n",
       "        vertical-align: middle;\n",
       "    }\n",
       "\n",
       "    .dataframe tbody tr th {\n",
       "        vertical-align: top;\n",
       "    }\n",
       "\n",
       "    .dataframe thead th {\n",
       "        text-align: right;\n",
       "    }\n",
       "</style>\n",
       "<table border=\"1\" class=\"dataframe\">\n",
       "  <thead>\n",
       "    <tr style=\"text-align: right;\">\n",
       "      <th></th>\n",
       "      <th>churn</th>\n",
       "    </tr>\n",
       "  </thead>\n",
       "  <tbody>\n",
       "    <tr>\n",
       "      <th>855</th>\n",
       "      <td>0</td>\n",
       "    </tr>\n",
       "    <tr>\n",
       "      <th>942</th>\n",
       "      <td>0</td>\n",
       "    </tr>\n",
       "    <tr>\n",
       "      <th>234</th>\n",
       "      <td>0</td>\n",
       "    </tr>\n",
       "    <tr>\n",
       "      <th>108</th>\n",
       "      <td>0</td>\n",
       "    </tr>\n",
       "    <tr>\n",
       "      <th>697</th>\n",
       "      <td>0</td>\n",
       "    </tr>\n",
       "  </tbody>\n",
       "</table>\n",
       "</div>"
      ],
      "text/plain": [
       "     churn\n",
       "855      0\n",
       "942      0\n",
       "234      0\n",
       "108      0\n",
       "697      0"
      ]
     },
     "execution_count": 13,
     "metadata": {},
     "output_type": "execute_result"
    }
   ],
   "source": [
    "ytest.head()"
   ]
  },
  {
   "cell_type": "markdown",
   "metadata": {},
   "source": [
    "### Above data is now ready for machine learning algorithms."
   ]
  }
 ],
 "metadata": {
  "kernelspec": {
   "display_name": "Python 3 (ipykernel)",
   "language": "python",
   "name": "python3"
  },
  "language_info": {
   "codemirror_mode": {
    "name": "ipython",
    "version": 3
   },
   "file_extension": ".py",
   "mimetype": "text/x-python",
   "name": "python",
   "nbconvert_exporter": "python",
   "pygments_lexer": "ipython3",
   "version": "3.9.12"
  }
 },
 "nbformat": 4,
 "nbformat_minor": 2
}
