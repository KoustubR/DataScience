{
 "cells": [
  {
   "cell_type": "markdown",
   "id": "1c998a60-0229-4918-8a80-7e5efb0f5d02",
   "metadata": {},
   "source": [
    "# 16th Feb Assignment"
   ]
  },
  {
   "cell_type": "markdown",
   "id": "d12cd0fd-8ca4-4c13-a508-119b8bd97aa0",
   "metadata": {},
   "source": [
    "#### Q1. What is a database? Differentiate between SQL and NoSQL databases."
   ]
  },
  {
   "cell_type": "markdown",
   "id": "a38eaa6d-5124-4c51-8475-f64cd8da4170",
   "metadata": {},
   "source": [
    "A database is a systematic collection of data that is organised and kept on a computer. It offers a framework for storing, organising, and retrieving data in a manner that allows for efficient information access and modification.\n",
    "\n",
    "SQL DATABASES:-\n",
    "\n",
    "Databases are categorized as Relational Database Management System (RDBMS).\n",
    "\n",
    "SQL databases have fixed or static or predefined schema.\n",
    "\n",
    "SQL databases display data in form of tables so it is known as table-based database.\n",
    "\n",
    "SQL databases are vertically scalable.\n",
    "\n",
    "NOSQL DATABASES:-\n",
    "\n",
    "NoSQL databases are categorized as Non-relational or distributed database system.\n",
    "\n",
    "NoSQL databases have dynamic schema.\n",
    "\n",
    "NoSQL databases display data as collection of key-value pair, documents, graph databases or wide-column stores.\n",
    "\n",
    "NoSQL databases are horizontally scalable."
   ]
  },
  {
   "cell_type": "markdown",
   "id": "4a51c04d-ed46-44d4-a123-ee051a27c8d5",
   "metadata": {},
   "source": [
    "#### Q2. What is DDL? Explain why CREATE, DROP, ALTER, and TRUNCATE are used with an example."
   ]
  },
  {
   "cell_type": "markdown",
   "id": "d7329c76-4fa3-4a6c-a6a8-a70715f92481",
   "metadata": {},
   "source": [
    "Data Definition Language, is a set of SQL commands used to define and manage a database's structure. To create, modify, and delete database objects like tables, indexes, and views, DDL statements are used.\n",
    "\n",
    "CREATE:\n",
    "\n",
    "create table test_table(c1 int , c2 varchar(50) , c3 int , c4 float , c5 varchar(50));\n",
    "\n",
    "DROP:\n",
    "\n",
    "drop table test_table;\n",
    "\n",
    "ALTER:\n",
    "\n",
    "alter table test_table add column dept_name varchar(20);\n",
    "\n",
    "TRUNCATE:\n",
    "\n",
    "truncate table employees;"
   ]
  },
  {
   "cell_type": "markdown",
   "id": "54058811-444b-452e-9b9d-a7f2b92dca7d",
   "metadata": {},
   "source": [
    "#### Q3. What is DML? Explain INSERT, UPDATE, and DELETE with an example."
   ]
  },
  {
   "cell_type": "markdown",
   "id": "8ba99992-d522-4c08-8e0a-310df58635ba",
   "metadata": {},
   "source": [
    "DML stands for Data Manipulation Language, which is a set of SQL commands used to manage the data stored in a database. DML commands are used to insert, update, and delete data in database tables.\n",
    "\n",
    "INSERT:\n",
    "\n",
    "INSERT INTO test_table (c1,c2,c3,c4,c5,dept_name) VALUES (100,\"YASH\",200,25.40,\"DSM\",\"COMP\");\n",
    "\n",
    "UPDATE:\n",
    "\n",
    "UPDATE test_table SET c4 = 55000.00 WHERE c2=\"YASH\";\n",
    "\n",
    "DELETE\n",
    "\n",
    "DELETE FROM test_name WHERE c2 = 'YASH';\n"
   ]
  },
  {
   "cell_type": "markdown",
   "id": "277642c4-7998-4263-96ab-ffcf3c699554",
   "metadata": {},
   "source": [
    "#### Q4. What is DQL? Explain SELECT with an example."
   ]
  },
  {
   "cell_type": "markdown",
   "id": "37b4c49b-d023-476a-89ab-71d8e309728f",
   "metadata": {},
   "source": [
    "Data Query Language, or DQL for short, is a set of SQL commands used to extract data from databases. To select and display data from one or more tables in a database, DQL commands are used.\n",
    "\n",
    "select * from test_table;\n"
   ]
  },
  {
   "cell_type": "markdown",
   "id": "f1e5687b-6a09-49c6-b026-7aaed7879287",
   "metadata": {},
   "source": [
    "#### Q5. Explain Primary Key and Foreign Key."
   ]
  },
  {
   "cell_type": "markdown",
   "id": "c5df3f0c-09c0-4c58-b65c-01447099cd4f",
   "metadata": {},
   "source": [
    "In a table, a primary key is a column or set of columns that uniquely identifies each row. The primary key serves as a means of referencing each row in the table from other tables and of ensuring that there are no duplicate rows in the table.\n",
    "\n",
    "A column or set of columns in a table that refers to the primary key of another table is known as a foreign key. You can perform operations that use data from both tables because the foreign key creates a relationship between the two tables.\n"
   ]
  },
  {
   "cell_type": "markdown",
   "id": "eb071f85-d503-433f-a254-abb7c200ce23",
   "metadata": {},
   "source": [
    "#### Q6. Write a python code to connect MySQL to python. Explain the cursor() and execute() method."
   ]
  },
  {
   "cell_type": "markdown",
   "id": "55df3c77-5583-4ee1-bb73-514631e59bf4",
   "metadata": {},
   "source": [
    "https://prnt.sc/ONq5wlG9fGNz"
   ]
  },
  {
   "cell_type": "markdown",
   "id": "9f8554a8-71b5-4a7a-b5d4-117803316746",
   "metadata": {},
   "source": [
    "cursor(): In order to run SQL queries on the database, the cursor() method creates a cursor object. The cursor object is used to communicate with the database, run SQL statements, and retrieve data.\n",
    "\n",
    "execute(): SQL queries are run on the database using the cursor object's execute() method. The method runs an SQL query that is passed to it as a string parameter. If the query returns any results, we can retrieve them using the cursor object's fetch() or fetchall() methods."
   ]
  },
  {
   "cell_type": "code",
   "execution_count": null,
   "id": "2dd7c1a6-b097-4307-8275-d8d2aa1ff9ec",
   "metadata": {},
   "outputs": [],
   "source": []
  }
 ],
 "metadata": {
  "kernelspec": {
   "display_name": "Python 3 (ipykernel)",
   "language": "python",
   "name": "python3"
  },
  "language_info": {
   "codemirror_mode": {
    "name": "ipython",
    "version": 3
   },
   "file_extension": ".py",
   "mimetype": "text/x-python",
   "name": "python",
   "nbconvert_exporter": "python",
   "pygments_lexer": "ipython3",
   "version": "3.10.8"
  }
 },
 "nbformat": 4,
 "nbformat_minor": 5
}
