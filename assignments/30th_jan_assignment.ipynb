{
 "cells": [
  {
   "cell_type": "markdown",
   "id": "f08be955",
   "metadata": {},
   "source": [
    "1. Write a program to accept percentage from the user and display the grade according to the following \n",
    "\n",
    "Refer to the image from question bank"
   ]
  },
  {
   "cell_type": "code",
   "execution_count": 1,
   "id": "937bc195",
   "metadata": {},
   "outputs": [
    {
     "name": "stdout",
     "output_type": "stream",
     "text": [
      "Please enter your percentage92\n",
      "Your grade is A\n"
     ]
    }
   ],
   "source": [
    "user_percentage = float(input(\"Please enter your percentage\"))\n",
    "if user_percentage > 90:\n",
    "    print(\"Your grade is A\")\n",
    "elif user_percentage > 80 and user_percentage <= 90:\n",
    "    print(\"Your grade is B\")\n",
    "elif user_percentage >=60 and user_percentage <= 80:\n",
    "    print(\"Your grade is C\")\n",
    "else:\n",
    "    print(\"Your grade is D\")\n"
   ]
  },
  {
   "cell_type": "markdown",
   "id": "414c154a",
   "metadata": {},
   "source": [
    "2. Write a program to accept the cost price of a bike and display the road tax to be paid according to the following criteria: \n",
    "\n",
    "Refer to the image from question bank"
   ]
  },
  {
   "cell_type": "code",
   "execution_count": 2,
   "id": "af82606c",
   "metadata": {},
   "outputs": [
    {
     "name": "stdout",
     "output_type": "stream",
     "text": [
      "Please enter the cost of your bike70000\n",
      "Your road tax is 7000.0\n"
     ]
    }
   ],
   "source": [
    "cost = int(input(\"Please enter the cost of your bike\"))\n",
    "if cost > 100000:\n",
    "    print(f\"Your road tax is {cost*0.15}\")\n",
    "elif cost <= 50000:\n",
    "    print(f\"Your road tax is {cost*0.05}\")\n",
    "else:\n",
    "    print(f\"Your road tax is {cost *0.1}\")"
   ]
  },
  {
   "cell_type": "markdown",
   "id": "846e188b",
   "metadata": {},
   "source": [
    "3. Accept any city from the user and display monuments of that city. \n",
    "\n",
    "Refer to the image from the question bank"
   ]
  },
  {
   "cell_type": "code",
   "execution_count": 3,
   "id": "72fa2966",
   "metadata": {},
   "outputs": [
    {
     "name": "stdout",
     "output_type": "stream",
     "text": [
      "Please enter the city nameDelhi\n",
      "The monument in Delhi is Red Fort\n"
     ]
    }
   ],
   "source": [
    "city = input('Please enter the city name').lower()\n",
    "if city == 'delhi':\n",
    "    print(f'The monument in {city.title()} is Red Fort')\n",
    "elif city == 'agra':\n",
    "    print(f'The monument in {city.title()} is Taj Mahal')\n",
    "elif city == 'jaipur':\n",
    "    print(f'The monument in {city.title()} is Jal Mahal')\n",
    "else:\n",
    "    print('Available data is for the cities: Delhi, Agra and Jaipur')"
   ]
  },
  {
   "cell_type": "markdown",
   "id": "f4cc6e0b",
   "metadata": {},
   "source": [
    "4. Check how many times a given number can be divided by 3 before it is less than or equal to 10."
   ]
  },
  {
   "cell_type": "code",
   "execution_count": 4,
   "id": "bd0e63ba",
   "metadata": {},
   "outputs": [
    {
     "name": "stdout",
     "output_type": "stream",
     "text": [
      "Please enter a number greater than 101000\n",
      "The number can be divided 5 no. of times before it is less than or equal to 10\n"
     ]
    }
   ],
   "source": [
    "user_number = int(input(\"Please enter a number greater than 10\"))\n",
    "count = 0\n",
    "if user_number <= 10:\n",
    "    print(\"The entered number is less than 10 so it cannot be divided further\")\n",
    "else:\n",
    "    while user_number > 10:\n",
    "        if user_number % 3 ==0:\n",
    "            user_number = user_number/3\n",
    "            count += 1\n",
    "        else:\n",
    "            user_number -= 1\n",
    "    print(f\"The number can be divided {count} no. of times before it is less than or equal to 10\")\n"
   ]
  },
  {
   "cell_type": "markdown",
   "id": "fd585207",
   "metadata": {},
   "source": [
    "5. Why and When to Use while Loop in Python give a detailed description with example \n",
    "\n",
    "In programming, loops are used to repeat a block of code. while loop is used to run a block code until a certain condition is met.\n",
    "\n",
    "https://prnt.sc/u33wcZJbRpde\n",
    "\n",
    "In the above flow chart A while loop evaluates the condition\n",
    "\n",
    "If the condition evaluates to True, the code inside the while loop is executed.\n",
    "\n",
    "condition is evaluated again.\n",
    "\n",
    "This process continues until the condition is False.\n",
    "\n",
    "When condition evaluates to False, the loop stops.\n"
   ]
  },
  {
   "cell_type": "markdown",
   "id": "0376b5dd",
   "metadata": {},
   "source": [
    "6. Use nested while loop to print 3 different pattern. "
   ]
  },
  {
   "cell_type": "code",
   "execution_count": 12,
   "id": "ed5c3262",
   "metadata": {},
   "outputs": [
    {
     "name": "stdout",
     "output_type": "stream",
     "text": [
      "\n",
      "* \n",
      "* * \n",
      "* * * \n",
      "* * * * \n",
      "* * * * * \n"
     ]
    }
   ],
   "source": [
    "i,j =0,0\n",
    "while i<=5:\n",
    "    while j<=5:\n",
    "        print('* '*j)\n",
    "        j += 1\n",
    "    i +=1"
   ]
  },
  {
   "cell_type": "code",
   "execution_count": 10,
   "id": "fb8904d2",
   "metadata": {},
   "outputs": [
    {
     "name": "stdout",
     "output_type": "stream",
     "text": [
      "* * * * *\n",
      "* * * * *\n",
      "* * * * *\n",
      "* * * * *\n",
      "* * * * *\n"
     ]
    }
   ],
   "source": [
    "i,j =0,0\n",
    "while i<5:\n",
    "    while j<5:\n",
    "        print('* * * * *')\n",
    "        j += 1\n",
    "    i +=1"
   ]
  },
  {
   "cell_type": "code",
   "execution_count": 11,
   "id": "f2294734",
   "metadata": {},
   "outputs": [
    {
     "name": "stdout",
     "output_type": "stream",
     "text": [
      "* * * * * \n",
      "* * * * \n",
      "* * * \n",
      "* * \n",
      "* \n"
     ]
    }
   ],
   "source": [
    "i,j =0,5\n",
    "while i<=5:\n",
    "    while j>=1:\n",
    "        print('* '*j)\n",
    "        j -= 1\n",
    "    i +=1"
   ]
  },
  {
   "cell_type": "markdown",
   "id": "24277913",
   "metadata": {},
   "source": [
    "7. Reverse a while loop to display numbers from 10 to 1. "
   ]
  },
  {
   "cell_type": "code",
   "execution_count": 13,
   "id": "ccdb68db",
   "metadata": {},
   "outputs": [
    {
     "name": "stdout",
     "output_type": "stream",
     "text": [
      "10\n",
      "9\n",
      "8\n",
      "7\n",
      "6\n",
      "5\n",
      "4\n",
      "3\n",
      "2\n",
      "1\n"
     ]
    }
   ],
   "source": [
    "num = 10\n",
    "while num > 0:\n",
    "    print(num)\n",
    "    num = num-1"
   ]
  },
  {
   "cell_type": "markdown",
   "id": "5e0d28e5",
   "metadata": {},
   "source": [
    "8. Reverse a while loop to display numbers from 10 to 1 \n"
   ]
  },
  {
   "cell_type": "code",
   "execution_count": 16,
   "id": "b62b431f",
   "metadata": {},
   "outputs": [
    {
     "name": "stdout",
     "output_type": "stream",
     "text": [
      "10 9 8 7 6 5 4 3 2 1 "
     ]
    }
   ],
   "source": [
    "num = 10\n",
    "while num > 0:\n",
    "    print(num, end =' ')\n",
    "    num = num-1"
   ]
  },
  {
   "cell_type": "code",
   "execution_count": null,
   "id": "024264ce",
   "metadata": {},
   "outputs": [],
   "source": []
  }
 ],
 "metadata": {
  "kernelspec": {
   "display_name": "Python 3 (ipykernel)",
   "language": "python",
   "name": "python3"
  },
  "language_info": {
   "codemirror_mode": {
    "name": "ipython",
    "version": 3
   },
   "file_extension": ".py",
   "mimetype": "text/x-python",
   "name": "python",
   "nbconvert_exporter": "python",
   "pygments_lexer": "ipython3",
   "version": "3.9.12"
  }
 },
 "nbformat": 4,
 "nbformat_minor": 5
}
