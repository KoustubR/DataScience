{
 "cells": [
  {
   "cell_type": "markdown",
   "id": "47531876",
   "metadata": {},
   "source": [
    "#### 1. What is an Exception in python? Write the difference Between Exceptions and syntax errors"
   ]
  },
  {
   "cell_type": "markdown",
   "id": "28624637",
   "metadata": {},
   "source": [
    "Even if the syntax of a statement or expression is correct, it may still cause an error when executed. These are called as exceptions. Python exceptions are errors that are detected during execution and are not unconditionally fatal. An exception object is created when a Python script raises an exception. If the script explicitly doesn't handle the exception, the program will be forced to terminate abruptly.\n",
    "\n",
    "Differences:\n",
    "\n",
    "Exceptions: An exception is caused by program. it can be handled by try except\n",
    "\n",
    "Syntax: A syntax error is caused due to violation of notational rules of python. There is no handling techinques for this."
   ]
  },
  {
   "cell_type": "markdown",
   "id": "cd23c32e",
   "metadata": {},
   "source": [
    "#### 2. What happens when an exception is not handled? Explain with an example"
   ]
  },
  {
   "cell_type": "markdown",
   "id": "f6ff512b",
   "metadata": {},
   "source": [
    "When the exceptions are not handled it causes the whole program to terminate at that point as we can see below"
   ]
  },
  {
   "cell_type": "code",
   "execution_count": 2,
   "id": "770bf6d3",
   "metadata": {},
   "outputs": [
    {
     "ename": "ZeroDivisionError",
     "evalue": "division by zero",
     "output_type": "error",
     "traceback": [
      "\u001b[1;31m---------------------------------------------------------------------------\u001b[0m",
      "\u001b[1;31mZeroDivisionError\u001b[0m                         Traceback (most recent call last)",
      "Input \u001b[1;32mIn [2]\u001b[0m, in \u001b[0;36m<cell line: 2>\u001b[1;34m()\u001b[0m\n\u001b[0;32m      1\u001b[0m a \u001b[38;5;241m=\u001b[39m \u001b[38;5;241m10\u001b[39m\n\u001b[1;32m----> 2\u001b[0m \u001b[43ma\u001b[49m\u001b[38;5;241;43m/\u001b[39;49m\u001b[38;5;241;43m0\u001b[39;49m\n\u001b[0;32m      3\u001b[0m \u001b[38;5;28mprint\u001b[39m(\u001b[38;5;124m'\u001b[39m\u001b[38;5;124mabc\u001b[39m\u001b[38;5;124m'\u001b[39m)\n",
      "\u001b[1;31mZeroDivisionError\u001b[0m: division by zero"
     ]
    }
   ],
   "source": [
    "a = 10\n",
    "a/0\n",
    "print('abc')"
   ]
  },
  {
   "cell_type": "markdown",
   "id": "f88ed774",
   "metadata": {},
   "source": [
    "if we handle the error it will ensure that the program ends by showing the error in console(if we use print)/ logs(if we use logging)"
   ]
  },
  {
   "cell_type": "code",
   "execution_count": 3,
   "id": "8ce0f062",
   "metadata": {},
   "outputs": [
    {
     "name": "stdout",
     "output_type": "stream",
     "text": [
      "division by zero\n",
      "abc\n"
     ]
    }
   ],
   "source": [
    "try:\n",
    "    a=10\n",
    "    a/0\n",
    "except ZeroDivisionError as z:\n",
    "    print(z)\n",
    "finally:\n",
    "    print('abc')"
   ]
  },
  {
   "cell_type": "markdown",
   "id": "94ee77a6",
   "metadata": {},
   "source": [
    "#### 3. Which Python statements are used to catch and handle exceptions? Explain with an example"
   ]
  },
  {
   "cell_type": "markdown",
   "id": "d2dcb908",
   "metadata": {},
   "source": [
    "We use try except to catch and handle exceptions as shown in the below syntax and example\n",
    "\n",
    "try:\n",
    "\n",
    "    run this code\n",
    "    \n",
    "except:\n",
    "\n",
    "    Execute this code when there is exception\n",
    "    \n",
    "else:\n",
    "\n",
    "    Run this code where there is no exception\n",
    "\n",
    "finally:\n",
    "\n",
    "    Always run this code."
   ]
  },
  {
   "cell_type": "code",
   "execution_count": 4,
   "id": "f980449d",
   "metadata": {},
   "outputs": [
    {
     "name": "stdout",
     "output_type": "stream",
     "text": [
      "division by zero\n",
      "This marks the end of code\n"
     ]
    }
   ],
   "source": [
    "try:\n",
    "    a = 10\n",
    "    a/0\n",
    "except ZeroDivisionError as z:\n",
    "    print(z)\n",
    "\n",
    "else:\n",
    "    print('No error')\n",
    "finally:\n",
    "    print('This marks the end of code')"
   ]
  },
  {
   "cell_type": "code",
   "execution_count": 5,
   "id": "8f001874",
   "metadata": {},
   "outputs": [
    {
     "name": "stdout",
     "output_type": "stream",
     "text": [
      "No error\n",
      "This marks the end of code\n"
     ]
    }
   ],
   "source": [
    "try:\n",
    "    a = 10\n",
    "    a/1\n",
    "except ZeroDivisionError as z:\n",
    "    print(z)\n",
    "\n",
    "else:\n",
    "    print('No error')\n",
    "finally:\n",
    "    print('This marks the end of code')"
   ]
  },
  {
   "cell_type": "markdown",
   "id": "66e8779e",
   "metadata": {},
   "source": [
    "#### 4. Explain with an example:\n",
    "\n",
    "1. try and else\n",
    "2. finally\n",
    "3. raise"
   ]
  },
  {
   "cell_type": "markdown",
   "id": "195fb991",
   "metadata": {},
   "source": [
    "1. Try: This block will test the excepted error to occur\n",
    "\n",
    "   Else: If there is no exception then this block will be executed\n",
    "   \n",
    "   try:\n",
    "   \n",
    "       # Some Code.... \n",
    "\n",
    "except:\n",
    "\n",
    "       # optional block\n",
    "       # Handling of exception (if required)\n",
    "\n",
    "else:\n",
    "\n",
    "       # execute if no exception"
   ]
  },
  {
   "cell_type": "code",
   "execution_count": 6,
   "id": "b85dab7f",
   "metadata": {},
   "outputs": [
    {
     "name": "stdout",
     "output_type": "stream",
     "text": [
      "division by zero\n"
     ]
    }
   ],
   "source": [
    "try:\n",
    "    a = 10\n",
    "    div = a/0\n",
    "except ZeroDivisionError as z:\n",
    "    print(z)\n",
    "else:\n",
    "    print(div)"
   ]
  },
  {
   "cell_type": "code",
   "execution_count": 7,
   "id": "d9e1da05",
   "metadata": {},
   "outputs": [
    {
     "name": "stdout",
     "output_type": "stream",
     "text": [
      "5.0\n"
     ]
    }
   ],
   "source": [
    "try:\n",
    "    a = 10\n",
    "    div = a/2\n",
    "except ZeroDivisionError as z:\n",
    "    print(z)\n",
    "else:\n",
    "    print(div)"
   ]
  },
  {
   "cell_type": "markdown",
   "id": "c243e83f",
   "metadata": {},
   "source": [
    "2. Finally: Finally block always gets executed either exception is generated or not\n",
    "\n",
    "try:\n",
    "\n",
    "       # Some Code.... \n",
    "\n",
    "except:\n",
    "\n",
    "       # optional block\n",
    "       # Handling of exception (if required)\n",
    "\n",
    "finally:\n",
    "\n",
    "      # Some code .....(always executed)"
   ]
  },
  {
   "cell_type": "code",
   "execution_count": 9,
   "id": "669c1add",
   "metadata": {},
   "outputs": [
    {
     "name": "stdout",
     "output_type": "stream",
     "text": [
      "Cannot add number and a string\n",
      "Complete\n"
     ]
    }
   ],
   "source": [
    "try:\n",
    "    123 + 'Koustub'\n",
    "except TypeError as T:\n",
    "    print(\"Cannot add number and a string\")\n",
    "finally:\n",
    "    print('Complete')"
   ]
  },
  {
   "cell_type": "markdown",
   "id": "4eae540e",
   "metadata": {},
   "source": [
    "3. The raise keyword is used to raise an exception. You can define what kind of error to raise, and the text to print to the user."
   ]
  },
  {
   "cell_type": "code",
   "execution_count": 11,
   "id": "46356ed6",
   "metadata": {},
   "outputs": [
    {
     "ename": "Exception",
     "evalue": "Sorry, no numbers below zero",
     "output_type": "error",
     "traceback": [
      "\u001b[1;31m---------------------------------------------------------------------------\u001b[0m",
      "\u001b[1;31mException\u001b[0m                                 Traceback (most recent call last)",
      "Input \u001b[1;32mIn [11]\u001b[0m, in \u001b[0;36m<cell line: 3>\u001b[1;34m()\u001b[0m\n\u001b[0;32m      1\u001b[0m x \u001b[38;5;241m=\u001b[39m \u001b[38;5;241m-\u001b[39m\u001b[38;5;241m1\u001b[39m\n\u001b[0;32m      3\u001b[0m \u001b[38;5;28;01mif\u001b[39;00m x \u001b[38;5;241m<\u001b[39m \u001b[38;5;241m0\u001b[39m:\n\u001b[1;32m----> 4\u001b[0m   \u001b[38;5;28;01mraise\u001b[39;00m \u001b[38;5;167;01mException\u001b[39;00m(\u001b[38;5;124m\"\u001b[39m\u001b[38;5;124mSorry, no numbers below zero\u001b[39m\u001b[38;5;124m\"\u001b[39m)\n",
      "\u001b[1;31mException\u001b[0m: Sorry, no numbers below zero"
     ]
    }
   ],
   "source": [
    "x = -1\n",
    "\n",
    "if x < 0:\n",
    "  raise Exception(\"Sorry, no numbers below zero\")"
   ]
  },
  {
   "cell_type": "markdown",
   "id": "f3849516",
   "metadata": {},
   "source": [
    "#### 5. What are Custom Exceptions in pthon? Why do we need Custom Exceptions? Explain with an example"
   ]
  },
  {
   "cell_type": "markdown",
   "id": "981df219",
   "metadata": {},
   "source": [
    "Python has the capability to provide custom exceptions to the users. These custom exceptions are named as user-defined exceptions. Here the user-defined exceptions can be built defined by using a class declared for it. These customer exceptions are declared specifically to satisfy user necessities. All the user-defined exceptions will be derived from the user class.\n",
    "\n",
    "A user-defined exception handling process needs to have a user-defined class representing the exception to be created. This user-defined exception class needs to be inheriting the exception class either directly or indirectly. So based on the inherited class this formulates into a user based exception.\n",
    "\n"
   ]
  },
  {
   "cell_type": "code",
   "execution_count": 15,
   "id": "2ae7f00a",
   "metadata": {},
   "outputs": [
    {
     "name": "stdout",
     "output_type": "stream",
     "text": [
      "Enter a number: 100\n",
      "The keyed in value is very large\n",
      "\n",
      "Enter a number: 20\n",
      "The keyed in value is very large\n",
      "\n",
      "Enter a number: 10\n"
     ]
    }
   ],
   "source": [
    "class Error(Exception):\n",
    "  \"\"\"Base class for other exceptions\"\"\"\n",
    "  pass\n",
    "class To_small_value_exception(Error):\n",
    "  \"\"\"This exception will be raised when the keyed in value is too small\"\"\"\n",
    "  pass\n",
    "class To_large_value_exception(Error):\n",
    "   \"\"\" This exception will be raised when the keyed in value is too large\"\"\"\n",
    "   pass\n",
    "Check_value = 10\n",
    "while True:\n",
    "    try:\n",
    "       Input_Number = int(input(\"Enter a number: \"))\n",
    "       if Input_Number < Check_value:\n",
    "          raise To_small_value_exception\n",
    "       elif Input_Number > Check_value:\n",
    "          raise To_large_value_exception\n",
    "       break\n",
    "    except To_small_value_exception:\n",
    "      print(\"The keyed in value is very small\")\n",
    "      print()\n",
    "    except To_large_value_exception:\n",
    "      print(\"The keyed in value is very large\")\n",
    "      print()"
   ]
  },
  {
   "cell_type": "markdown",
   "id": "3030ab13",
   "metadata": {},
   "source": [
    "#### 6. Create custom exception class. Use this Class to handle an exception."
   ]
  },
  {
   "cell_type": "code",
   "execution_count": 17,
   "id": "f9bb7e01",
   "metadata": {},
   "outputs": [
    {
     "name": "stdout",
     "output_type": "stream",
     "text": [
      "Enter a number: 16\n",
      "Exception occurred: Invalid Age\n"
     ]
    }
   ],
   "source": [
    "class InvalidAgeException(Exception):\n",
    "    pass\n",
    "\n",
    "number = 18\n",
    "\n",
    "try:\n",
    "    input_num = int(input(\"Enter a number: \"))\n",
    "    if input_num < number:\n",
    "        raise InvalidAgeException\n",
    "    else:\n",
    "        print(\"Eligible to Vote\")\n",
    "        \n",
    "except InvalidAgeException:\n",
    "    print(\"Exception occurred: Invalid Age\")"
   ]
  },
  {
   "cell_type": "code",
   "execution_count": null,
   "id": "493e6863",
   "metadata": {},
   "outputs": [],
   "source": []
  }
 ],
 "metadata": {
  "kernelspec": {
   "display_name": "Python 3 (ipykernel)",
   "language": "python",
   "name": "python3"
  },
  "language_info": {
   "codemirror_mode": {
    "name": "ipython",
    "version": 3
   },
   "file_extension": ".py",
   "mimetype": "text/x-python",
   "name": "python",
   "nbconvert_exporter": "python",
   "pygments_lexer": "ipython3",
   "version": "3.9.12"
  }
 },
 "nbformat": 4,
 "nbformat_minor": 5
}
