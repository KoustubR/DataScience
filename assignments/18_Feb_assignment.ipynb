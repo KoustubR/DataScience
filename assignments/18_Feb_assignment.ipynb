{
 "cells": [
  {
   "cell_type": "markdown",
   "id": "2adc7e47-7955-4a6a-83b3-11d0d25d1d9a",
   "metadata": {},
   "source": [
    "# 18th Feb Assignment"
   ]
  },
  {
   "cell_type": "markdown",
   "id": "ef090351-3a2d-43ea-8f74-5163c4194644",
   "metadata": {},
   "source": [
    "#### Q1. What is an API? Give an example, where an API is used in real life."
   ]
  },
  {
   "cell_type": "markdown",
   "id": "08de01aa-e25a-462b-b2fe-c575e9537fca",
   "metadata": {},
   "source": [
    "Application Programming Interface is referred to as API. It is a collection of procedures, instruments, and conventions for creating programmes and applications. APIs specify how various software parts should communicate with one another, enabling programmers to build applications that use the features of other software services or systems.\n",
    "\n",
    "A real-world example of an API is the Google Maps API, which enables programmers to incorporate Google Maps into their own applications. This implies that, rather than needing to develop their own mapping system from the ground up, any application or website may incorporate Google Maps capabilities into their own software.\n"
   ]
  },
  {
   "cell_type": "markdown",
   "id": "bbfc1040-7c1f-4358-b60a-9d97e1fa7470",
   "metadata": {},
   "source": [
    "#### Q2. Give advantages and disadvantages of using API."
   ]
  },
  {
   "cell_type": "markdown",
   "id": "f5b00a47-5830-4e0f-b7cb-4998db7ed2f4",
   "metadata": {},
   "source": [
    "Advantages:\n",
    "\n",
    "Increase efficiency:APIs allow developers to reuse code, reducing the need for custom development and speeding up the development process.\n",
    "Better user experience:APIs can be used to integrate data and services from multiple sources, creating a more comprehensive and user-friendly experience for the end user.\n",
    "\n",
    "Earn money:The API can be used to create new revenue streams by enabling payment for access to data or services.\n",
    "Simplified integration:The API provides a standard interface to interact with an application, making it easy to onboard other developers.\n",
    "\n",
    "Disadvantages:\n",
    "\n",
    "Complexity:APIs can be complex, with many different parameters and options that developers must understand before they can use them effectively.\n",
    "\n",
    "Security barrier:APIs can allow attackers to access sensitive system or data. Therefore, it is important to take appropriate security measures to prevent unauthorized access.\n",
    "\n",
    "Documentation and support:APIs require complete and up-to-date documentation and support resources to help developers use them effectively.\n",
    "Dependencies on external systems:If the API is used to access data or services from an external system, the reliability of the API depends on the reliability of the external system.\n"
   ]
  },
  {
   "cell_type": "markdown",
   "id": "715f0bcb-c183-47b4-9753-150458dda865",
   "metadata": {},
   "source": [
    "#### Q3. What is a Web API? Differentiate between API and Web API.\n"
   ]
  },
  {
   "cell_type": "markdown",
   "id": "e28aac87-7c5c-44a7-b907-5a83bba2ea3f",
   "metadata": {},
   "source": [
    "A Web API is a type of API (Application Programming Interface) that is designed to be used over the internet, typically using HTTP (Hypertext Transfer Protocol) requests to access data or functionality provided by a web service. The primary difference between API and Web API is that API is a more general term that can refer to any type of interface used for software-to-software communication, while Web API specifically refers to APIs that are designed to be used over the internet. This means that a Web API is a type of API, but not all APIs are Web APIs.\n",
    "\n",
    "Here are some other differences between API and Web API:\n",
    "\n",
    "Limit:APIs can be designed for use within an application, between applications on the same system, or between applications on different systems. Web APIs are designed specifically for use on the Internet, often between applications running on different systems.\n",
    "Shipping protocol:The API can use a variety of transport protocols, including HTTP, Transport Control Protocol (TCP), and others. Web APIs are generally designed to use HTTP as the primary transport protocol.\n",
    "\n",
    "Data format:The API can use a variety of data formats, including JSON, XML, and others. Web APIs are typically designed to use web-optimized formats, such as JSON.\n",
    "\n",
    "Authentication and security:APIs and Web APIs may require different types of security and authentication measures depending on the specific use case and the sensitivity of the data being accessed.\n"
   ]
  },
  {
   "cell_type": "markdown",
   "id": "6be71d69-72ff-4eb8-81ee-477eda7992c1",
   "metadata": {},
   "source": [
    "#### Q4. Explain REST and SOAP Architecture. Mention shortcomings of SOAP.\n"
   ]
  },
  {
   "cell_type": "markdown",
   "id": "14e924f9-b2d9-40cd-9f18-fff1c9e06c08",
   "metadata": {},
   "source": [
    "Architecture for REST:\n",
    "\n",
    "Web services are built using the REST architectural approach. It is founded on a set of guidelines that specify how web services ought to be created and how they ought to communicate with one another.\n",
    "\n",
    "Client-server architecture: By keeping the client and the server apart, they can develop on their own.\n",
    "\n",
    "Stateless: Since each request from the client to the server must include all relevant data, there is no need for the server to keep track of session state.\n",
    "\n",
    "Cacheability: The server's responses can be stored in a cache to speed up performance.\n",
    "\n",
    "Uniform interface: The web service access interface needs to be standardised and reliable.\n",
    "\n",
    "Layered system: A more adaptable and scalable system can be made using a layered architecture.\n",
    "\n",
    "Architecture for SOAP:\n",
    "\n",
    "Independent of any particular protocol: SOAP messages can be exchanged via a number of various protocols, such as HTTP, SMTP, and others.\n",
    "\n",
    "Extensibility: New message headers or body components can be added to SOAP messages to add new functionality.\n",
    "\n",
    "Security: To provide secure communication, SOAP messages can be signed and encrypted.\n",
    "\n",
    "Flexibility: Request-response, one-way, and request-response with callbacks are just a few of the sophisticated message exchange patterns that may be created using SOAP.\n",
    "\n",
    "SOAP's shortcomings:\n",
    "\n",
    "Complexity: As compared to more straightforward protocols like REST, SOAP messages can be quite complicated and challenging to work with.\n",
    "\n",
    "Overhead: SOAP messages have the potential to be substantially larger than REST messages, which could slow down performance and increase network traffic.\n",
    "\n",
    "Low browser support: Because most web browsers do not support SOAP, using it in web-based applications can be challenging.\n",
    "\n",
    "Compatibility problems: SOAP may be less flexible than other solutions since it might be challenging to combine with other systems that do not support the protocol.\n"
   ]
  },
  {
   "cell_type": "markdown",
   "id": "8df9c015-e719-49b3-a12c-1f05adcad630",
   "metadata": {},
   "source": [
    "#### Q5. Differentiate between REST and SOAP.\n"
   ]
  }
 ],
 "metadata": {
  "kernelspec": {
   "display_name": "Python 3 (ipykernel)",
   "language": "python",
   "name": "python3"
  },
  "language_info": {
   "codemirror_mode": {
    "name": "ipython",
    "version": 3
   },
   "file_extension": ".py",
   "mimetype": "text/x-python",
   "name": "python",
   "nbconvert_exporter": "python",
   "pygments_lexer": "ipython3",
   "version": "3.10.8"
  }
 },
 "nbformat": 4,
 "nbformat_minor": 5
}
