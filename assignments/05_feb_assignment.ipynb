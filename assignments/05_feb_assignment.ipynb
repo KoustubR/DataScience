{
 "cells": [
  {
   "cell_type": "markdown",
   "id": "6e18d5e9",
   "metadata": {},
   "source": [
    "1. Explain Class and Object with respect to Object-Oriented Programming. Give a suitable example."
   ]
  },
  {
   "cell_type": "markdown",
   "id": "2e0fd3ac",
   "metadata": {},
   "source": [
    " A class is a user defined blueprint or prototype from which objects are created. It represents the set of properties or methods that are common to all objects of one type."
   ]
  },
  {
   "cell_type": "markdown",
   "id": "ba2598fa",
   "metadata": {},
   "source": [
    "Object is s basic unit of Object Oriented Programming and it represents the real life entities."
   ]
  },
  {
   "cell_type": "markdown",
   "id": "3ff6fd6b",
   "metadata": {},
   "source": [
    "Example: https://prnt.sc/iUMqAzeWr9B1"
   ]
  },
  {
   "cell_type": "code",
   "execution_count": 2,
   "id": "d8bd1bee",
   "metadata": {},
   "outputs": [],
   "source": [
    "class Account:\n",
    "    \n",
    "    def __init__(self,name,id_num,bal):\n",
    "        self.name = name\n",
    "        self.id_num = id_num\n",
    "        self.bal = bal\n",
    "        \n",
    "    def balance_enquiry(self):\n",
    "        return self.bal\n",
    "    \n",
    "    def withdraw_money(self,amount):\n",
    "        if amount > self.bal:\n",
    "            print(f'Not enough balance you have {self.bal} in your account')\n",
    "        else:\n",
    "            self.bal = self.bal-amount\n",
    "            print(f'Your new balance {self.bal}')\n",
    "            \n",
    "\n",
    "sbi = Account('Savings',123456, 100000)\n",
    "icici = Account('Savings', 234246, 50000)\n",
    "        "
   ]
  },
  {
   "cell_type": "code",
   "execution_count": 3,
   "id": "46721263",
   "metadata": {},
   "outputs": [
    {
     "data": {
      "text/plain": [
       "100000"
      ]
     },
     "execution_count": 3,
     "metadata": {},
     "output_type": "execute_result"
    }
   ],
   "source": [
    "sbi.balance_enquiry()"
   ]
  },
  {
   "cell_type": "code",
   "execution_count": 4,
   "id": "223dea95",
   "metadata": {},
   "outputs": [
    {
     "name": "stdout",
     "output_type": "stream",
     "text": [
      "Your new balance 50000\n"
     ]
    }
   ],
   "source": [
    "sbi.withdraw_money(50000)"
   ]
  },
  {
   "cell_type": "code",
   "execution_count": 5,
   "id": "ce581ace",
   "metadata": {},
   "outputs": [
    {
     "name": "stdout",
     "output_type": "stream",
     "text": [
      "Not enough balance you have 50000 in your account\n"
     ]
    }
   ],
   "source": [
    "sbi.withdraw_money(70000)"
   ]
  },
  {
   "cell_type": "code",
   "execution_count": 6,
   "id": "6e80b748",
   "metadata": {},
   "outputs": [
    {
     "data": {
      "text/plain": [
       "50000"
      ]
     },
     "execution_count": 6,
     "metadata": {},
     "output_type": "execute_result"
    }
   ],
   "source": [
    "icici.balance_enquiry()"
   ]
  },
  {
   "cell_type": "markdown",
   "id": "e3d22764",
   "metadata": {},
   "source": [
    "2. Name the four pillars of OOPs."
   ]
  },
  {
   "cell_type": "markdown",
   "id": "4c34ac2c",
   "metadata": {},
   "source": [
    "1. Abstraction: Data abstraction refers to providing only necessary information about the data to the outside world, hiding the background info or implementation.\n",
    "\n",
    "2. Encapsulation: Encapsulation is defined as wrapping up of data and information under a single unit.\n",
    "\n",
    "3. Inheritance: Inheritance is the process in which two classes have a relationship with each other, and objects of one class acquire properties and features of the other class.\n",
    "\n",
    "4. Polymorphism: The word polymorphism means having many forms. It is the ability to take more than one form. "
   ]
  },
  {
   "cell_type": "markdown",
   "id": "d65e7ec0",
   "metadata": {},
   "source": [
    "3. Explain why the __init__() function is used. Give a suitable example."
   ]
  },
  {
   "cell_type": "markdown",
   "id": "a02d1846",
   "metadata": {},
   "source": [
    "The __init__ method is the Python equivalent of the C++ constructor in an object-oriented approach. The __init__  function is called every time an object is created from a class. The __init__ method lets the class initialize the object’s attributes and serves no other purpose. It is only used within classes."
   ]
  },
  {
   "cell_type": "code",
   "execution_count": 7,
   "id": "82020369",
   "metadata": {},
   "outputs": [
    {
     "name": "stdout",
     "output_type": "stream",
     "text": [
      "Hello, my name isKoustub\n"
     ]
    }
   ],
   "source": [
    "class Person:\n",
    " \n",
    "    # init method or constructor\n",
    "    def __init__(self, name):\n",
    "        self.name = name\n",
    " \n",
    "    # Sample Method\n",
    "    def say_hi(self):\n",
    "        print(f'Hello, my name is{self.name}')\n",
    " \n",
    " \n",
    "p = Person('Koustub')\n",
    "p.say_hi()"
   ]
  },
  {
   "cell_type": "markdown",
   "id": "99c7c377",
   "metadata": {},
   "source": [
    "4. Why self is used in OOPs?"
   ]
  },
  {
   "cell_type": "markdown",
   "id": "3954f464",
   "metadata": {},
   "source": [
    "self represents the instance of the class. By using the “self”  we can access the attributes and methods of the class in python. It binds the attributes with the given arguments. The reason we use self is because Python does not use the @ syntax to refer to instance attributes. "
   ]
  },
  {
   "cell_type": "markdown",
   "id": "10412fe0",
   "metadata": {},
   "source": [
    "5. What is inheritance? Give an example for each type of inheritance."
   ]
  },
  {
   "cell_type": "markdown",
   "id": "759db14f",
   "metadata": {},
   "source": [
    "Inheritance is defined as the mechanism of inheriting the properties of the base class to the child class."
   ]
  },
  {
   "cell_type": "markdown",
   "id": "fe692299",
   "metadata": {},
   "source": [
    "Single Inheritance: \n",
    "Single inheritance enables a derived class to inherit properties from a single parent class, thus enabling code reusability and the addition of new features to existing code."
   ]
  },
  {
   "cell_type": "code",
   "execution_count": 16,
   "id": "6aff9ee7",
   "metadata": {},
   "outputs": [
    {
     "name": "stdout",
     "output_type": "stream",
     "text": [
      "This function is in parent class.\n",
      "This function is in child class.\n"
     ]
    }
   ],
   "source": [
    "class Parent:\n",
    "    def func1(self):\n",
    "        print(\"This function is in parent class.\")\n",
    "\n",
    "\n",
    "class Child(Parent):\n",
    "    def func2(self):\n",
    "        print(\"This function is in child class.\")\n",
    "\n",
    "\n",
    "object = Child()\n",
    "object.func1()\n",
    "object.func2()"
   ]
  },
  {
   "cell_type": "markdown",
   "id": "d66c8621",
   "metadata": {},
   "source": [
    "Multiple Inheritance: When a class can be derived from more than one base class this type of inheritance is called multiple inheritances. In multiple inheritances, all the features of the base classes are inherited into the derived class. "
   ]
  },
  {
   "cell_type": "code",
   "execution_count": 17,
   "id": "9b40630c",
   "metadata": {},
   "outputs": [
    {
     "name": "stdout",
     "output_type": "stream",
     "text": [
      "parent1 : Father\n",
      "parent2 : Mother\n"
     ]
    }
   ],
   "source": [
    "class parent1:\n",
    "    parent1name = \"\"\n",
    " \n",
    "    def parent1(self):\n",
    "        print(self.parent1name)\n",
    "\n",
    "        \n",
    "class parent2:\n",
    "    parent2name = \"\"\n",
    " \n",
    "    def parent2(self):\n",
    "        print(self.parent2name)\n",
    "\n",
    "\n",
    "class Child(parent1, parent2):\n",
    "    def parents(self):\n",
    "        print(\"parent1 :\", self.parent1name)\n",
    "        print(\"parent2 :\", self.parent2name)\n",
    " \n",
    " \n",
    "s1 = Child()\n",
    "s1.parent1name = \"Father\"\n",
    "s1.parent2name = \"Mother\"\n",
    "s1.parents()"
   ]
  },
  {
   "cell_type": "markdown",
   "id": "2aa093da",
   "metadata": {},
   "source": [
    "Multilevel Inheritance: In multilevel inheritance, features of the base class and the derived class are further inherited into the new derived class. This is similar to a relationship representing a child and a grandfather. "
   ]
  },
  {
   "cell_type": "code",
   "execution_count": 18,
   "id": "dfb4b5bf",
   "metadata": {},
   "outputs": [
    {
     "name": "stdout",
     "output_type": "stream",
     "text": [
      "Lal mani\n",
      "Grandfather name : Lal mani\n",
      "Father name : Rampal\n",
      "Son name : Prince\n"
     ]
    }
   ],
   "source": [
    "class Grandfather:\n",
    " \n",
    "    def __init__(self, grandfathername):\n",
    "        self.grandfathername = grandfathername\n",
    "\n",
    "\n",
    "        \n",
    "class Father(Grandfather):\n",
    "    def __init__(self, fathername, grandfathername):\n",
    "        self.fathername = fathername\n",
    " \n",
    "        # invoking constructor of Grandfather class\n",
    "        Grandfather.__init__(self, grandfathername)\n",
    "  \n",
    " \n",
    "class Son(Father):\n",
    "    def __init__(self, sonname, fathername, grandfathername):\n",
    "        self.sonname = sonname\n",
    " \n",
    "        Father.__init__(self, fathername, grandfathername)\n",
    " \n",
    "    def print_name(self):\n",
    "        print('Grandfather name :', self.grandfathername)\n",
    "        print(\"Father name :\", self.fathername)\n",
    "        print(\"Son name :\", self.sonname)\n",
    " \n",
    " \n",
    "s1 = Son('Prince', 'Rampal', 'Lal mani')\n",
    "print(s1.grandfathername)\n",
    "s1.print_name()"
   ]
  },
  {
   "cell_type": "markdown",
   "id": "80b8a458",
   "metadata": {},
   "source": [
    "Hierarchical Inheritance:  When more than one derived class are created from a single base this type of inheritance is called hierarchical inheritance. In this program, we have a parent (base) class and two child (derived) classes."
   ]
  },
  {
   "cell_type": "code",
   "execution_count": 19,
   "id": "89832ecb",
   "metadata": {},
   "outputs": [
    {
     "name": "stdout",
     "output_type": "stream",
     "text": [
      "This function is in parent class.\n",
      "This function is in child 1.\n",
      "This function is in parent class.\n",
      "This function is in child 2.\n"
     ]
    }
   ],
   "source": [
    "class Parent:\n",
    "    def func1(self):\n",
    "        print(\"This function is in parent class.\")\n",
    " \n",
    " \n",
    "class Child1(Parent):\n",
    "    def func2(self):\n",
    "        print(\"This function is in child 1.\")\n",
    "  \n",
    " \n",
    "class Child2(Parent):\n",
    "    def func3(self):\n",
    "        print(\"This function is in child 2.\")\n",
    " \n",
    " \n",
    "object1 = Child1()\n",
    "object2 = Child2()\n",
    "object1.func1()\n",
    "object1.func2()\n",
    "object2.func1()\n",
    "object2.func3()"
   ]
  },
  {
   "cell_type": "markdown",
   "id": "908611b3",
   "metadata": {},
   "source": [
    "Hybrid Inheritance:  Inheritance consisting of multiple types of inheritance is called hybrid inheritance."
   ]
  },
  {
   "cell_type": "code",
   "execution_count": 20,
   "id": "058962ee",
   "metadata": {},
   "outputs": [
    {
     "name": "stdout",
     "output_type": "stream",
     "text": [
      "This function is in school.\n",
      "This function is in student 1. \n"
     ]
    }
   ],
   "source": [
    "class School:\n",
    "    def func1(self):\n",
    "        print(\"This function is in school.\")\n",
    " \n",
    " \n",
    "class Student1(School):\n",
    "    def func2(self):\n",
    "        print(\"This function is in student 1. \")\n",
    " \n",
    " \n",
    "class Student2(School):\n",
    "    def func3(self):\n",
    "        print(\"This function is in student 2.\")\n",
    " \n",
    " \n",
    "class Student3(Student1, School):\n",
    "    def func4(self):\n",
    "        print(\"This function is in student 3.\")\n",
    " \n",
    " \n",
    "object = Student3()\n",
    "object.func1()\n",
    "object.func2()"
   ]
  }
 ],
 "metadata": {
  "kernelspec": {
   "display_name": "Python 3 (ipykernel)",
   "language": "python",
   "name": "python3"
  },
  "language_info": {
   "codemirror_mode": {
    "name": "ipython",
    "version": 3
   },
   "file_extension": ".py",
   "mimetype": "text/x-python",
   "name": "python",
   "nbconvert_exporter": "python",
   "pygments_lexer": "ipython3",
   "version": "3.9.12"
  }
 },
 "nbformat": 4,
 "nbformat_minor": 5
}
