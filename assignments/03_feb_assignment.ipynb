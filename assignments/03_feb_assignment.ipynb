{
 "cells": [
  {
   "cell_type": "markdown",
   "id": "6e7ffa0f",
   "metadata": {},
   "source": [
    "1. Which keyword is used to create a function? Create a function to return a list of odd numbers in the range of 1 to 25."
   ]
  },
  {
   "cell_type": "markdown",
   "id": "e30fcca3",
   "metadata": {},
   "source": [
    "Ans. The keyword used to create a function is def\n",
    "\n",
    "Syntax:\n",
    "\n",
    "def function_name(arguments.....):\n",
    "\n",
    "    Body of the function\n"
   ]
  },
  {
   "cell_type": "code",
   "execution_count": 2,
   "id": "74a865d6",
   "metadata": {},
   "outputs": [
    {
     "data": {
      "text/plain": [
       "[1, 3, 5, 7, 9, 11, 13, 15, 17, 19, 21, 23]"
      ]
     },
     "execution_count": 2,
     "metadata": {},
     "output_type": "execute_result"
    }
   ],
   "source": [
    "def odd_number():\n",
    "    lst = []\n",
    "    for i in range(1,25):\n",
    "        if i%2!=0:\n",
    "            lst.append(i)\n",
    "    return lst\n",
    "\n",
    "odd_number()"
   ]
  },
  {
   "cell_type": "markdown",
   "id": "8e0e5fc8",
   "metadata": {},
   "source": [
    "2. Why *args and **kwargs is used in some functions? Create a function each for *args and **kwargs to demonstrate their use."
   ]
  },
  {
   "cell_type": "markdown",
   "id": "dd4c78cd",
   "metadata": {},
   "source": [
    "args -> The special syntax args in function definitions in python is used to pass a variable number of arguments to a function.(It will be able to take any number of arguments in a runtime)"
   ]
  },
  {
   "cell_type": "code",
   "execution_count": 3,
   "id": "0bc0a638",
   "metadata": {},
   "outputs": [],
   "source": [
    "def test1(*args):\n",
    "    return args"
   ]
  },
  {
   "cell_type": "code",
   "execution_count": 4,
   "id": "6ef770d6",
   "metadata": {},
   "outputs": [
    {
     "data": {
      "text/plain": [
       "(2, 3, 4)"
      ]
     },
     "execution_count": 4,
     "metadata": {},
     "output_type": "execute_result"
    }
   ],
   "source": [
    "test1(2,3,4)"
   ]
  },
  {
   "cell_type": "code",
   "execution_count": 5,
   "id": "2c005611",
   "metadata": {},
   "outputs": [
    {
     "data": {
      "text/plain": [
       "(2,)"
      ]
     },
     "execution_count": 5,
     "metadata": {},
     "output_type": "execute_result"
    }
   ],
   "source": [
    "test1(2)"
   ]
  },
  {
   "cell_type": "markdown",
   "id": "e2f4456b",
   "metadata": {},
   "source": [
    "kwargs in function definitions in python is used to pass a keyworded, variable-length argument list. (kwargs will take n- number of arguments in the form of key value pair)\n",
    "\n"
   ]
  },
  {
   "cell_type": "code",
   "execution_count": 1,
   "id": "e5d50009",
   "metadata": {},
   "outputs": [],
   "source": [
    "def test2(**kwargs):\n",
    "    return kwargs"
   ]
  },
  {
   "cell_type": "code",
   "execution_count": 3,
   "id": "af4d2082",
   "metadata": {},
   "outputs": [
    {
     "data": {
      "text/plain": [
       "{'a': 34, 'b': 23, 'c': [1, 2, 3]}"
      ]
     },
     "execution_count": 3,
     "metadata": {},
     "output_type": "execute_result"
    }
   ],
   "source": [
    "test2(a = 34, b = 23, c = [1,2,3] )"
   ]
  },
  {
   "cell_type": "markdown",
   "id": "4af12ac3",
   "metadata": {},
   "source": [
    "3. What is an iterator in python? Name the method used to initialise the iterator object and the method used for iteration. Use these methods to print the first five elements of the given list [2, 4, 6, 8, 10, 12, 14, 16,\n",
    "18, 20]."
   ]
  },
  {
   "cell_type": "markdown",
   "id": "2a24191c-ba7d-497d-bab5-d9ee13213127",
   "metadata": {},
   "source": [
    "An iterator is an object that contains a countable number of values. An iterator is an object that can be iterated upon, meaning that you can traverse through all the values.\n",
    "\n",
    "To create an object/class as an iterator you have to implement the methods __iter__() and __next__() to your object.\n",
    "\n",
    "The __iter__() method acts similar, you can do operations (initializing etc.), but must always return the iterator object itself.\n",
    "\n",
    "The __next__() method also allows you to do operations, and must return the next item in the sequence."
   ]
  },
  {
   "cell_type": "code",
   "execution_count": 6,
   "id": "42801733-b408-486a-addc-285fd1fbea18",
   "metadata": {},
   "outputs": [
    {
     "name": "stdout",
     "output_type": "stream",
     "text": [
      "2\n",
      "4\n",
      "6\n",
      "8\n",
      "10\n"
     ]
    }
   ],
   "source": [
    "lst =[2, 4, 6, 8, 10, 12, 14, 16, 18, 20]\n",
    "myitr = iter(lst)\n",
    "\n",
    "for i in range(5):\n",
    "    print(next(myitr))"
   ]
  },
  {
   "cell_type": "markdown",
   "id": "295cd6e9",
   "metadata": {},
   "source": [
    "4. What is a generator function in python? Why yield keyword is used? Give an example of a generator function."
   ]
  },
  {
   "cell_type": "markdown",
   "id": "541a71a3-120c-47ae-95fc-f8dd1349d3f6",
   "metadata": {},
   "source": [
    "A generator-function is defined like a normal function, but whenever it needs to generate a value, it does so with the yield keyword rather than return. If the body of a def contains yield, the function automatically becomes a generator function.\n",
    "\n",
    "The yield statement suspends a function’s execution and sends a value back to the caller, but retains enough state to enable the function to resume where it left off. When the function resumes, it continues execution immediately after the last yield run."
   ]
  },
  {
   "cell_type": "code",
   "execution_count": 4,
   "id": "bdab674a-1b9b-4ea4-aaae-dd36550ec428",
   "metadata": {},
   "outputs": [
    {
     "name": "stdout",
     "output_type": "stream",
     "text": [
      "0\n",
      "1\n",
      "1\n",
      "2\n",
      "3\n",
      "5\n",
      "8\n",
      "13\n",
      "21\n",
      "34\n"
     ]
    }
   ],
   "source": [
    "def fib(n):\n",
    "    a,b =0,1\n",
    "    for i in range(n):\n",
    "        yield a\n",
    "        a,b = b,a+b\n",
    "        \n",
    "\n",
    "\n",
    "for i in fib(10):\n",
    "    print(i)"
   ]
  },
  {
   "cell_type": "markdown",
   "id": "bf58055f",
   "metadata": {},
   "source": [
    "5. Create a generator function for prime numbers less than 1000. Use the next() method to print the first 20 prime numbers."
   ]
  },
  {
   "cell_type": "code",
   "execution_count": 1,
   "id": "16e26a8b",
   "metadata": {},
   "outputs": [
    {
     "name": "stdout",
     "output_type": "stream",
     "text": [
      "2\n",
      "3\n",
      "5\n",
      "7\n",
      "11\n",
      "13\n",
      "17\n",
      "19\n",
      "23\n",
      "29\n",
      "31\n",
      "37\n",
      "41\n",
      "43\n",
      "47\n",
      "53\n",
      "59\n",
      "61\n",
      "67\n",
      "71\n"
     ]
    }
   ],
   "source": [
    "def prime(n):\n",
    "    for x in range(2,n+1):\n",
    "        for y in range(2 , x):\n",
    "            if x%y == 0:\n",
    "                break\n",
    "        else:\n",
    "            yield(x)\n",
    "                \n",
    "my_itr = iter(prime(1000))\n",
    "for j in range(20):\n",
    "    print(next(my_itr))"
   ]
  }
 ],
 "metadata": {
  "kernelspec": {
   "display_name": "Python 3 (ipykernel)",
   "language": "python",
   "name": "python3"
  },
  "language_info": {
   "codemirror_mode": {
    "name": "ipython",
    "version": 3
   },
   "file_extension": ".py",
   "mimetype": "text/x-python",
   "name": "python",
   "nbconvert_exporter": "python",
   "pygments_lexer": "ipython3",
   "version": "3.9.12"
  }
 },
 "nbformat": 4,
 "nbformat_minor": 5
}
