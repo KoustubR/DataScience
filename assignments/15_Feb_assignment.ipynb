{
 "cells": [
  {
   "cell_type": "markdown",
   "id": "e7a72b36",
   "metadata": {},
   "source": [
    "# 15th Feb Assignment"
   ]
  },
  {
   "cell_type": "markdown",
   "id": "06ebb81c",
   "metadata": {},
   "source": [
    "#### 1. What is multiprocessing in python? Why is it useful?"
   ]
  },
  {
   "cell_type": "markdown",
   "id": "ee66abdb",
   "metadata": {},
   "source": [
    "Multiprocessing is a built-in Python module that allows the system to execute numerous processes at the same time. It will allow programmes to be divided into smaller threads that may operate independently. The operating system may then assign all of these threads or processes to the CPU and have them execute in parallel, enhancing overall performance and efficiency.\n",
    "\n",
    "Performing multiple operations for a single processor becomes challenging. As the number of processes keeps increasing, the processor will have to halt the current process and move to the next, to keep them going. Thus, it will have to interrupt each task, thereby hampering the performance."
   ]
  },
  {
   "cell_type": "markdown",
   "id": "4668795e",
   "metadata": {},
   "source": [
    "#### 2.  What are the differences between multiprocessing and multithreading?"
   ]
  },
  {
   "cell_type": "markdown",
   "id": "451632a3",
   "metadata": {},
   "source": [
    "Multiprocessing increases computing power by using two or more CPUs, whereas multithreading increases computing power by using a single process with several code segments.\n",
    "\n",
    "Multithreading is concerned with creating computational threads from a single process, whereas multiprocessing is concerned with increasing computing capacity by adding CPUs.\n",
    "\n",
    "Multiprocessing is used to make a more dependable system, whereas multithreading is used to produce parallel threads.\n",
    "\n",
    "Multithreading is easy to set up and requires minimal resources, whereas multiprocessing takes a long time and particular resources to set up.\n",
    "\n",
    "Multiprocessing operates many processes at the same time, whereas multithreading executes multiple threads at the same time.\n",
    "\n",
    "Multiprocessing produces a distinct address space for each process, whereas multithreading uses a shared address space for all threads."
   ]
  },
  {
   "cell_type": "markdown",
   "id": "d6109021",
   "metadata": {},
   "source": [
    "#### 3. Write a python code to create a process using the multiprocessing module."
   ]
  },
  {
   "cell_type": "code",
   "execution_count": 1,
   "id": "6c019536",
   "metadata": {},
   "outputs": [],
   "source": [
    "import multiprocessing"
   ]
  },
  {
   "cell_type": "code",
   "execution_count": 2,
   "id": "3e4ec6fb",
   "metadata": {},
   "outputs": [
    {
     "name": "stdout",
     "output_type": "stream",
     "text": [
      "This is my main program\n",
      "This is my multiprocessing program\n"
     ]
    }
   ],
   "source": [
    "def test():\n",
    "    print('This is my multiprocessing program')\n",
    "    \n",
    "if __name__ == '__main__':\n",
    "    m = multiprocessing.Process(target=test)\n",
    "    print('This is my main program')\n",
    "    m.start()\n",
    "    m.join()"
   ]
  },
  {
   "cell_type": "markdown",
   "id": "dcd6b0ce-fa0c-40ee-8a96-9d94f4b8b3b7",
   "metadata": {},
   "source": [
    "#### 4. What is a multiprocessing pool in python? Why is it used?"
   ]
  },
  {
   "cell_type": "markdown",
   "id": "5780185e-5633-4e7f-a005-6659ed0119c4",
   "metadata": {},
   "source": [
    "In Python, a multiprocessing pool is a set of explanations of the process that may execute tasks concurrently. The process of multiprocessing. The Pool class makes it easy to construct a defined number of worker processes and assign tasks to them.\n",
    "\n",
    "Pool class when you need to execute tasks that may or may not take arguments and may or may not return a result once the tasks are complete. Use multiprocessing. Pool class when you need to execute different types of ad hoc tasks, such as calling different target task functions"
   ]
  },
  {
   "cell_type": "code",
   "execution_count": 3,
   "id": "5d185438",
   "metadata": {},
   "outputs": [
    {
     "name": "stdout",
     "output_type": "stream",
     "text": [
      "[1, 4, 9, 16, 25]\n"
     ]
    }
   ],
   "source": [
    "def square(n):\n",
    "    return n*n\n",
    "\n",
    "if __name__ == '__main__':\n",
    "    with multiprocessing.Pool(processes=5) as pool:\n",
    "        out = pool.map(square, [1,2,3,4,5])\n",
    "        print(out)"
   ]
  },
  {
   "cell_type": "markdown",
   "id": "dae37581-0748-4ef6-9311-562541af4a15",
   "metadata": {},
   "source": [
    "#### 5. How can we create a pool of worker processes in python using the multiprocessing module?"
   ]
  },
  {
   "cell_type": "markdown",
   "id": "192ecc15-ca0f-4abe-80b0-853cbd0cf848",
   "metadata": {},
   "source": [
    "The Pool class represents a pool of worker processes. It has methods which allows tasks to be offloaded to the worker processes in a few different ways."
   ]
  },
  {
   "cell_type": "code",
   "execution_count": 4,
   "id": "034b3862-e31d-402d-9250-26c261191621",
   "metadata": {},
   "outputs": [
    {
     "name": "stdout",
     "output_type": "stream",
     "text": [
      "[0, 1, 4, 9, 16, 25, 36, 49, 64, 81]\n",
      "0\n",
      "1\n",
      "4\n",
      "9\n",
      "25\n",
      "16\n",
      "36\n",
      "64\n",
      "49\n",
      "81\n",
      "400\n",
      "673\n",
      "[671, 672, 671, 670]\n",
      "We lacked patience and got a multiprocessing.TimeoutError\n",
      "For the moment, the pool remains available for more work\n",
      "Now the pool is closed and no longer available\n"
     ]
    }
   ],
   "source": [
    "from multiprocessing import Pool, TimeoutError\n",
    "import time\n",
    "import os\n",
    "\n",
    "def f(x):\n",
    "    return x*x\n",
    "\n",
    "if __name__ == '__main__':\n",
    "    # start 4 worker processes\n",
    "    with Pool(processes=4) as pool:\n",
    "\n",
    "        print(pool.map(f, range(10)))\n",
    "\n",
    "        for i in pool.imap_unordered(f, range(10)):\n",
    "            print(i)\n",
    "\n",
    "        res = pool.apply_async(f, (20,))      \n",
    "        print(res.get(timeout=1))             \n",
    "\n",
    "        # evaluate \"os.getpid()\" asynchronously\n",
    "        res = pool.apply_async(os.getpid, ()) # runs in *only* one process\n",
    "        print(res.get(timeout=1))             # prints the PID of that process\n",
    "\n",
    "        # launching multiple evaluations asynchronously *may* use more processes\n",
    "        multiple_results = [pool.apply_async(os.getpid, ()) for i in range(4)]\n",
    "        print([res.get(timeout=1) for res in multiple_results])\n",
    "\n",
    "        # make a single worker sleep for 10 seconds\n",
    "        res = pool.apply_async(time.sleep, (10,))\n",
    "        try:\n",
    "            print(res.get(timeout=1))\n",
    "        except TimeoutError:\n",
    "            print(\"We lacked patience and got a multiprocessing.TimeoutError\")\n",
    "\n",
    "        print(\"For the moment, the pool remains available for more work\")\n",
    "\n",
    "    # exiting the 'with'-block has stopped the pool\n",
    "    print(\"Now the pool is closed and no longer available\")"
   ]
  },
  {
   "cell_type": "markdown",
   "id": "633ea9ed-9051-48cb-8045-3c9edaa08e30",
   "metadata": {},
   "source": [
    "#### 6. Write a python program to create 4 processes, each process should print a different number using the multiprocessing module in python."
   ]
  },
  {
   "cell_type": "code",
   "execution_count": 5,
   "id": "92ba2be6-cb34-4eed-ac1c-d5c5940aecf3",
   "metadata": {},
   "outputs": [
    {
     "name": "stdout",
     "output_type": "stream",
     "text": [
      "Number: 1\n",
      "\n",
      "Number: 2\n",
      "\n",
      "Number: 3\n",
      "\n",
      "Number: 4\n",
      "\n"
     ]
    }
   ],
   "source": [
    "import multiprocessing\n",
    "\n",
    "def print_number(num):\n",
    "    print(f\"Number: {num}\\n\")\n",
    "\n",
    "if __name__ == '__main__':\n",
    "    processes = []\n",
    "    for num in range(1, 5):\n",
    "        process = multiprocessing.Process(target=print_number, args=(num,))\n",
    "        processes.append(process)\n",
    "        process.start()\n",
    "\n",
    "    for process in processes:\n",
    "        process.join()"
   ]
  }
 ],
 "metadata": {
  "kernelspec": {
   "display_name": "Python 3 (ipykernel)",
   "language": "python",
   "name": "python3"
  },
  "language_info": {
   "codemirror_mode": {
    "name": "ipython",
    "version": 3
   },
   "file_extension": ".py",
   "mimetype": "text/x-python",
   "name": "python",
   "nbconvert_exporter": "python",
   "pygments_lexer": "ipython3",
   "version": "3.10.8"
  }
 },
 "nbformat": 4,
 "nbformat_minor": 5
}
