{
 "cells": [
  {
   "cell_type": "markdown",
   "id": "367f5abf-814e-4d96-a82b-35ce5b2d6e78",
   "metadata": {},
   "source": [
    "# 20 February Assignment"
   ]
  },
  {
   "cell_type": "markdown",
   "id": "b3cc71cf-0866-4293-8a41-b61dde48edae",
   "metadata": {},
   "source": [
    "#### Q1. Explain GET and POST methods.\n"
   ]
  },
  {
   "cell_type": "markdown",
   "id": "3d5e6b5b-ae6b-4664-bd73-5c5ca893e580",
   "metadata": {},
   "source": [
    "GET METHOD: The GET technique is used to obtain information from the server. When a browser makes a GET request, the request parameters are appended to the URL as a query string. After that, the server responds by providing the requested data back to the browser. The HTTP method is idempotent, which means that repeating the same GET request will always result in the same response.\n",
    "\n",
    "POST METHOD:The POST method is used to send data to the server, generally to change the server's state. When a browser sends a POST request, the request parameters are sent in the body of the request rather than appended to the URL. The POST method is not idempotent, which means that repeating the same POST request may result in different results, such as the creation of several resources on the server.\n"
   ]
  },
  {
   "cell_type": "markdown",
   "id": "b8173897-9efa-4ee4-bb21-5bed223eacd0",
   "metadata": {},
   "source": [
    "#### Q2. Why is request used in Flask?"
   ]
  },
  {
   "cell_type": "markdown",
   "id": "2e7e1a44-610d-410d-b7c9-897799d557f1",
   "metadata": {},
   "source": [
    "The request object in Flask is used to access incoming request data sent by a client, often a web browser. The request object offers access to information from the request, such as form data, query string arguments, and HTTP headers.\n",
    "\n",
    "Retrieving form data\n",
    "\n",
    "Query parameters\n",
    "\n",
    "File uploads\n"
   ]
  },
  {
   "cell_type": "markdown",
   "id": "e45068d5-1735-4ae2-a23d-9c35cd0043dd",
   "metadata": {},
   "source": [
    "#### Q3. Why is redirect() used in Flask?"
   ]
  },
  {
   "cell_type": "markdown",
   "id": "ca4346e4-c1f3-421c-85bf-eda8a069dff4",
   "metadata": {},
   "source": [
    "In Flask, the redirect() function is used to redirect the user to a different URL, generally in reaction to a user action or to conduct a specific server activity. It generates a new HTTP response with the 302 status code, instructing the client (for example, a web browser) to redirect to the provided URL.\n",
    "\n",
    "Some common use cases for the redirect() function in Flask:\n",
    "\n",
    "After a successful form submission\n",
    "\n",
    "After a login/logout action\n",
    "\n",
    "Handling errors or invalid requests"
   ]
  },
  {
   "cell_type": "markdown",
   "id": "eb6b84f9-a6d3-4c2c-bdb1-4975da77585b",
   "metadata": {},
   "source": [
    "#### Q4. What are templates in Flask? Why is the render_template() function used?"
   ]
  },
  {
   "cell_type": "markdown",
   "id": "1c28b589-fb8a-43bd-abd1-b240a8239a46",
   "metadata": {},
   "source": [
    "Templates in Flask are pre-built HTML files that contain placeholders for dynamic content, such as data from a database or user input.The render_template() function in Flask is used to render a template and pass data to it for rendering. \n",
    "\n",
    "It takes two arguments: the name of the template file and any data that should be passed to the template. The function loads the specified template file from the templates directory and renders it with the provided data.\n",
    "\n",
    "render_template() is used for:\n",
    "\n",
    "Displaying dynamic data\n",
    "\n",
    "Separating content and presentation\n",
    "\n",
    "Reusing code"
   ]
  },
  {
   "cell_type": "markdown",
   "id": "696d6010-ebc6-4e69-bc21-07090b4082ba",
   "metadata": {},
   "source": [
    "#### Q5. Create a simple API. Use Postman to test it. Attach the screenshot of the output in the Jupyter Notebook."
   ]
  },
  {
   "cell_type": "markdown",
   "id": "45537172-405a-44d5-a9cc-3fb26a86a051",
   "metadata": {},
   "source": [
    "https://github.com/KoustubR/DataScience/blob/main/assignments/20_Feb_assignment/postman_1.png"
   ]
  },
  {
   "cell_type": "markdown",
   "id": "32567bc2-dd6e-486a-8c5b-252f009650e8",
   "metadata": {},
   "source": [
    "https://github.com/KoustubR/DataScience/blob/main/assignments/20_Feb_assignment/postman_2.png"
   ]
  }
 ],
 "metadata": {
  "kernelspec": {
   "display_name": "Python 3 (ipykernel)",
   "language": "python",
   "name": "python3"
  },
  "language_info": {
   "codemirror_mode": {
    "name": "ipython",
    "version": 3
   },
   "file_extension": ".py",
   "mimetype": "text/x-python",
   "name": "python",
   "nbconvert_exporter": "python",
   "pygments_lexer": "ipython3",
   "version": "3.10.8"
  }
 },
 "nbformat": 4,
 "nbformat_minor": 5
}
