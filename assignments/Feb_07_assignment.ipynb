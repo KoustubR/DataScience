{
 "cells": [
  {
   "cell_type": "markdown",
   "id": "940bf55e",
   "metadata": {},
   "source": [
    "1. You are writing code for a company. The requirement of the company is that you create a python\n",
    "function that will check whether the password entered by the user is correct or not. The function should\n",
    "take the password as input and return the string “Valid Password” if the entered password follows the\n",
    "below-given password guidelines else it should return “Invalid Password”.\n",
    "\n",
    "\n",
    "Note:\n",
    "1. The Password should contain at least two uppercase letters and at least two lowercase letters.\n",
    "2. The Password should contain at least a number and three special characters.\n",
    "3. The length of the password should be 10 characters long."
   ]
  },
  {
   "cell_type": "code",
   "execution_count": 5,
   "id": "6b8d68bb",
   "metadata": {},
   "outputs": [
    {
     "name": "stdout",
     "output_type": "stream",
     "text": [
      "p@s$w0rd#1 is Invalid Password\n",
      "P@S$W0RD#1 is Invalid Password\n",
      "p@s$wOrd#S is Invalid Password\n",
      "pAsSwOrd#1 is Invalid Password\n",
      "P@S$w0rd# is Invalid Password\n",
      "P@S$w0rd#1 is Valid Password\n"
     ]
    }
   ],
   "source": [
    "def ispass_valid(u, l, n, sp):\n",
    "    if u >= 2 and l >= 2 and n >= 1 and sp >= 3:\n",
    "        return 'Valid Password'\n",
    "    else:\n",
    "        return 'Invalid Password'\n",
    "\n",
    "\n",
    "def password_check(password):\n",
    "    upper = 0\n",
    "    lower = 0\n",
    "    num = 0\n",
    "    special_list = ['@','_','!','#','$','%','^','&','*','(',')','<','>','?','/','|','}','{','~',':']\n",
    "    special = 0\n",
    "    if len(password)!=10:\n",
    "        return 'Invalid Password'\n",
    "    else:\n",
    "        for a in password:\n",
    "            if a.isupper():\n",
    "                upper += 1\n",
    "            elif a.islower():\n",
    "                lower += 1\n",
    "            elif a.isnumeric():\n",
    "                num += 1\n",
    "            elif a in special_list:\n",
    "                special += 1\n",
    "        op = ispass_valid(upper, lower, num,special)\n",
    "        return op\n",
    "        \n",
    "        \n",
    "        \n",
    "testcase = ['p@s$w0rd#1','P@S$W0RD#1','p@s$wOrd#S','pAsSwOrd#1','P@S$w0rd#','P@S$w0rd#1']\n",
    "\n",
    "for i in testcase:\n",
    "    print(f'{i} is {password_check(i)}')"
   ]
  },
  {
   "cell_type": "markdown",
   "id": "80fe3eca",
   "metadata": {},
   "source": [
    "2. Solve the below-given questions using at least one of the following:\n",
    "\n",
    "1. Lambda function\n",
    "\n",
    "2. Filter function\n",
    "\n",
    "3. Map function\n",
    "\n",
    "4. List Comprehension\n",
    "\n",
    "Check if the string starts with a particular letter\n"
   ]
  },
  {
   "cell_type": "code",
   "execution_count": 12,
   "id": "2318e1dc",
   "metadata": {},
   "outputs": [],
   "source": [
    "a = lambda x,y : True if x[0]==y else False"
   ]
  },
  {
   "cell_type": "code",
   "execution_count": 13,
   "id": "790b634c",
   "metadata": {},
   "outputs": [
    {
     "data": {
      "text/plain": [
       "True"
      ]
     },
     "execution_count": 13,
     "metadata": {},
     "output_type": "execute_result"
    }
   ],
   "source": [
    "a('koustub', 'k')"
   ]
  },
  {
   "cell_type": "code",
   "execution_count": 14,
   "id": "9edd64fb",
   "metadata": {},
   "outputs": [
    {
     "data": {
      "text/plain": [
       "False"
      ]
     },
     "execution_count": 14,
     "metadata": {},
     "output_type": "execute_result"
    }
   ],
   "source": [
    "a('Koustub', 'R')"
   ]
  },
  {
   "cell_type": "markdown",
   "id": "d9f45910",
   "metadata": {},
   "source": [
    "Check if the string is numeric"
   ]
  },
  {
   "cell_type": "code",
   "execution_count": 15,
   "id": "122859cf",
   "metadata": {},
   "outputs": [],
   "source": [
    "isnum = lambda x: x.isnumeric()"
   ]
  },
  {
   "cell_type": "code",
   "execution_count": 16,
   "id": "3e5c2691",
   "metadata": {},
   "outputs": [
    {
     "data": {
      "text/plain": [
       "True"
      ]
     },
     "execution_count": 16,
     "metadata": {},
     "output_type": "execute_result"
    }
   ],
   "source": [
    "isnum('1234')"
   ]
  },
  {
   "cell_type": "code",
   "execution_count": 17,
   "id": "4edac1cb",
   "metadata": {},
   "outputs": [
    {
     "data": {
      "text/plain": [
       "False"
      ]
     },
     "execution_count": 17,
     "metadata": {},
     "output_type": "execute_result"
    }
   ],
   "source": [
    "isnum('1abs')"
   ]
  },
  {
   "cell_type": "markdown",
   "id": "d719ad82",
   "metadata": {},
   "source": [
    "Sort a list of tuples having fruit names and their quantity. [(\"mango\",99),(\"orange\",80), (\"grapes\", 1000)]"
   ]
  },
  {
   "cell_type": "code",
   "execution_count": 18,
   "id": "978750bf",
   "metadata": {},
   "outputs": [
    {
     "data": {
      "text/plain": [
       "[('orange', 80), ('mango', 99), ('grapes', 1000)]"
      ]
     },
     "execution_count": 18,
     "metadata": {},
     "output_type": "execute_result"
    }
   ],
   "source": [
    "lst = [(\"mango\",99),(\"orange\",80), (\"grapes\", 1000)]\n",
    "lst.sort(key = lambda x: x[1])\n",
    "lst"
   ]
  },
  {
   "cell_type": "code",
   "execution_count": 19,
   "id": "07091dc1",
   "metadata": {},
   "outputs": [],
   "source": [
    "lst.sort(key = lambda x: x[0])"
   ]
  },
  {
   "cell_type": "code",
   "execution_count": 20,
   "id": "4f58bb89",
   "metadata": {},
   "outputs": [
    {
     "data": {
      "text/plain": [
       "[('grapes', 1000), ('mango', 99), ('orange', 80)]"
      ]
     },
     "execution_count": 20,
     "metadata": {},
     "output_type": "execute_result"
    }
   ],
   "source": [
    "lst"
   ]
  },
  {
   "cell_type": "markdown",
   "id": "1c76f568",
   "metadata": {},
   "source": [
    "Find the squares of numbers from 1 to 10"
   ]
  },
  {
   "cell_type": "code",
   "execution_count": 21,
   "id": "8fcc3074",
   "metadata": {},
   "outputs": [
    {
     "data": {
      "text/plain": [
       "[1, 4, 9, 16, 25, 36, 49, 64, 81, 100]"
      ]
     },
     "execution_count": 21,
     "metadata": {},
     "output_type": "execute_result"
    }
   ],
   "source": [
    "[x**2 for x in range(1,11)]"
   ]
  },
  {
   "cell_type": "markdown",
   "id": "15f7e59d",
   "metadata": {},
   "source": [
    "Find the cube root of numbers from 1 to 10"
   ]
  },
  {
   "cell_type": "code",
   "execution_count": 23,
   "id": "71ca34c9",
   "metadata": {},
   "outputs": [
    {
     "data": {
      "text/plain": [
       "[1.0, 1.2599, 1.4422, 1.5874, 1.71, 1.8171, 1.9129, 2.0, 2.0801, 2.1544]"
      ]
     },
     "execution_count": 23,
     "metadata": {},
     "output_type": "execute_result"
    }
   ],
   "source": [
    "[round(x ** (1/3),4) for x in range(1,11)]"
   ]
  },
  {
   "cell_type": "markdown",
   "id": "556375c2",
   "metadata": {},
   "source": [
    "Check if a given number is even"
   ]
  },
  {
   "cell_type": "code",
   "execution_count": 24,
   "id": "2aff7140",
   "metadata": {},
   "outputs": [
    {
     "name": "stdout",
     "output_type": "stream",
     "text": [
      "Please enter a number2\n",
      "True\n"
     ]
    }
   ],
   "source": [
    "def iseven(n):\n",
    "    if n%2 == 0:\n",
    "        return True\n",
    "    else:\n",
    "        return False\n",
    "num = int(input('Please enter a number'))\n",
    "print(iseven(num)) "
   ]
  },
  {
   "cell_type": "markdown",
   "id": "29dd6baa",
   "metadata": {},
   "source": [
    "Filter odd numbers from the given list.\n",
    "[1,2,3,4,5,6,7,8,9,10]"
   ]
  },
  {
   "cell_type": "code",
   "execution_count": 25,
   "id": "6b3063d2",
   "metadata": {},
   "outputs": [
    {
     "data": {
      "text/plain": [
       "[1, 3, 5, 7, 9]"
      ]
     },
     "execution_count": 25,
     "metadata": {},
     "output_type": "execute_result"
    }
   ],
   "source": [
    "list1 = [1,2,3,4,5,6,7,8,9,10]\n",
    "[x for x in list1 if x%2!=0]"
   ]
  },
  {
   "cell_type": "markdown",
   "id": "c1495e96",
   "metadata": {},
   "source": [
    "Sort a list of integers into positive and negative integers lists.\n",
    "[1,2,3,4,5,6,-1,-2,-3,-4,-5,0]"
   ]
  },
  {
   "cell_type": "code",
   "execution_count": 26,
   "id": "f1e32371",
   "metadata": {},
   "outputs": [],
   "source": [
    "list2 = [1,2,3,4,5,6,-1,-2,-3,-4,-5,0]"
   ]
  },
  {
   "cell_type": "code",
   "execution_count": 30,
   "id": "88b8ee29",
   "metadata": {},
   "outputs": [
    {
     "data": {
      "text/plain": [
       "[1, 2, 3, 4, 5, 6, 0]"
      ]
     },
     "execution_count": 30,
     "metadata": {},
     "output_type": "execute_result"
    }
   ],
   "source": [
    "list(filter(lambda x : x >= 0 , list2))"
   ]
  },
  {
   "cell_type": "code",
   "execution_count": 31,
   "id": "1c4ef2e6",
   "metadata": {},
   "outputs": [
    {
     "data": {
      "text/plain": [
       "[-1, -2, -3, -4, -5]"
      ]
     },
     "execution_count": 31,
     "metadata": {},
     "output_type": "execute_result"
    }
   ],
   "source": [
    "list(filter(lambda x : x < 0 , list2))"
   ]
  },
  {
   "cell_type": "code",
   "execution_count": null,
   "id": "12928e0e",
   "metadata": {},
   "outputs": [],
   "source": []
  }
 ],
 "metadata": {
  "kernelspec": {
   "display_name": "Python 3 (ipykernel)",
   "language": "python",
   "name": "python3"
  },
  "language_info": {
   "codemirror_mode": {
    "name": "ipython",
    "version": 3
   },
   "file_extension": ".py",
   "mimetype": "text/x-python",
   "name": "python",
   "nbconvert_exporter": "python",
   "pygments_lexer": "ipython3",
   "version": "3.9.12"
  }
 },
 "nbformat": 4,
 "nbformat_minor": 5
}
