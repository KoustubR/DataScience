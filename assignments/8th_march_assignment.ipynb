{
 "cells": [
  {
   "cell_type": "markdown",
   "id": "c108dc34",
   "metadata": {},
   "source": [
    "#### Q1. What is the Probability density function?"
   ]
  },
  {
   "cell_type": "markdown",
   "id": "d0bfb75e",
   "metadata": {},
   "source": [
    "In probability theory, a probability density function (PDF) represents the probability distribution of a continuous random variable. The PDF reflects the probability that a random variable will take on a certain value within a specified range. It is defined as the cumulative distribution function (CDF) derivative with respect to the random variable.\n",
    "\n",
    "In statistical analysis, the PDF is widely used to explain the distribution of continuous variables such as height, weight, or temperature. It is vital to remember that the PDF only applies to continuous random variables, whereas probability mass functions (PMF) are used for discrete random variables."
   ]
  },
  {
   "cell_type": "markdown",
   "id": "a2363b1f",
   "metadata": {},
   "source": [
    "#### Q2. What are the types of Probability distribution?"
   ]
  },
  {
   "cell_type": "markdown",
   "id": "6d4f4ad1",
   "metadata": {},
   "source": [
    "There are several types of probability distributions:\n",
    "\n",
    "    Normal distribution: A continuous probability distribution with a bell-shaped curve, also known as Gaussian distribution. Several natural phenomena, such as human height, IQ scores, and physical quantity measures, follow this distribution.\n",
    "\n",
    "    Bionomial distribution:The binomial distribution describes the likelihood of a binary result (success or failure) in a set number of trials. It is frequently employed in statistical inference and hypothesis testing.\n",
    "\n",
    "    The Poisson distribution describes the likelihood of a specific number of events happening in a given time or space interval. It's widely employed in research on unusual events like accidents or natural catastrophes.\n",
    "\n",
    "    The uniform distribution provides equal probability to all events within a defined range. It is frequently used as a basic model for random processes.\n",
    "\n",
    "    Exponential distribution: This distribution represents the time elapsed between events in a Poisson process. It is frequently utilised in reliability analysis as well as queueing theory."
   ]
  },
  {
   "cell_type": "markdown",
   "id": "ade2b66d",
   "metadata": {},
   "source": [
    "#### Q3. Write a Python function to calculate the probability density function of a normal distribution with given mean and standard deviation at a given point."
   ]
  },
  {
   "cell_type": "code",
   "execution_count": 1,
   "id": "b061e1ae",
   "metadata": {},
   "outputs": [
    {
     "data": {
      "text/plain": [
       "0.3989422804014327"
      ]
     },
     "execution_count": 1,
     "metadata": {},
     "output_type": "execute_result"
    }
   ],
   "source": [
    "import math\n",
    "\n",
    "def normal_pdf(x, mu, sigma):\n",
    "    return (1 / (sigma * math.sqrt(2 * math.pi))) * math.exp(-((x - mu)**2) / (2 * sigma**2))\n",
    "\n",
    "normal_pdf(0, 0, 1)"
   ]
  },
  {
   "cell_type": "markdown",
   "id": "f3fe33fd",
   "metadata": {},
   "source": [
    "#### Q4. What are the properties of Binomial distribution? Give two examples of events where binomial distribution can be applied."
   ]
  },
  {
   "cell_type": "markdown",
   "id": "f59deda8",
   "metadata": {},
   "source": [
    "The Binomial distribution has the following characteristics:\n",
    "\n",
    "Fixed number of trials: The number of trials n is known ahead of time.\n",
    "\n",
    "Trials are conducted independently of one another.\n",
    "\n",
    "There are two probable outcomes: Each trial can only have two outcomes: success or failure.\n",
    "\n",
    "Constant likelihood of success: For each trial, the chance of success p is constant.\n",
    "\n",
    "The Binomial distribution is a discrete distribution, which means that the random variable can only take on integer values.\n",
    "\n",
    "Example:\n",
    "\n",
    "Tossing a coin: If the coin is fair, the Binomial distribution may be used to model the number of heads acquired after a set number of coin flips (i.e., the probability of getting heads is 0.5 for each flip).\n",
    "\n",
    "Qualtiy Control:The Binomial distribution may be used to simulate the number of faulty items in a batch of examined products, assuming that the likelihood of an item being defective is constant and independent of the other items."
   ]
  },
  {
   "cell_type": "markdown",
   "id": "de79cf0e",
   "metadata": {},
   "source": [
    "#### Q5. Generate a random sample of size 1000 from a binomial distribution with probability of success 0.4 and plot a histogram of the results using matplotlib."
   ]
  },
  {
   "cell_type": "code",
   "execution_count": 2,
   "id": "d9698797",
   "metadata": {},
   "outputs": [
    {
     "data": {
      "image/png": "[encoded data removed]",
      "text/plain": [
       "<Figure size 432x288 with 1 Axes>"
      ]
     },
     "metadata": {
      "needs_background": "light"
     },
     "output_type": "display_data"
    }
   ],
   "source": [
    "import numpy as np\n",
    "import matplotlib.pyplot as plt\n",
    "\n",
    "n = 1000\n",
    "p = 0.4\n",
    "sample = np.random.binomial(n, p, size=1000)\n",
    "\n",
    "plt.hist(sample, bins=20, density=True, color='grey', edgecolor='black')\n",
    "plt.xlabel('Number of Successes')\n",
    "plt.ylabel('Probability Density')\n",
    "plt.title('Histogram of Binomial Distribution')\n",
    "plt.show()"
   ]
  },
  {
   "cell_type": "markdown",
   "id": "3548e9f7",
   "metadata": {},
   "source": [
    "#### Q6. Write a Python function to calculate the cumulative distribution function of a Poisson distribution with given mean at a given point."
   ]
  },
  {
   "cell_type": "code",
   "execution_count": 3,
   "id": "79bab41f",
   "metadata": {},
   "outputs": [
    {
     "data": {
      "text/plain": [
       "0.42319008112684353"
      ]
     },
     "execution_count": 3,
     "metadata": {},
     "output_type": "execute_result"
    }
   ],
   "source": [
    "def poisson_cdf(x, mu):\n",
    "    cdf = 0\n",
    "    for i in range(x+1):\n",
    "        cdf += (math.exp(-mu) * mu**i) / math.factorial(i)\n",
    "    return cdf\n",
    "poisson_cdf(2, 3)"
   ]
  },
  {
   "cell_type": "markdown",
   "id": "418f63ee",
   "metadata": {},
   "source": [
    "#### Q7. How Binomial distribution different from Poisson distribution?"
   ]
  },
  {
   "cell_type": "markdown",
   "id": "d2aa2cc2",
   "metadata": {},
   "source": [
    "The following are the primary distinctions between the Binomial and Poisson distributions:\n",
    "\n",
    "The Binomial distribution presumes a set number of independent trials, whereas the Poisson distribution presumes an infinite number of trials or events that occur within a defined interval.\n",
    "\n",
    "Success probability: The Binomial distribution implies a constant success probability for each trial, whereas the Poisson distribution predicts a tiny success probability for each event or interval.\n",
    "\n",
    "The Binomial distribution is used for events with two potential outcomes (for example, success or failure), whereas the Poisson distribution is used for occurrences with numerous outcomes or uncommon events.\n",
    "\n",
    "Mean and variance: The Binomial distribution's mean and variance are both constant and rely on the number of trials and likelihood of success, but the Poisson distribution's mean and variance are equal and depend on the rate parameter or the average number of occurrences per unit of time or space."
   ]
  },
  {
   "cell_type": "markdown",
   "id": "eb6c1911",
   "metadata": {},
   "source": [
    "#### Q8. Generate a random sample of size 1000 from a Poisson distribution with mean 5 and calculate the sample mean and variance."
   ]
  },
  {
   "cell_type": "code",
   "execution_count": 4,
   "id": "87a5112e",
   "metadata": {},
   "outputs": [
    {
     "name": "stdout",
     "output_type": "stream",
     "text": [
      "Sample mean: 4.993\n",
      "Sample variance: 4.766950999999999\n"
     ]
    }
   ],
   "source": [
    "sample = np.random.poisson(lam=5, size=1000)\n",
    "sample_mean = np.mean(sample)\n",
    "sample_var = np.var(sample)\n",
    "print(\"Sample mean:\", sample_mean)\n",
    "print(\"Sample variance:\", sample_var)"
   ]
  },
  {
   "cell_type": "markdown",
   "id": "37474d45",
   "metadata": {},
   "source": [
    "#### Q9. How mean and variance are related in Binomial distribution and Poisson distribution?"
   ]
  },
  {
   "cell_type": "markdown",
   "id": "f7d472ce",
   "metadata": {},
   "source": [
    "In the Poisson distribution, the mean and variance are directly connected, however in the Binomial distribution, the variance is affected by both the mean and the likelihood of success.\n",
    "\n",
    "In both distributions, as the mean or rate parameter increases, so does the variance. This means that the distribution becomes more dispersed and variable. In contrast, when the mean or rate parameter falls, so does the variance, and the distribution becomes more densely concentrated around the mean."
   ]
  },
  {
   "cell_type": "markdown",
   "id": "5422bf73",
   "metadata": {},
   "source": [
    "#### Q10. In normal distribution with respect to mean position, where does the least frequent data appear?"
   ]
  },
  {
   "cell_type": "markdown",
   "id": "b8edd30a",
   "metadata": {},
   "source": [
    "The least common data in a normal distribution appears in the tails of the distribution, which are more than two standard deviations from the mean.\n",
    "\n",
    "The normal distribution, in particular, is a bell-shaped curve that is symmetric around the mean. The mean is shown by the highest frequency of data points near the middle of the curve. The frequency of data points reduces as one moves away from the mean and towards the tails of the distribution."
   ]
  }
 ],
 "metadata": {
  "kernelspec": {
   "display_name": "Python 3 (ipykernel)",
   "language": "python",
   "name": "python3"
  },
  "language_info": {
   "codemirror_mode": {
    "name": "ipython",
    "version": 3
   },
   "file_extension": ".py",
   "mimetype": "text/x-python",
   "name": "python",
   "nbconvert_exporter": "python",
   "pygments_lexer": "ipython3",
   "version": "3.9.12"
  }
 },
 "nbformat": 4,
 "nbformat_minor": 5
}
