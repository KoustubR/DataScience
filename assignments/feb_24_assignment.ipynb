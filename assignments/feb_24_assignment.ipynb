{
 "cells": [
  {
   "cell_type": "markdown",
   "id": "11bd694d",
   "metadata": {},
   "source": [
    "####  Q1. List any five functions of the pandas library with execution.\n"
   ]
  },
  {
   "cell_type": "code",
   "execution_count": 1,
   "id": "55081b74",
   "metadata": {},
   "outputs": [],
   "source": [
    "import pandas as pd"
   ]
  },
  {
   "cell_type": "code",
   "execution_count": 2,
   "id": "00b08cac",
   "metadata": {},
   "outputs": [],
   "source": [
    "df=pd.read_csv('Lending-company.csv')\n",
    "# pd.read_csv(): This function is used to read data from a CSV file and create a DataFrame."
   ]
  },
  {
   "cell_type": "code",
   "execution_count": 3,
   "id": "a4b376d2",
   "metadata": {},
   "outputs": [
    {
     "data": {
      "text/html": [
       "<div>\n",
       "<style scoped>\n",
       "    .dataframe tbody tr th:only-of-type {\n",
       "        vertical-align: middle;\n",
       "    }\n",
       "\n",
       "    .dataframe tbody tr th {\n",
       "        vertical-align: top;\n",
       "    }\n",
       "\n",
       "    .dataframe thead th {\n",
       "        text-align: right;\n",
       "    }\n",
       "</style>\n",
       "<table border=\"1\" class=\"dataframe\">\n",
       "  <thead>\n",
       "    <tr style=\"text-align: right;\">\n",
       "      <th></th>\n",
       "      <th>LoanID</th>\n",
       "      <th>StringID</th>\n",
       "      <th>Product</th>\n",
       "      <th>CustomerGender</th>\n",
       "      <th>Location</th>\n",
       "      <th>Region</th>\n",
       "      <th>TotalPrice</th>\n",
       "      <th>StartDate</th>\n",
       "      <th>Deposit</th>\n",
       "      <th>DailyRate</th>\n",
       "      <th>TotalDaysYr</th>\n",
       "      <th>AmtPaid36</th>\n",
       "      <th>AmtPaid60</th>\n",
       "      <th>AmtPaid360</th>\n",
       "      <th>LoanStatus</th>\n",
       "    </tr>\n",
       "  </thead>\n",
       "  <tbody>\n",
       "    <tr>\n",
       "      <th>0</th>\n",
       "      <td>1</td>\n",
       "      <td>LoanID_1</td>\n",
       "      <td>Product B</td>\n",
       "      <td>Female</td>\n",
       "      <td>Location 3</td>\n",
       "      <td>Region 2</td>\n",
       "      <td>17600.0</td>\n",
       "      <td>04/07/2018</td>\n",
       "      <td>2200</td>\n",
       "      <td>45</td>\n",
       "      <td>365</td>\n",
       "      <td>3221</td>\n",
       "      <td>4166</td>\n",
       "      <td>14621</td>\n",
       "      <td>Active</td>\n",
       "    </tr>\n",
       "    <tr>\n",
       "      <th>1</th>\n",
       "      <td>2</td>\n",
       "      <td>LoanID_2</td>\n",
       "      <td>Product D</td>\n",
       "      <td>Female</td>\n",
       "      <td>Location 6</td>\n",
       "      <td>Region 6</td>\n",
       "      <td>NaN</td>\n",
       "      <td>02/01/2019</td>\n",
       "      <td>2200</td>\n",
       "      <td>45</td>\n",
       "      <td>365</td>\n",
       "      <td>3161</td>\n",
       "      <td>4096</td>\n",
       "      <td>16041</td>\n",
       "      <td>Active</td>\n",
       "    </tr>\n",
       "    <tr>\n",
       "      <th>2</th>\n",
       "      <td>3</td>\n",
       "      <td>LoanID_3</td>\n",
       "      <td>Product B</td>\n",
       "      <td>Male</td>\n",
       "      <td>Location 8</td>\n",
       "      <td>Region 3</td>\n",
       "      <td>16600.0</td>\n",
       "      <td>08/12/2016</td>\n",
       "      <td>1000</td>\n",
       "      <td>45</td>\n",
       "      <td>365</td>\n",
       "      <td>2260</td>\n",
       "      <td>3205</td>\n",
       "      <td>16340</td>\n",
       "      <td>NaN</td>\n",
       "    </tr>\n",
       "    <tr>\n",
       "      <th>3</th>\n",
       "      <td>4</td>\n",
       "      <td>LoanID_4</td>\n",
       "      <td>Product A</td>\n",
       "      <td>Male</td>\n",
       "      <td>Location 26</td>\n",
       "      <td>Region 2</td>\n",
       "      <td>17600.0</td>\n",
       "      <td>NaN</td>\n",
       "      <td>2200</td>\n",
       "      <td>45</td>\n",
       "      <td>365</td>\n",
       "      <td>3141</td>\n",
       "      <td>4166</td>\n",
       "      <td>16321</td>\n",
       "      <td>Active</td>\n",
       "    </tr>\n",
       "    <tr>\n",
       "      <th>4</th>\n",
       "      <td>5</td>\n",
       "      <td>LoanID_5</td>\n",
       "      <td>Product B</td>\n",
       "      <td>Female</td>\n",
       "      <td>Location 34</td>\n",
       "      <td>Region 3</td>\n",
       "      <td>21250.0</td>\n",
       "      <td>28/10/2017</td>\n",
       "      <td>2200</td>\n",
       "      <td>55</td>\n",
       "      <td>365</td>\n",
       "      <td>3570</td>\n",
       "      <td>4745</td>\n",
       "      <td>14720</td>\n",
       "      <td>Active</td>\n",
       "    </tr>\n",
       "  </tbody>\n",
       "</table>\n",
       "</div>"
      ],
      "text/plain": [
       "   LoanID  StringID    Product CustomerGender     Location    Region  \\\n",
       "0       1  LoanID_1  Product B         Female   Location 3  Region 2   \n",
       "1       2  LoanID_2  Product D         Female   Location 6  Region 6   \n",
       "2       3  LoanID_3  Product B           Male   Location 8  Region 3   \n",
       "3       4  LoanID_4  Product A           Male  Location 26  Region 2   \n",
       "4       5  LoanID_5  Product B         Female  Location 34  Region 3   \n",
       "\n",
       "   TotalPrice   StartDate  Deposit  DailyRate  TotalDaysYr  AmtPaid36  \\\n",
       "0     17600.0  04/07/2018     2200         45          365       3221   \n",
       "1         NaN  02/01/2019     2200         45          365       3161   \n",
       "2     16600.0  08/12/2016     1000         45          365       2260   \n",
       "3     17600.0         NaN     2200         45          365       3141   \n",
       "4     21250.0  28/10/2017     2200         55          365       3570   \n",
       "\n",
       "   AmtPaid60  AmtPaid360 LoanStatus  \n",
       "0       4166       14621     Active  \n",
       "1       4096       16041     Active  \n",
       "2       3205       16340        NaN  \n",
       "3       4166       16321     Active  \n",
       "4       4745       14720     Active  "
      ]
     },
     "execution_count": 3,
     "metadata": {},
     "output_type": "execute_result"
    }
   ],
   "source": [
    "df.head(5)\n",
    "# df.head(): This function is used to display the first few rows of a DataFrame."
   ]
  },
  {
   "cell_type": "code",
   "execution_count": 4,
   "id": "3c9b88e2",
   "metadata": {},
   "outputs": [
    {
     "data": {
      "text/html": [
       "<div>\n",
       "<style scoped>\n",
       "    .dataframe tbody tr th:only-of-type {\n",
       "        vertical-align: middle;\n",
       "    }\n",
       "\n",
       "    .dataframe tbody tr th {\n",
       "        vertical-align: top;\n",
       "    }\n",
       "\n",
       "    .dataframe thead th {\n",
       "        text-align: right;\n",
       "    }\n",
       "</style>\n",
       "<table border=\"1\" class=\"dataframe\">\n",
       "  <thead>\n",
       "    <tr style=\"text-align: right;\">\n",
       "      <th></th>\n",
       "      <th>LoanID</th>\n",
       "      <th>TotalPrice</th>\n",
       "      <th>Deposit</th>\n",
       "      <th>DailyRate</th>\n",
       "      <th>TotalDaysYr</th>\n",
       "      <th>AmtPaid36</th>\n",
       "      <th>AmtPaid60</th>\n",
       "      <th>AmtPaid360</th>\n",
       "    </tr>\n",
       "  </thead>\n",
       "  <tbody>\n",
       "    <tr>\n",
       "      <th>count</th>\n",
       "      <td>1043.000000</td>\n",
       "      <td>1018.000000</td>\n",
       "      <td>1043.000000</td>\n",
       "      <td>1043.000000</td>\n",
       "      <td>1043.0</td>\n",
       "      <td>1043.000000</td>\n",
       "      <td>1043.000000</td>\n",
       "      <td>1043.000000</td>\n",
       "    </tr>\n",
       "    <tr>\n",
       "      <th>mean</th>\n",
       "      <td>522.000000</td>\n",
       "      <td>19562.843811</td>\n",
       "      <td>2528.092042</td>\n",
       "      <td>50.834132</td>\n",
       "      <td>365.0</td>\n",
       "      <td>3901.857143</td>\n",
       "      <td>5214.393097</td>\n",
       "      <td>17122.131352</td>\n",
       "    </tr>\n",
       "    <tr>\n",
       "      <th>std</th>\n",
       "      <td>301.232468</td>\n",
       "      <td>5955.588065</td>\n",
       "      <td>1504.467724</td>\n",
       "      <td>11.567390</td>\n",
       "      <td>0.0</td>\n",
       "      <td>2537.597667</td>\n",
       "      <td>2850.327133</td>\n",
       "      <td>5910.916736</td>\n",
       "    </tr>\n",
       "    <tr>\n",
       "      <th>min</th>\n",
       "      <td>1.000000</td>\n",
       "      <td>13475.000000</td>\n",
       "      <td>1000.000000</td>\n",
       "      <td>30.000000</td>\n",
       "      <td>365.0</td>\n",
       "      <td>-2770.000000</td>\n",
       "      <td>-2945.000000</td>\n",
       "      <td>650.000000</td>\n",
       "    </tr>\n",
       "    <tr>\n",
       "      <th>25%</th>\n",
       "      <td>261.500000</td>\n",
       "      <td>16300.000000</td>\n",
       "      <td>2200.000000</td>\n",
       "      <td>45.000000</td>\n",
       "      <td>365.0</td>\n",
       "      <td>2840.500000</td>\n",
       "      <td>3822.000000</td>\n",
       "      <td>15560.500000</td>\n",
       "    </tr>\n",
       "    <tr>\n",
       "      <th>50%</th>\n",
       "      <td>522.000000</td>\n",
       "      <td>17600.000000</td>\n",
       "      <td>2200.000000</td>\n",
       "      <td>45.000000</td>\n",
       "      <td>365.0</td>\n",
       "      <td>3420.000000</td>\n",
       "      <td>4742.000000</td>\n",
       "      <td>16617.000000</td>\n",
       "    </tr>\n",
       "    <tr>\n",
       "      <th>75%</th>\n",
       "      <td>782.500000</td>\n",
       "      <td>20950.000000</td>\n",
       "      <td>2200.000000</td>\n",
       "      <td>55.000000</td>\n",
       "      <td>365.0</td>\n",
       "      <td>5075.500000</td>\n",
       "      <td>6393.000000</td>\n",
       "      <td>19977.500000</td>\n",
       "    </tr>\n",
       "    <tr>\n",
       "      <th>max</th>\n",
       "      <td>1043.000000</td>\n",
       "      <td>70225.000000</td>\n",
       "      <td>8000.000000</td>\n",
       "      <td>150.000000</td>\n",
       "      <td>365.0</td>\n",
       "      <td>18851.000000</td>\n",
       "      <td>22143.000000</td>\n",
       "      <td>65001.000000</td>\n",
       "    </tr>\n",
       "  </tbody>\n",
       "</table>\n",
       "</div>"
      ],
      "text/plain": [
       "            LoanID    TotalPrice      Deposit    DailyRate  TotalDaysYr  \\\n",
       "count  1043.000000   1018.000000  1043.000000  1043.000000       1043.0   \n",
       "mean    522.000000  19562.843811  2528.092042    50.834132        365.0   \n",
       "std     301.232468   5955.588065  1504.467724    11.567390          0.0   \n",
       "min       1.000000  13475.000000  1000.000000    30.000000        365.0   \n",
       "25%     261.500000  16300.000000  2200.000000    45.000000        365.0   \n",
       "50%     522.000000  17600.000000  2200.000000    45.000000        365.0   \n",
       "75%     782.500000  20950.000000  2200.000000    55.000000        365.0   \n",
       "max    1043.000000  70225.000000  8000.000000   150.000000        365.0   \n",
       "\n",
       "          AmtPaid36     AmtPaid60    AmtPaid360  \n",
       "count   1043.000000   1043.000000   1043.000000  \n",
       "mean    3901.857143   5214.393097  17122.131352  \n",
       "std     2537.597667   2850.327133   5910.916736  \n",
       "min    -2770.000000  -2945.000000    650.000000  \n",
       "25%     2840.500000   3822.000000  15560.500000  \n",
       "50%     3420.000000   4742.000000  16617.000000  \n",
       "75%     5075.500000   6393.000000  19977.500000  \n",
       "max    18851.000000  22143.000000  65001.000000  "
      ]
     },
     "execution_count": 4,
     "metadata": {},
     "output_type": "execute_result"
    }
   ],
   "source": [
    "df.describe()\n",
    "#df.describe(): This function is used to generate descriptive statistics of a DataFrame"
   ]
  },
  {
   "cell_type": "code",
   "execution_count": 9,
   "id": "e40968bd",
   "metadata": {},
   "outputs": [],
   "source": [
    "grp=df.groupby('Location')\n",
    "#df.groupby(): This function is used to group data in a DataFrame based on a specified column or set of columns."
   ]
  },
  {
   "cell_type": "markdown",
   "id": "dc1dc960",
   "metadata": {},
   "source": [
    "#### Q2. Given a Pandas DataFrame df with columns 'A', 'B', and 'C', write a Python function to re-index the DataFrame with a new index that starts from 1 and increments by 2 for each row."
   ]
  },
  {
   "cell_type": "code",
   "execution_count": 10,
   "id": "ae3344cd",
   "metadata": {},
   "outputs": [],
   "source": [
    "def index(df):\n",
    "    newindex = pd.RangeIndex(start=1, step=2, stop=len(df)*2)\n",
    "    df = df.set_index(newindex)\n",
    "    return df"
   ]
  },
  {
   "cell_type": "markdown",
   "id": "30811b4a",
   "metadata": {},
   "source": [
    "#### Q3. You have a Pandas DataFrame df with a column named 'Values'. Write a Python function that iterates over the DataFrame and calculates the sum of the first three values in the 'Values' column. The function should print the sum to the console."
   ]
  },
  {
   "cell_type": "code",
   "execution_count": 11,
   "id": "ace1018f",
   "metadata": {},
   "outputs": [],
   "source": [
    "def sum(df):\n",
    "    total = 0\n",
    "    for i, row in df.iterrows():\n",
    "        if i < 3:\n",
    "            total += row['Values']\n",
    "        else:\n",
    "            break\n",
    "    print(\"Sum of the first three values in the 'Values' column: \", total)"
   ]
  },
  {
   "cell_type": "markdown",
   "id": "c950e350",
   "metadata": {},
   "source": [
    "#### Q4. Given a Pandas DataFrame df with a column 'Text', write a Python function to create a new column 'Word_Count' that contains the number of words in each row of the 'Text' column."
   ]
  },
  {
   "cell_type": "code",
   "execution_count": 12,
   "id": "3f71f2a6",
   "metadata": {},
   "outputs": [],
   "source": [
    "def wordcnt(df):\n",
    "    df['Word_Count'] = df['Text'].apply(lambda x: len(x.split()))\n",
    "    return df"
   ]
  },
  {
   "cell_type": "markdown",
   "id": "b5170f76",
   "metadata": {},
   "source": [
    "#### Q5. How are DataFrame.size() and DataFrame.shape() different?"
   ]
  },
  {
   "cell_type": "markdown",
   "id": "03c4c0bb",
   "metadata": {},
   "source": [
    "DataFrame.size: Returns the total number of items in the DataFrame, which is equal to the product of the number of rows and the number of columns.\n",
    "\n",
    "DataFrame.shape: Returns a tuple containing the dimensions of the DataFrame (number of rows, number of columns)."
   ]
  },
  {
   "cell_type": "markdown",
   "id": "075f002d",
   "metadata": {},
   "source": [
    "#### Q6. Which function of pandas do we use to read an excel file?"
   ]
  },
  {
   "cell_type": "markdown",
   "id": "2e33152d",
   "metadata": {},
   "source": [
    "\n",
    "The function read excel() reads an Excel file into a DataFrame df. The DataFrame that results can be printed or utilised for further analysis."
   ]
  },
  {
   "cell_type": "markdown",
   "id": "e24b3af5",
   "metadata": {},
   "source": [
    "#### Q7. You have a Pandas DataFrame df that contains a column named 'Email' that contains email addresses in the format 'username@domain.com'. Write a Python function that creates a new column 'Username' in df that contains only the username part of each email address. The username is the part of the email address that appears before the '@' symbol. For example, if the email address is 'john.doe@example.com', the 'Username' column should contain 'john.doe'. Your function should extract the username from each email address and store it in the new 'Username' column."
   ]
  },
  {
   "cell_type": "code",
   "execution_count": 13,
   "id": "c321427f",
   "metadata": {},
   "outputs": [],
   "source": [
    "def extract_username(df):\n",
    "    df['Username'] = df['Email'].apply(lambda x: x.split('@')[0])\n",
    "    return df"
   ]
  },
  {
   "cell_type": "markdown",
   "id": "0d0e53f5",
   "metadata": {},
   "source": [
    "#### Q8. You have a Pandas DataFrame df with columns 'A', 'B', and 'C'. Write a Python function that selects all rows where the value in column 'A' is greater than 5 and the value in column 'B' is less than 10. The function should return a new DataFrame that contains only the selected rows."
   ]
  },
  {
   "cell_type": "code",
   "execution_count": 14,
   "id": "26244139",
   "metadata": {},
   "outputs": [],
   "source": [
    "def select_rows(df):\n",
    "    selected_df = df[(df['A'] > 5) & (df['B'] < 10)]\n",
    "    return selected_df"
   ]
  },
  {
   "cell_type": "markdown",
   "id": "8fd21adb",
   "metadata": {},
   "source": [
    "The resulting new_df will contain only the selected rows where the value in column 'A' is greater than 5 and the value in column 'B' is less than 10."
   ]
  },
  {
   "cell_type": "markdown",
   "id": "c8602379",
   "metadata": {},
   "source": [
    "#### Q9. Given a Pandas DataFrame df with a column 'Values', write a Python function to calculate the mean, median, and standard deviation of the values in the 'Values' column."
   ]
  },
  {
   "cell_type": "code",
   "execution_count": 15,
   "id": "3fe0801e",
   "metadata": {},
   "outputs": [],
   "source": [
    "def calc(df):\n",
    "    mean = df['Values'].mean()\n",
    "    median = df['Values'].median()\n",
    "    std = df['Values'].std()\n",
    "    return "
   ]
  },
  {
   "cell_type": "markdown",
   "id": "fcaf0d4f",
   "metadata": {},
   "source": [
    "#### Q10. Given a Pandas DataFrame df with a column 'Sales' and a column 'Date', write a Python function to create a new column 'MovingAverage' that contains the moving average of the sales for the past 7 days for each row in the DataFrame. The moving average should be calculated using a window of size 7 and should include the current day."
   ]
  },
  {
   "cell_type": "code",
   "execution_count": 16,
   "id": "96d596d2",
   "metadata": {},
   "outputs": [],
   "source": [
    "def average(df):\n",
    "    ma = df['Sales'].rolling(window=7, min_periods=1).mean()\n",
    "    df['MovingAverage'] = ma\n",
    "    return df"
   ]
  },
  {
   "cell_type": "markdown",
   "id": "bd474443",
   "metadata": {},
   "source": [
    "#### Q11. You have a Pandas DataFrame df with a column 'Date'. Write a Python function that creates a new column 'Weekday' in the DataFrame. The 'Weekday' column should contain the weekday name (e.g. Monday, Tuesday) corresponding to each date in the 'Date' column."
   ]
  },
  {
   "cell_type": "code",
   "execution_count": 17,
   "id": "c326a5b2",
   "metadata": {},
   "outputs": [],
   "source": [
    "def add_weekday(df):\n",
    "    df['Weekday'] = pd.to_datetime(df['Date']).dt.day_name()\n",
    "    return df"
   ]
  },
  {
   "cell_type": "markdown",
   "id": "1ece0b0b",
   "metadata": {},
   "source": [
    "This function transforms the 'Date' column to a datetime format using the pd.to datetime() method then extracts the weekday name for each date in the column using the dt.day_name() method. The generated weekday names are saved in a new column called 'Weekday'."
   ]
  },
  {
   "cell_type": "markdown",
   "id": "50e703c4",
   "metadata": {},
   "source": [
    "#### Q12. Given a Pandas DataFrame df with a column 'Date' that contains timestamps, write a Python function to select all rows where the date is between '2023-01-01' and '2023-01-31'."
   ]
  },
  {
   "cell_type": "code",
   "execution_count": 19,
   "id": "33386c7c",
   "metadata": {},
   "outputs": [],
   "source": [
    "def date(df):\n",
    "    start_date = '2023-01-01'\n",
    "    end_date = '2023-01-31'\n",
    "    mask = (df['Date'] >= start_date) & (df['Date'] <= end_date)\n",
    "    jandate = df.loc[mask]\n",
    "    return jandate"
   ]
  },
  {
   "cell_type": "markdown",
   "id": "c0ede3d2",
   "metadata": {},
   "source": [
    "#### Q13. To use the basic functions of pandas, what is the first and foremost necessary library that needs to be imported? "
   ]
  },
  {
   "cell_type": "markdown",
   "id": "91fb5792",
   "metadata": {},
   "source": [
    "The first and foremost necessary library that needs to be imported to use the basic functions of pandas is pandas itself.\n",
    "\n",
    "we can use the pandas library functions by prefixing them with pd."
   ]
  },
  {
   "cell_type": "code",
   "execution_count": null,
   "id": "bbd60636",
   "metadata": {},
   "outputs": [],
   "source": []
  }
 ],
 "metadata": {
  "kernelspec": {
   "display_name": "Python 3 (ipykernel)",
   "language": "python",
   "name": "python3"
  },
  "language_info": {
   "codemirror_mode": {
    "name": "ipython",
    "version": 3
   },
   "file_extension": ".py",
   "mimetype": "text/x-python",
   "name": "python",
   "nbconvert_exporter": "python",
   "pygments_lexer": "ipython3",
   "version": "3.9.12"
  }
 },
 "nbformat": 4,
 "nbformat_minor": 5
}
