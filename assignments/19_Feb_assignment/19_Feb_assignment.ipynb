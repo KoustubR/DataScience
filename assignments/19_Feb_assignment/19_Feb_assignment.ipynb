{
 "cells": [
  {
   "cell_type": "markdown",
   "id": "9bfeed02-f4a0-42c0-b7e5-4bab570114c1",
   "metadata": {},
   "source": [
    "# 19 February Assignment"
   ]
  },
  {
   "cell_type": "markdown",
   "id": "c3188063-c227-45c0-9034-9058d5477a1b",
   "metadata": {},
   "source": [
    "#### Q1. What is Flask Framework? What are the advantages of Flask Framework?"
   ]
  },
  {
   "cell_type": "markdown",
   "id": "32257e66-1f6b-4425-a494-d46dc675049d",
   "metadata": {},
   "source": [
    "Flask is a Python-based lightweight and flexible web framework. It is intended to be simple to understand and use, and it just includes the essential functionality required to construct web applications. Flask is a micro-framework that allows developers to construct web apps quickly and with minimal code. It is not a full-stack framework like Django.\n",
    "\n",
    "Advantages of Flask:\n",
    "\n",
    "Lightweight\n",
    "\n",
    "Flexibility\n",
    "\n",
    "Easy to use\n",
    "\n",
    "Large community\n",
    "\n",
    "Testing support\n"
   ]
  },
  {
   "cell_type": "markdown",
   "id": "1d598bdb-2eff-4eed-8bdc-b16bb7cd269f",
   "metadata": {},
   "source": [
    "#### Q2. Create a simple Flask application to display ‘Hello World!!’. Attach the screenshot of the output in Jupyter Notebook.\n"
   ]
  },
  {
   "cell_type": "markdown",
   "id": "2f17bc87-d91a-4708-968f-415fd73ae77e",
   "metadata": {},
   "source": [
    "https://prnt.sc/bV7bdYGoNfY0"
   ]
  },
  {
   "cell_type": "markdown",
   "id": "7111cef1-6420-4eb3-9e82-c86e22c04673",
   "metadata": {},
   "source": [
    "#### Q3. What is App routing in Flask? Why do we use app routes?\n"
   ]
  },
  {
   "cell_type": "markdown",
   "id": "fef51053-7f4f-4fe9-9064-35f904e972b4",
   "metadata": {},
   "source": [
    "The process of mapping URLs to specific Python methods that will be executed when the URL is requested is known as app routing in Flask. In Python, this is accomplished by using the @app.route decorator.\n",
    "\n",
    "Flask app routing is useful since it enables us to build multiple pages or parts within our web application and map them to certain functions or views. This allows us to construct more sophisticated apps by making it easier to organise and structure our code. To specify the behaviour of our web application, we use Flask app routes. We may control what material is presented to the user when they travel to different pages or sections of our application by mapping URLs to certain functions.\n"
   ]
  },
  {
   "cell_type": "markdown",
   "id": "ad2c8cb1-ecab-49ad-b57d-cc7fad36a499",
   "metadata": {},
   "source": [
    "#### Q4. Create a “/welcome” route to display the welcome message “Welcome to ABC Corporation” and a “/” route to show the following details:\n",
    "\n",
    "Company Name: ABC Corporation\n",
    "\n",
    "Location: India\n",
    "\n",
    "Contact Detail: 999-999-9999\n"
   ]
  },
  {
   "cell_type": "markdown",
   "id": "c86a1c69-7a77-4e13-b2e3-30226d092651",
   "metadata": {},
   "source": [
    "https://prnt.sc/JjgSHOCdjmxI"
   ]
  },
  {
   "cell_type": "markdown",
   "id": "af11da8f-6ec9-4c69-9bdc-bf4210069001",
   "metadata": {},
   "source": [
    "https://github.com/KoustubR/DataScience/blob/main/assignments/19_Feb_assignment/abc_corp1.png"
   ]
  },
  {
   "cell_type": "markdown",
   "id": "865fba7a-7adb-4eb0-b365-34b91231099e",
   "metadata": {},
   "source": [
    "https://github.com/KoustubR/DataScience/blob/main/assignments/19_Feb_assignment/abc_corp2.png"
   ]
  },
  {
   "cell_type": "markdown",
   "id": "9f20643d-1615-4c93-883b-208b3f043b34",
   "metadata": {},
   "source": [
    "#### Q5. What function is used in Flask for URL Building? Write a Python code to demonstrate the working of the url_for() function.\n"
   ]
  },
  {
   "cell_type": "markdown",
   "id": "bb27de3a-75c0-44f9-ac41-b8db315aa656",
   "metadata": {},
   "source": [
    "The url_for() method is used to create URLs. Based on the URL rules established in the application, it generates a URL for the given endpoint and its parameters. The first input to this function is the endpoint name, and any additional keyword arguments are URL variable values.\n"
   ]
  },
  {
   "cell_type": "code",
   "execution_count": 2,
   "id": "7fb831c9-a637-4ac3-b93d-979ad67d356e",
   "metadata": {},
   "outputs": [
    {
     "name": "stdout",
     "output_type": "stream",
     "text": [
      "/home\n"
     ]
    }
   ],
   "source": [
    "from flask import url_for, Flask\n",
    "appFlask = Flask(__name__)\n",
    "@appFlask.route('/home')\n",
    "def home():\n",
    "   return 'We are in Home Page!'\n",
    "with appFlask.test_request_context():\n",
    "    print(url_for('home'))"
   ]
  }
 ],
 "metadata": {
  "kernelspec": {
   "display_name": "Python 3 (ipykernel)",
   "language": "python",
   "name": "python3"
  },
  "language_info": {
   "codemirror_mode": {
    "name": "ipython",
    "version": 3
   },
   "file_extension": ".py",
   "mimetype": "text/x-python",
   "name": "python",
   "nbconvert_exporter": "python",
   "pygments_lexer": "ipython3",
   "version": "3.10.8"
  }
 },
 "nbformat": 4,
 "nbformat_minor": 5
}
