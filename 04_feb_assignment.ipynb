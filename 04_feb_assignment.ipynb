{
 "cells": [
  {
   "cell_type": "markdown",
   "id": "5030610d-bf94-470b-804e-031cdd5886bd",
   "metadata": {},
   "source": [
    "1. Create a python program to sort the given list of tuples based on integer value using a lambda function.\n",
    "\n",
    "[('Sachin Tendulkar', 34357), ('Ricky Ponting', 27483), ('Jack Kallis', 25534), ('Virat Kohli', 24936)]"
   ]
  },
  {
   "cell_type": "code",
   "execution_count": 1,
   "id": "42cb4411-b3fb-4f13-b2e0-cb5b3e05073a",
   "metadata": {},
   "outputs": [],
   "source": [
    "lst = [('Sachin Tendulkar', 34357), ('Ricky Ponting', 27483), ('Jack Kallis', 25534), ('Virat Kohli', 24936)]\n",
    "lst.sort(key = lambda x: x[1])"
   ]
  },
  {
   "cell_type": "code",
   "execution_count": 2,
   "id": "b28ebdcc-8344-463c-b1bd-88d0de209fce",
   "metadata": {},
   "outputs": [
    {
     "data": {
      "text/plain": [
       "[('Virat Kohli', 24936),\n",
       " ('Jack Kallis', 25534),\n",
       " ('Ricky Ponting', 27483),\n",
       " ('Sachin Tendulkar', 34357)]"
      ]
     },
     "execution_count": 2,
     "metadata": {},
     "output_type": "execute_result"
    }
   ],
   "source": [
    "lst"
   ]
  },
  {
   "cell_type": "markdown",
   "id": "ebb3745d-96c9-4180-908e-276cab67dd51",
   "metadata": {},
   "source": [
    "2. Write a Python Program to find the squares of all the numbers in the given list of integers using lambda and map functions.\n",
    "\n",
    "[1, 2, 3, 4, 5, 6, 7, 8, 9, 10]"
   ]
  },
  {
   "cell_type": "code",
   "execution_count": 3,
   "id": "6be4720f-cb2c-450c-8984-2d90fe4f5094",
   "metadata": {},
   "outputs": [
    {
     "data": {
      "text/plain": [
       "[1, 4, 9, 16, 25, 36, 49, 64, 81, 100]"
      ]
     },
     "execution_count": 3,
     "metadata": {},
     "output_type": "execute_result"
    }
   ],
   "source": [
    "lst1 = [1, 2, 3, 4, 5, 6, 7, 8, 9, 10]\n",
    "list(map(lambda x:x**2 , lst1))"
   ]
  },
  {
   "cell_type": "markdown",
   "id": "43786bb9-2a4d-4e6a-8c1c-2444edd0cc40",
   "metadata": {},
   "source": [
    "3. Write a python program to convert the given list of integers into a tuple of strings. Use map and lambda functions\n",
    "\n",
    "Given String: [1, 2, 3, 4, 5, 6, 7, 8, 9, 10]\n",
    "\n",
    "\n",
    "Expected output: ('1', '2', '3', '4', '5', '6', '7', '8', '9', '10')"
   ]
  },
  {
   "cell_type": "code",
   "execution_count": 4,
   "id": "23c47e80-996c-4f20-9319-0b917e173097",
   "metadata": {},
   "outputs": [
    {
     "data": {
      "text/plain": [
       "('1', '2', '3', '4', '5', '6', '7', '8', '9', '10')"
      ]
     },
     "execution_count": 4,
     "metadata": {},
     "output_type": "execute_result"
    }
   ],
   "source": [
    "lst2 = [1, 2, 3, 4, 5, 6, 7, 8, 9, 10]\n",
    "tuple(map(lambda x : str(x), lst2))"
   ]
  },
  {
   "cell_type": "markdown",
   "id": "99247c66-8cd5-48da-9dc9-c73e2e49b3f7",
   "metadata": {},
   "source": [
    "4. Write a python program using reduce function to compute the product of a list containing numbers from 1 to 25."
   ]
  },
  {
   "cell_type": "code",
   "execution_count": 6,
   "id": "b08dcd0a-c570-4186-9d0e-d87ea4d75739",
   "metadata": {},
   "outputs": [
    {
     "data": {
      "text/plain": [
       "15511210043330985984000000"
      ]
     },
     "execution_count": 6,
     "metadata": {},
     "output_type": "execute_result"
    }
   ],
   "source": [
    "from functools import reduce\n",
    "l = list(range(1,26))\n",
    "reduce(lambda x,y: x*y, l)"
   ]
  },
  {
   "cell_type": "markdown",
   "id": "d2b60d34-baec-4d19-b867-89736de6d67f",
   "metadata": {},
   "source": [
    "5. Write a python program to filter the numbers in a given list that are divisible by 2 and 3 using the filter function.\n",
    "\n",
    "[2, 3, 6, 9, 27, 60, 90, 120, 55, 46]"
   ]
  },
  {
   "cell_type": "code",
   "execution_count": 7,
   "id": "bc36bf1e-5f4e-41ff-b1fc-5607126048ef",
   "metadata": {},
   "outputs": [],
   "source": [
    "lst3 = [2, 3, 6, 9, 27, 60, 90, 120, 55, 46]"
   ]
  },
  {
   "cell_type": "code",
   "execution_count": 8,
   "id": "0eeaa8ea-886d-47e1-96e1-42e2afbf2a61",
   "metadata": {},
   "outputs": [
    {
     "data": {
      "text/plain": [
       "[6, 60, 90, 120]"
      ]
     },
     "execution_count": 8,
     "metadata": {},
     "output_type": "execute_result"
    }
   ],
   "source": [
    "list(filter(lambda x : x%2 == 0 and x%3 == 0, lst3))"
   ]
  },
  {
   "cell_type": "markdown",
   "id": "8eefbf4e-19be-4274-8fc6-948e722cf815",
   "metadata": {},
   "source": [
    "6. Write a python program to find palindromes in the given list of strings using lambda and filter function.\n",
    "\n",
    "['python', 'php', 'aba', 'radar', 'level']"
   ]
  },
  {
   "cell_type": "code",
   "execution_count": 9,
   "id": "1200b56a-a3d1-4364-88a8-73a2a0fc7edb",
   "metadata": {},
   "outputs": [
    {
     "data": {
      "text/plain": [
       "['php', 'aba', 'radar', 'level']"
      ]
     },
     "execution_count": 9,
     "metadata": {},
     "output_type": "execute_result"
    }
   ],
   "source": [
    "lst4 = ['python', 'php', 'aba', 'radar', 'level']\n",
    "list(filter(lambda x : x[::-1] == x , lst4)) "
   ]
  }
 ],
 "metadata": {
  "kernelspec": {
   "display_name": "Python 3 (ipykernel)",
   "language": "python",
   "name": "python3"
  },
  "language_info": {
   "codemirror_mode": {
    "name": "ipython",
    "version": 3
   },
   "file_extension": ".py",
   "mimetype": "text/x-python",
   "name": "python",
   "nbconvert_exporter": "python",
   "pygments_lexer": "ipython3",
   "version": "3.9.12"
  }
 },
 "nbformat": 4,
 "nbformat_minor": 5
}
