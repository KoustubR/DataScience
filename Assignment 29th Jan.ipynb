{
 "cells": [
  {
   "cell_type": "markdown",
   "id": "532c3f17",
   "metadata": {},
   "source": [
    "1. Who developed Python Programming Language? \n",
    "\n",
    "Ans. Guido van Rossum developed Python, which was originally made available on February 20, 1991."
   ]
  },
  {
   "cell_type": "markdown",
   "id": "139de1be",
   "metadata": {},
   "source": [
    "\n",
    "2. Which type of Programming does Python support?\n",
    "\n",
    "Ans. Python is an interpreted programming language that supports functional, object-oriented, and structured programming. \n"
   ]
  },
  {
   "cell_type": "markdown",
   "id": "cbefc9ae",
   "metadata": {},
   "source": [
    "\n",
    "3. Is Python case sensitive when dealing with identifiers? \n",
    "\n",
    "Ans. Yes, Python is a case-sensitive language, i.e., it treats uppercase and lowercase characters differently. This applies to identifiers too."
   ]
  },
  {
   "cell_type": "code",
   "execution_count": 1,
   "id": "5be4ff46",
   "metadata": {},
   "outputs": [
    {
     "name": "stdout",
     "output_type": "stream",
     "text": [
      "5 10\n"
     ]
    }
   ],
   "source": [
    "number = 5\n",
    "Number = 10\n",
    "print (number, Number)"
   ]
  },
  {
   "cell_type": "markdown",
   "id": "17b8112a",
   "metadata": {},
   "source": [
    "\n",
    "4. What is the correct extension of the Python file? \n",
    "Ans.    .py -> contains the source code of a program\n",
    "        .pyc -> bytecode of the program(after compilation of source code)\n",
    "        .ipynb -> it is a python notebook and it contains the notebook code, the execution results and other internal settings   in a specific format. \n"
   ]
  },
  {
   "cell_type": "markdown",
   "id": "d7f21f50",
   "metadata": {},
   "source": [
    "\n",
    "5. Is Python code compiled or interpreted? \n",
    "\n",
    "Ans. Python is both compiled as well as an interpreted language, which means when we run a python code, it is first compiled and then interpreted line by line.\n"
   ]
  },
  {
   "cell_type": "markdown",
   "id": "76152475",
   "metadata": {},
   "source": [
    "6. Name a few blocks of code used to define in Python language? \n",
    "\n",
    "Ans. Indentation is used to define a block of code in python. Braces {} are used to define a block of code in most programming languages, like C, C++, and Java. But this indentation makes python unique among all programming languages. This indentation highlights the block of code. In Python, indentation is done with whitespace. All statements with the same right-hand distance belong to the same code block. If a block needs to be more nested, it is indented to the right. \n",
    "Eg: The below code will print the even numbers between 1 - 21 and will give the count of number of even numbers in the end\n"
   ]
  },
  {
   "cell_type": "code",
   "execution_count": 2,
   "id": "111af5bf",
   "metadata": {},
   "outputs": [
    {
     "name": "stdout",
     "output_type": "stream",
     "text": [
      "2\n",
      "4\n",
      "6\n",
      "8\n",
      "10\n",
      "12\n",
      "14\n",
      "16\n",
      "18\n",
      "20\n",
      "The total numbers of even numbers are: 10\n"
     ]
    }
   ],
   "source": [
    "count = 0\n",
    "for i in range(1,21):\n",
    "    if i%2 ==0:\n",
    "        print(i)\n",
    "        count += 1\n",
    "print(f\"The total numbers of even numbers are: {count}\")"
   ]
  },
  {
   "cell_type": "markdown",
   "id": "abd43649",
   "metadata": {},
   "source": [
    "\n",
    "7. State a character used to give single-line comments in Python? \n",
    "\n",
    "Ans. #\n"
   ]
  },
  {
   "cell_type": "code",
   "execution_count": 4,
   "id": "24f2a4c1",
   "metadata": {},
   "outputs": [
    {
     "name": "stdout",
     "output_type": "stream",
     "text": [
      "10\n"
     ]
    }
   ],
   "source": [
    "a = 10\n",
    "# This is a single line  comment\n",
    "print(a)"
   ]
  },
  {
   "cell_type": "markdown",
   "id": "8133a9bd",
   "metadata": {},
   "source": [
    "8. Mention functions which can help us to find the version of python that we are currently working on? \n",
    "\n",
    "Ans. \n",
    "Method 1: The function sys.version can help us to find the version of python that we are currently working on. It also contains information on the build number and compiler used.\n"
   ]
  },
  {
   "cell_type": "code",
   "execution_count": 5,
   "id": "6e53a207",
   "metadata": {},
   "outputs": [
    {
     "data": {
      "text/plain": [
       "'3.9.12 (main, Apr  4 2022, 05:22:27) [MSC v.1916 64 bit (AMD64)]'"
      ]
     },
     "execution_count": 5,
     "metadata": {},
     "output_type": "execute_result"
    }
   ],
   "source": [
    "import sys\n",
    "sys.version"
   ]
  },
  {
   "cell_type": "markdown",
   "id": "269b6355",
   "metadata": {},
   "source": [
    "Method 2:  Using python_version() function\n",
    "This function is accessible by importing the platform library and will always return a string of the running user’s python version."
   ]
  },
  {
   "cell_type": "code",
   "execution_count": 6,
   "id": "7f013da3",
   "metadata": {},
   "outputs": [
    {
     "data": {
      "text/plain": [
       "'3.9.12'"
      ]
     },
     "execution_count": 6,
     "metadata": {},
     "output_type": "execute_result"
    }
   ],
   "source": [
    "from platform import python_version\n",
    "\n",
    "python_version()"
   ]
  },
  {
   "cell_type": "markdown",
   "id": "6bc70499",
   "metadata": {},
   "source": [
    "9. Python supports the creation of anonymous functions at runtime, using a construct called \n",
    "\n",
    "Ans. Lambda Functions. \n"
   ]
  },
  {
   "cell_type": "code",
   "execution_count": 7,
   "id": "48741d76",
   "metadata": {},
   "outputs": [
    {
     "name": "stdout",
     "output_type": "stream",
     "text": [
      "4\n"
     ]
    }
   ],
   "source": [
    "a = lambda x: x**2\n",
    "print(a(2))"
   ]
  },
  {
   "cell_type": "markdown",
   "id": "734a3ae8",
   "metadata": {},
   "source": [
    "10. What does pip stand for python? \n",
    "\n",
    "Ans. preferred installer program"
   ]
  },
  {
   "cell_type": "markdown",
   "id": "b1ae6608",
   "metadata": {},
   "source": [
    "11. Mention a few built-in functions in python? \n",
    "\n",
    "print( ) function -> Prints the specified message to the screen.\n",
    "\n",
    "type( ) function -> returns the datatype of an object.\n",
    "\n",
    "input( ) function -> used to take user input. By default, it returns the user input in form of a string.\n",
    "\n",
    "pow( ) function -> returns the value of x to the power of y.\n",
    "\n",
    "max( ) function -> returns the item with the highest value.\n",
    "\n",
    "round( ) function -> returns a floating point number that is a rounded version of the specified number.\n",
    "\n",
    "len( ) function -> returns the number of items in an object.\n",
    "\n",
    "sum( ) function -> sums up the numbers in the list.\n"
   ]
  },
  {
   "cell_type": "code",
   "execution_count": 8,
   "id": "b030ac15",
   "metadata": {},
   "outputs": [
    {
     "name": "stdout",
     "output_type": "stream",
     "text": [
      "Hello World\n"
     ]
    }
   ],
   "source": [
    "print('Hello World')"
   ]
  },
  {
   "cell_type": "code",
   "execution_count": 9,
   "id": "f23412a3",
   "metadata": {},
   "outputs": [
    {
     "data": {
      "text/plain": [
       "list"
      ]
     },
     "execution_count": 9,
     "metadata": {},
     "output_type": "execute_result"
    }
   ],
   "source": [
    "lst = [1, 2, 3, 4]\n",
    "type(lst)"
   ]
  },
  {
   "cell_type": "code",
   "execution_count": 10,
   "id": "de6942b1",
   "metadata": {},
   "outputs": [
    {
     "name": "stdout",
     "output_type": "stream",
     "text": [
      "Enter your nameKoustub r\n"
     ]
    }
   ],
   "source": [
    "name = input(\"Enter your name\")"
   ]
  },
  {
   "cell_type": "code",
   "execution_count": 11,
   "id": "23b145da",
   "metadata": {},
   "outputs": [
    {
     "data": {
      "text/plain": [
       "'Koustub r'"
      ]
     },
     "execution_count": 11,
     "metadata": {},
     "output_type": "execute_result"
    }
   ],
   "source": [
    "name"
   ]
  },
  {
   "cell_type": "code",
   "execution_count": 12,
   "id": "7bf7cd53",
   "metadata": {},
   "outputs": [
    {
     "data": {
      "text/plain": [
       "8"
      ]
     },
     "execution_count": 12,
     "metadata": {},
     "output_type": "execute_result"
    }
   ],
   "source": [
    "# 2 to the power 3\n",
    "pow(2,3)"
   ]
  },
  {
   "cell_type": "code",
   "execution_count": 13,
   "id": "b9a4de24",
   "metadata": {},
   "outputs": [
    {
     "data": {
      "text/plain": [
       "4"
      ]
     },
     "execution_count": 13,
     "metadata": {},
     "output_type": "execute_result"
    }
   ],
   "source": [
    "max(lst)"
   ]
  },
  {
   "cell_type": "code",
   "execution_count": 14,
   "id": "6a45ab18",
   "metadata": {},
   "outputs": [
    {
     "data": {
      "text/plain": [
       "3.1"
      ]
     },
     "execution_count": 14,
     "metadata": {},
     "output_type": "execute_result"
    }
   ],
   "source": [
    "round(3.142, 1)"
   ]
  },
  {
   "cell_type": "code",
   "execution_count": 15,
   "id": "56eb60b8",
   "metadata": {},
   "outputs": [
    {
     "data": {
      "text/plain": [
       "4"
      ]
     },
     "execution_count": 15,
     "metadata": {},
     "output_type": "execute_result"
    }
   ],
   "source": [
    "len(lst)"
   ]
  },
  {
   "cell_type": "code",
   "execution_count": 16,
   "id": "3afd4c6e",
   "metadata": {},
   "outputs": [
    {
     "data": {
      "text/plain": [
       "10"
      ]
     },
     "execution_count": 16,
     "metadata": {},
     "output_type": "execute_result"
    }
   ],
   "source": [
    "sum(lst)"
   ]
  },
  {
   "cell_type": "markdown",
   "id": "dd8fae62",
   "metadata": {},
   "source": [
    "12. What is the maximum possible length of an identifier in Python? \n",
    "\n",
    "Python identifiers are unlimited in length\" but as per PEP-8 you should limit identifier to a maximum of 79 character for better readability but there is no restriction.\n"
   ]
  },
  {
   "cell_type": "markdown",
   "id": "01ab4671",
   "metadata": {},
   "source": [
    "13. What are the benefits of using Python? \n",
    "\n",
    "->Easy to learn\n",
    "\n",
    "->Free and open source\n",
    "\n",
    "->Extensive library\n",
    "\n",
    "->Interpreted Language\n",
    "\n",
    "->Variety of applications like\n",
    "Web development\n",
    "AI, ML(data science)\n",
    "Web scraping\n",
    "Audio and visual applications.\n"
   ]
  },
  {
   "cell_type": "markdown",
   "id": "ae9a3b9c",
   "metadata": {},
   "source": [
    "14. How is memory managed in Python? \n",
    "\n",
    "Ans.\n",
    "Memory allocation can be defined as allocating a block of space in the computer memory to a program. Memory management in Python involves a private heap containing all Python objects and data structures. The management of this private heap is ensured internally by the Python memory manager. In Python  memory allocation and deallocation methods are automatic as the Python developers created a garbage collector for Python so that the user does not have to do manual garbage collection."
   ]
  },
  {
   "cell_type": "markdown",
   "id": "e5833b35",
   "metadata": {},
   "source": [
    "15. How to install Python on Windows and set path variables? \n",
    "\n",
    "Install python from this link https://www.python.org/downloads/\n",
    "\n",
    "After this, install it on your PC. Look for the location where PYTHON has been installed on your PC using the following command on your command prompt: cmd python.\n",
    "\n",
    "Then go to advanced system settings and add a new variable and name it as PYTHON_NAME and paste the copied path.\n",
    "Then look for the path variable, select it's value and select edit\n",
    "Add a semicolon towards the end of the value if it's not present and then type %PYTHON_HOME%\n"
   ]
  },
  {
   "cell_type": "markdown",
   "id": "7f93141a",
   "metadata": {},
   "source": [
    "16. Is indentation required in python? \n",
    "\n",
    "Indentation refers to the spaces at the beginning of a code line. Where in other programming languages the indentation in code is for readability only, the indentation in Python is very important. Python uses indentation to indicate a block of code."
   ]
  },
  {
   "cell_type": "code",
   "execution_count": null,
   "id": "3fe643ca",
   "metadata": {},
   "outputs": [],
   "source": []
  }
 ],
 "metadata": {
  "kernelspec": {
   "display_name": "Python 3 (ipykernel)",
   "language": "python",
   "name": "python3"
  },
  "language_info": {
   "codemirror_mode": {
    "name": "ipython",
    "version": 3
   },
   "file_extension": ".py",
   "mimetype": "text/x-python",
   "name": "python",
   "nbconvert_exporter": "python",
   "pygments_lexer": "ipython3",
   "version": "3.9.12"
  }
 },
 "nbformat": 4,
 "nbformat_minor": 5
}
