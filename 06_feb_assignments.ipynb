{
 "cells": [
  {
   "cell_type": "markdown",
   "id": "aaf78f27",
   "metadata": {},
   "source": [
    "1. Create a function which will take a list as an argument and return the product of all the numbers after creating a flat list.\n",
    "\n",
    "Use the below-given list as an argument for your function.\n",
    "list1 = [1,2,3,4, [44,55,66, True], False, (34,56,78,89,34), {1,2,3,3,2,1}, {1:34, \"key2\": [55, 67, 78, 89], 4: (45,\n",
    "22, 61, 34)}, [56, 'data science'], 'Machine Learning']\n",
    "\n",
    "Note: you must extract numeric keys and values of the dictionary also."
   ]
  },
  {
   "cell_type": "code",
   "execution_count": 5,
   "id": "38bae1d6",
   "metadata": {},
   "outputs": [],
   "source": [
    " list1 = [1,2,3,4, [44,55,66, True], False, (34,56,78,89,34), {1,2,3,3,2,1}, {1:34, \"key2\": [55, 67, 78, 89], 4: (45, 22, 61, 34)}, [56, 'data science'], 'Machine Learning']"
   ]
  },
  {
   "cell_type": "code",
   "execution_count": 6,
   "id": "9613bef1",
   "metadata": {},
   "outputs": [
    {
     "data": {
      "text/plain": [
       "4134711838987085478833841242112000"
      ]
     },
     "execution_count": 6,
     "metadata": {},
     "output_type": "execute_result"
    }
   ],
   "source": [
    "from functools import reduce\n",
    "def return_num(lst):\n",
    "    l1 =[]\n",
    "    for i in lst:\n",
    "        if isinstance(i, bool):\n",
    "            pass\n",
    "        elif isinstance(i, int) or isinstance(i, float):\n",
    "            l1.append(i)\n",
    "        elif isinstance(i, list):\n",
    "            l1.extend(return_num(i))\n",
    "        elif isinstance(i, tuple):\n",
    "            l1.extend(return_num(i))\n",
    "        elif isinstance(i, dict):\n",
    "            l1.extend(return_num(list(i.keys())))\n",
    "            l1.extend(return_num(list(i.values())))\n",
    "        elif isinstance(i, set):\n",
    "            l1.extend(return_num(i))\n",
    "    \n",
    "    return l1\n",
    "\n",
    "#return_num(list1)\n",
    "reduce(lambda x,y: x*y, return_num(list1))"
   ]
  },
  {
   "cell_type": "markdown",
   "id": "8d282d30",
   "metadata": {},
   "source": [
    "2. Write a python program for encrypting a message sent to you by your friend. The logic of encryption should be such that, for a the output should be z. For b, the output should be y. For c, the output should be x respectively. Also, the whitespace should be replaced with a dollar sign. Keep the punctuation marks unchanged.\n",
    "\n",
    "Input Sentence: I want to become a Data Scientist.\n",
    "\n",
    "Encrypt the above input sentence using the program you just created.\n",
    "\n",
    "Note: Convert the given input sentence into lowercase before encrypting. The final output should be\n",
    "lowercase."
   ]
  },
  {
   "cell_type": "code",
   "execution_count": 7,
   "id": "33329c2d",
   "metadata": {},
   "outputs": [
    {
     "data": {
      "text/plain": [
       "'I$dzmg$gl$yvxlnv$z$Dzgz$Sxrvmgrhg.'"
      ]
     },
     "execution_count": 7,
     "metadata": {},
     "output_type": "execute_result"
    }
   ],
   "source": [
    "def encrypt(msg):\n",
    "    alphabets = [' ','a', 'b', 'c', 'd', 'e', 'f', 'g', 'h', 'i', 'j', 'k', 'l', 'm', 'n', 'o', 'p', 'q', 'r', 's', 't', 'u', 'v', 'w', 'x', 'y', 'z', '$']\n",
    "    reverse = alphabets[::-1]\n",
    "    op = ''\n",
    "    for i in msg:\n",
    "        if i in alphabets:\n",
    "            op = op + reverse[alphabets.index(i)]\n",
    "        else:\n",
    "            op = op+i\n",
    "    return op\n",
    "        \n",
    "encrypt('I want to become a Data Scientist.')"
   ]
  }
 ],
 "metadata": {
  "kernelspec": {
   "display_name": "Python 3 (ipykernel)",
   "language": "python",
   "name": "python3"
  },
  "language_info": {
   "codemirror_mode": {
    "name": "ipython",
    "version": 3
   },
   "file_extension": ".py",
   "mimetype": "text/x-python",
   "name": "python",
   "nbconvert_exporter": "python",
   "pygments_lexer": "ipython3",
   "version": "3.9.12"
  }
 },
 "nbformat": 4,
 "nbformat_minor": 5
}
